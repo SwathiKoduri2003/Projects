{
  "nbformat": 4,
  "nbformat_minor": 0,
  "metadata": {
    "colab": {
      "provenance": []
    },
    "kernelspec": {
      "name": "python3",
      "display_name": "Python 3"
    },
    "language_info": {
      "name": "python"
    }
  },
  "cells": [
    {
      "cell_type": "code",
      "execution_count": 1,
      "metadata": {
        "colab": {
          "base_uri": "https://localhost:8080/",
          "height": 0
        },
        "id": "JaHdebyd-F4g",
        "outputId": "a268e6cb-1272-4b77-eed9-75295ade6e83"
      },
      "outputs": [
        {
          "output_type": "stream",
          "name": "stdout",
          "text": [
            "\u001b[2K     \u001b[90m━━━━━━━━━━━━━━━━━━━━━━━━━━━━━━━━━━━━━━━━\u001b[0m \u001b[32m49.1/49.1 kB\u001b[0m \u001b[31m807.3 kB/s\u001b[0m eta \u001b[36m0:00:00\u001b[0m\n",
            "\u001b[2K     \u001b[90m━━━━━━━━━━━━━━━━━━━━━━━━━━━━━━━━━━━━━━━━\u001b[0m \u001b[32m913.9/913.9 kB\u001b[0m \u001b[31m20.6 MB/s\u001b[0m eta \u001b[36m0:00:00\u001b[0m\n",
            "\u001b[?25h  Preparing metadata (setup.py) ... \u001b[?25l\u001b[?25hdone\n",
            "\u001b[2K   \u001b[90m━━━━━━━━━━━━━━━━━━━━━━━━━━━━━━━━━━━━━━━━\u001b[0m \u001b[32m265.3/265.3 kB\u001b[0m \u001b[31m12.1 MB/s\u001b[0m eta \u001b[36m0:00:00\u001b[0m\n",
            "\u001b[2K   \u001b[90m━━━━━━━━━━━━━━━━━━━━━━━━━━━━━━━━━━━━━━━━\u001b[0m \u001b[32m98.7/98.7 MB\u001b[0m \u001b[31m10.8 MB/s\u001b[0m eta \u001b[36m0:00:00\u001b[0m\n",
            "\u001b[2K   \u001b[90m━━━━━━━━━━━━━━━━━━━━━━━━━━━━━━━━━━━━━━━━\u001b[0m \u001b[32m1.8/1.8 MB\u001b[0m \u001b[31m40.1 MB/s\u001b[0m eta \u001b[36m0:00:00\u001b[0m\n",
            "\u001b[2K   \u001b[90m━━━━━━━━━━━━━━━━━━━━━━━━━━━━━━━━━━━━━━━━\u001b[0m \u001b[32m139.8/139.8 kB\u001b[0m \u001b[31m8.1 MB/s\u001b[0m eta \u001b[36m0:00:00\u001b[0m\n",
            "\u001b[2K   \u001b[90m━━━━━━━━━━━━━━━━━━━━━━━━━━━━━━━━━━━━━━━━\u001b[0m \u001b[32m161.7/161.7 kB\u001b[0m \u001b[31m10.1 MB/s\u001b[0m eta \u001b[36m0:00:00\u001b[0m\n",
            "\u001b[2K   \u001b[90m━━━━━━━━━━━━━━━━━━━━━━━━━━━━━━━━━━━━━━━━\u001b[0m \u001b[32m125.0/125.0 kB\u001b[0m \u001b[31m7.6 MB/s\u001b[0m eta \u001b[36m0:00:00\u001b[0m\n",
            "\u001b[2K   \u001b[90m━━━━━━━━━━━━━━━━━━━━━━━━━━━━━━━━━━━━━━━━\u001b[0m \u001b[32m447.2/447.2 kB\u001b[0m \u001b[31m21.7 MB/s\u001b[0m eta \u001b[36m0:00:00\u001b[0m\n",
            "\u001b[2K   \u001b[90m━━━━━━━━━━━━━━━━━━━━━━━━━━━━━━━━━━━━━━━━\u001b[0m \u001b[32m109.3/109.3 kB\u001b[0m \u001b[31m6.8 MB/s\u001b[0m eta \u001b[36m0:00:00\u001b[0m\n",
            "\u001b[2K   \u001b[90m━━━━━━━━━━━━━━━━━━━━━━━━━━━━━━━━━━━━━━━━\u001b[0m \u001b[32m302.0/302.0 kB\u001b[0m \u001b[31m16.2 MB/s\u001b[0m eta \u001b[36m0:00:00\u001b[0m\n",
            "\u001b[2K   \u001b[90m━━━━━━━━━━━━━━━━━━━━━━━━━━━━━━━━━━━━━━━━\u001b[0m \u001b[32m3.1/3.1 MB\u001b[0m \u001b[31m54.8 MB/s\u001b[0m eta \u001b[36m0:00:00\u001b[0m\n",
            "\u001b[2K   \u001b[90m━━━━━━━━━━━━━━━━━━━━━━━━━━━━━━━━━━━━━━━━\u001b[0m \u001b[32m1.9/1.9 MB\u001b[0m \u001b[31m52.8 MB/s\u001b[0m eta \u001b[36m0:00:00\u001b[0m\n",
            "\u001b[2K   \u001b[90m━━━━━━━━━━━━━━━━━━━━━━━━━━━━━━━━━━━━━━━━\u001b[0m \u001b[32m2.3/2.3 MB\u001b[0m \u001b[31m61.7 MB/s\u001b[0m eta \u001b[36m0:00:00\u001b[0m\n",
            "\u001b[2K   \u001b[90m━━━━━━━━━━━━━━━━━━━━━━━━━━━━━━━━━━━━━━━━\u001b[0m \u001b[32m105.0/105.0 kB\u001b[0m \u001b[31m5.5 MB/s\u001b[0m eta \u001b[36m0:00:00\u001b[0m\n",
            "\u001b[2K   \u001b[90m━━━━━━━━━━━━━━━━━━━━━━━━━━━━━━━━━━━━━━━━\u001b[0m \u001b[32m1.6/1.6 MB\u001b[0m \u001b[31m38.2 MB/s\u001b[0m eta \u001b[36m0:00:00\u001b[0m\n",
            "\u001b[2K   \u001b[90m━━━━━━━━━━━━━━━━━━━━━━━━━━━━━━━━━━━━━━━━\u001b[0m \u001b[32m194.6/194.6 kB\u001b[0m \u001b[31m8.6 MB/s\u001b[0m eta \u001b[36m0:00:00\u001b[0m\n",
            "\u001b[2K   \u001b[90m━━━━━━━━━━━━━━━━━━━━━━━━━━━━━━━━━━━━━━━━\u001b[0m \u001b[32m45.7/45.7 kB\u001b[0m \u001b[31m2.6 MB/s\u001b[0m eta \u001b[36m0:00:00\u001b[0m\n",
            "\u001b[?25h  Building wheel for svglib (setup.py) ... \u001b[?25l\u001b[?25hdone\n"
          ]
        }
      ],
      "source": [
        "#1\n",
        "%pip install -Uq upgini catboost"
      ]
    },
    {
      "cell_type": "code",
      "source": [
        "from google.colab import files\n",
        "\n",
        "uploaded = files.upload()\n"
      ],
      "metadata": {
        "colab": {
          "base_uri": "https://localhost:8080/",
          "height": 74
        },
        "id": "4-FrevQE--sJ",
        "outputId": "48e3e029-61ea-48b7-e12f-2d29231af1f0"
      },
      "execution_count": 2,
      "outputs": [
        {
          "output_type": "display_data",
          "data": {
            "text/plain": [
              "<IPython.core.display.HTML object>"
            ],
            "text/html": [
              "\n",
              "     <input type=\"file\" id=\"files-1f188ca2-85a1-46f5-80f7-97459325e554\" name=\"files[]\" multiple disabled\n",
              "        style=\"border:none\" />\n",
              "     <output id=\"result-1f188ca2-85a1-46f5-80f7-97459325e554\">\n",
              "      Upload widget is only available when the cell has been executed in the\n",
              "      current browser session. Please rerun this cell to enable.\n",
              "      </output>\n",
              "      <script>// Copyright 2017 Google LLC\n",
              "//\n",
              "// Licensed under the Apache License, Version 2.0 (the \"License\");\n",
              "// you may not use this file except in compliance with the License.\n",
              "// You may obtain a copy of the License at\n",
              "//\n",
              "//      http://www.apache.org/licenses/LICENSE-2.0\n",
              "//\n",
              "// Unless required by applicable law or agreed to in writing, software\n",
              "// distributed under the License is distributed on an \"AS IS\" BASIS,\n",
              "// WITHOUT WARRANTIES OR CONDITIONS OF ANY KIND, either express or implied.\n",
              "// See the License for the specific language governing permissions and\n",
              "// limitations under the License.\n",
              "\n",
              "/**\n",
              " * @fileoverview Helpers for google.colab Python module.\n",
              " */\n",
              "(function(scope) {\n",
              "function span(text, styleAttributes = {}) {\n",
              "  const element = document.createElement('span');\n",
              "  element.textContent = text;\n",
              "  for (const key of Object.keys(styleAttributes)) {\n",
              "    element.style[key] = styleAttributes[key];\n",
              "  }\n",
              "  return element;\n",
              "}\n",
              "\n",
              "// Max number of bytes which will be uploaded at a time.\n",
              "const MAX_PAYLOAD_SIZE = 100 * 1024;\n",
              "\n",
              "function _uploadFiles(inputId, outputId) {\n",
              "  const steps = uploadFilesStep(inputId, outputId);\n",
              "  const outputElement = document.getElementById(outputId);\n",
              "  // Cache steps on the outputElement to make it available for the next call\n",
              "  // to uploadFilesContinue from Python.\n",
              "  outputElement.steps = steps;\n",
              "\n",
              "  return _uploadFilesContinue(outputId);\n",
              "}\n",
              "\n",
              "// This is roughly an async generator (not supported in the browser yet),\n",
              "// where there are multiple asynchronous steps and the Python side is going\n",
              "// to poll for completion of each step.\n",
              "// This uses a Promise to block the python side on completion of each step,\n",
              "// then passes the result of the previous step as the input to the next step.\n",
              "function _uploadFilesContinue(outputId) {\n",
              "  const outputElement = document.getElementById(outputId);\n",
              "  const steps = outputElement.steps;\n",
              "\n",
              "  const next = steps.next(outputElement.lastPromiseValue);\n",
              "  return Promise.resolve(next.value.promise).then((value) => {\n",
              "    // Cache the last promise value to make it available to the next\n",
              "    // step of the generator.\n",
              "    outputElement.lastPromiseValue = value;\n",
              "    return next.value.response;\n",
              "  });\n",
              "}\n",
              "\n",
              "/**\n",
              " * Generator function which is called between each async step of the upload\n",
              " * process.\n",
              " * @param {string} inputId Element ID of the input file picker element.\n",
              " * @param {string} outputId Element ID of the output display.\n",
              " * @return {!Iterable<!Object>} Iterable of next steps.\n",
              " */\n",
              "function* uploadFilesStep(inputId, outputId) {\n",
              "  const inputElement = document.getElementById(inputId);\n",
              "  inputElement.disabled = false;\n",
              "\n",
              "  const outputElement = document.getElementById(outputId);\n",
              "  outputElement.innerHTML = '';\n",
              "\n",
              "  const pickedPromise = new Promise((resolve) => {\n",
              "    inputElement.addEventListener('change', (e) => {\n",
              "      resolve(e.target.files);\n",
              "    });\n",
              "  });\n",
              "\n",
              "  const cancel = document.createElement('button');\n",
              "  inputElement.parentElement.appendChild(cancel);\n",
              "  cancel.textContent = 'Cancel upload';\n",
              "  const cancelPromise = new Promise((resolve) => {\n",
              "    cancel.onclick = () => {\n",
              "      resolve(null);\n",
              "    };\n",
              "  });\n",
              "\n",
              "  // Wait for the user to pick the files.\n",
              "  const files = yield {\n",
              "    promise: Promise.race([pickedPromise, cancelPromise]),\n",
              "    response: {\n",
              "      action: 'starting',\n",
              "    }\n",
              "  };\n",
              "\n",
              "  cancel.remove();\n",
              "\n",
              "  // Disable the input element since further picks are not allowed.\n",
              "  inputElement.disabled = true;\n",
              "\n",
              "  if (!files) {\n",
              "    return {\n",
              "      response: {\n",
              "        action: 'complete',\n",
              "      }\n",
              "    };\n",
              "  }\n",
              "\n",
              "  for (const file of files) {\n",
              "    const li = document.createElement('li');\n",
              "    li.append(span(file.name, {fontWeight: 'bold'}));\n",
              "    li.append(span(\n",
              "        `(${file.type || 'n/a'}) - ${file.size} bytes, ` +\n",
              "        `last modified: ${\n",
              "            file.lastModifiedDate ? file.lastModifiedDate.toLocaleDateString() :\n",
              "                                    'n/a'} - `));\n",
              "    const percent = span('0% done');\n",
              "    li.appendChild(percent);\n",
              "\n",
              "    outputElement.appendChild(li);\n",
              "\n",
              "    const fileDataPromise = new Promise((resolve) => {\n",
              "      const reader = new FileReader();\n",
              "      reader.onload = (e) => {\n",
              "        resolve(e.target.result);\n",
              "      };\n",
              "      reader.readAsArrayBuffer(file);\n",
              "    });\n",
              "    // Wait for the data to be ready.\n",
              "    let fileData = yield {\n",
              "      promise: fileDataPromise,\n",
              "      response: {\n",
              "        action: 'continue',\n",
              "      }\n",
              "    };\n",
              "\n",
              "    // Use a chunked sending to avoid message size limits. See b/62115660.\n",
              "    let position = 0;\n",
              "    do {\n",
              "      const length = Math.min(fileData.byteLength - position, MAX_PAYLOAD_SIZE);\n",
              "      const chunk = new Uint8Array(fileData, position, length);\n",
              "      position += length;\n",
              "\n",
              "      const base64 = btoa(String.fromCharCode.apply(null, chunk));\n",
              "      yield {\n",
              "        response: {\n",
              "          action: 'append',\n",
              "          file: file.name,\n",
              "          data: base64,\n",
              "        },\n",
              "      };\n",
              "\n",
              "      let percentDone = fileData.byteLength === 0 ?\n",
              "          100 :\n",
              "          Math.round((position / fileData.byteLength) * 100);\n",
              "      percent.textContent = `${percentDone}% done`;\n",
              "\n",
              "    } while (position < fileData.byteLength);\n",
              "  }\n",
              "\n",
              "  // All done.\n",
              "  yield {\n",
              "    response: {\n",
              "      action: 'complete',\n",
              "    }\n",
              "  };\n",
              "}\n",
              "\n",
              "scope.google = scope.google || {};\n",
              "scope.google.colab = scope.google.colab || {};\n",
              "scope.google.colab._files = {\n",
              "  _uploadFiles,\n",
              "  _uploadFilesContinue,\n",
              "};\n",
              "})(self);\n",
              "</script> "
            ]
          },
          "metadata": {}
        },
        {
          "output_type": "stream",
          "name": "stdout",
          "text": [
            "Saving train.csv to train.csv\n"
          ]
        }
      ]
    },
    {
      "cell_type": "code",
      "source": [
        "#2\n",
        "import pandas as pd\n",
        "df = pd.read_csv(\"train.csv\")"
      ],
      "metadata": {
        "id": "Iz1YkNAn_9Mg"
      },
      "execution_count": 3,
      "outputs": []
    },
    {
      "cell_type": "code",
      "source": [
        "#3\n",
        "df = df.sample(n = 19_000, random_state=0)\n",
        "df[\"store\"] = df[\"store\"].astype(str)\n",
        "df[\"item\"] = df[\"item\"].astype(str)\n",
        "df[\"date\"] = pd.to_datetime(df[\"date\"])\n",
        "\n",
        "df.sort_values(\"date\", inplace = True)\n",
        "df.reset_index(inplace = True, drop = True)\n",
        "df.head()"
      ],
      "metadata": {
        "colab": {
          "base_uri": "https://localhost:8080/",
          "height": 206
        },
        "id": "iCl4z_gUDNT-",
        "outputId": "eebac556-dc67-4172-da87-19e35727e430"
      },
      "execution_count": 4,
      "outputs": [
        {
          "output_type": "execute_result",
          "data": {
            "text/plain": [
              "        date store item  sales\n",
              "0 2013-01-01     7    5      5\n",
              "1 2013-01-01     4    9     19\n",
              "2 2013-01-01     1   33     37\n",
              "3 2013-01-01     3   41     14\n",
              "4 2013-01-01     5   24     26"
            ],
            "text/html": [
              "\n",
              "  <div id=\"df-993fd1e0-f570-43f6-9b9c-818ee960f22d\" class=\"colab-df-container\">\n",
              "    <div>\n",
              "<style scoped>\n",
              "    .dataframe tbody tr th:only-of-type {\n",
              "        vertical-align: middle;\n",
              "    }\n",
              "\n",
              "    .dataframe tbody tr th {\n",
              "        vertical-align: top;\n",
              "    }\n",
              "\n",
              "    .dataframe thead th {\n",
              "        text-align: right;\n",
              "    }\n",
              "</style>\n",
              "<table border=\"1\" class=\"dataframe\">\n",
              "  <thead>\n",
              "    <tr style=\"text-align: right;\">\n",
              "      <th></th>\n",
              "      <th>date</th>\n",
              "      <th>store</th>\n",
              "      <th>item</th>\n",
              "      <th>sales</th>\n",
              "    </tr>\n",
              "  </thead>\n",
              "  <tbody>\n",
              "    <tr>\n",
              "      <th>0</th>\n",
              "      <td>2013-01-01</td>\n",
              "      <td>7</td>\n",
              "      <td>5</td>\n",
              "      <td>5</td>\n",
              "    </tr>\n",
              "    <tr>\n",
              "      <th>1</th>\n",
              "      <td>2013-01-01</td>\n",
              "      <td>4</td>\n",
              "      <td>9</td>\n",
              "      <td>19</td>\n",
              "    </tr>\n",
              "    <tr>\n",
              "      <th>2</th>\n",
              "      <td>2013-01-01</td>\n",
              "      <td>1</td>\n",
              "      <td>33</td>\n",
              "      <td>37</td>\n",
              "    </tr>\n",
              "    <tr>\n",
              "      <th>3</th>\n",
              "      <td>2013-01-01</td>\n",
              "      <td>3</td>\n",
              "      <td>41</td>\n",
              "      <td>14</td>\n",
              "    </tr>\n",
              "    <tr>\n",
              "      <th>4</th>\n",
              "      <td>2013-01-01</td>\n",
              "      <td>5</td>\n",
              "      <td>24</td>\n",
              "      <td>26</td>\n",
              "    </tr>\n",
              "  </tbody>\n",
              "</table>\n",
              "</div>\n",
              "    <div class=\"colab-df-buttons\">\n",
              "\n",
              "  <div class=\"colab-df-container\">\n",
              "    <button class=\"colab-df-convert\" onclick=\"convertToInteractive('df-993fd1e0-f570-43f6-9b9c-818ee960f22d')\"\n",
              "            title=\"Convert this dataframe to an interactive table.\"\n",
              "            style=\"display:none;\">\n",
              "\n",
              "  <svg xmlns=\"http://www.w3.org/2000/svg\" height=\"24px\" viewBox=\"0 -960 960 960\">\n",
              "    <path d=\"M120-120v-720h720v720H120Zm60-500h600v-160H180v160Zm220 220h160v-160H400v160Zm0 220h160v-160H400v160ZM180-400h160v-160H180v160Zm440 0h160v-160H620v160ZM180-180h160v-160H180v160Zm440 0h160v-160H620v160Z\"/>\n",
              "  </svg>\n",
              "    </button>\n",
              "\n",
              "  <style>\n",
              "    .colab-df-container {\n",
              "      display:flex;\n",
              "      gap: 12px;\n",
              "    }\n",
              "\n",
              "    .colab-df-convert {\n",
              "      background-color: #E8F0FE;\n",
              "      border: none;\n",
              "      border-radius: 50%;\n",
              "      cursor: pointer;\n",
              "      display: none;\n",
              "      fill: #1967D2;\n",
              "      height: 32px;\n",
              "      padding: 0 0 0 0;\n",
              "      width: 32px;\n",
              "    }\n",
              "\n",
              "    .colab-df-convert:hover {\n",
              "      background-color: #E2EBFA;\n",
              "      box-shadow: 0px 1px 2px rgba(60, 64, 67, 0.3), 0px 1px 3px 1px rgba(60, 64, 67, 0.15);\n",
              "      fill: #174EA6;\n",
              "    }\n",
              "\n",
              "    .colab-df-buttons div {\n",
              "      margin-bottom: 4px;\n",
              "    }\n",
              "\n",
              "    [theme=dark] .colab-df-convert {\n",
              "      background-color: #3B4455;\n",
              "      fill: #D2E3FC;\n",
              "    }\n",
              "\n",
              "    [theme=dark] .colab-df-convert:hover {\n",
              "      background-color: #434B5C;\n",
              "      box-shadow: 0px 1px 3px 1px rgba(0, 0, 0, 0.15);\n",
              "      filter: drop-shadow(0px 1px 2px rgba(0, 0, 0, 0.3));\n",
              "      fill: #FFFFFF;\n",
              "    }\n",
              "  </style>\n",
              "\n",
              "    <script>\n",
              "      const buttonEl =\n",
              "        document.querySelector('#df-993fd1e0-f570-43f6-9b9c-818ee960f22d button.colab-df-convert');\n",
              "      buttonEl.style.display =\n",
              "        google.colab.kernel.accessAllowed ? 'block' : 'none';\n",
              "\n",
              "      async function convertToInteractive(key) {\n",
              "        const element = document.querySelector('#df-993fd1e0-f570-43f6-9b9c-818ee960f22d');\n",
              "        const dataTable =\n",
              "          await google.colab.kernel.invokeFunction('convertToInteractive',\n",
              "                                                    [key], {});\n",
              "        if (!dataTable) return;\n",
              "\n",
              "        const docLinkHtml = 'Like what you see? Visit the ' +\n",
              "          '<a target=\"_blank\" href=https://colab.research.google.com/notebooks/data_table.ipynb>data table notebook</a>'\n",
              "          + ' to learn more about interactive tables.';\n",
              "        element.innerHTML = '';\n",
              "        dataTable['output_type'] = 'display_data';\n",
              "        await google.colab.output.renderOutput(dataTable, element);\n",
              "        const docLink = document.createElement('div');\n",
              "        docLink.innerHTML = docLinkHtml;\n",
              "        element.appendChild(docLink);\n",
              "      }\n",
              "    </script>\n",
              "  </div>\n",
              "\n",
              "\n",
              "<div id=\"df-7ec84d8a-386c-46dc-9890-acb877dc06d0\">\n",
              "  <button class=\"colab-df-quickchart\" onclick=\"quickchart('df-7ec84d8a-386c-46dc-9890-acb877dc06d0')\"\n",
              "            title=\"Suggest charts\"\n",
              "            style=\"display:none;\">\n",
              "\n",
              "<svg xmlns=\"http://www.w3.org/2000/svg\" height=\"24px\"viewBox=\"0 0 24 24\"\n",
              "     width=\"24px\">\n",
              "    <g>\n",
              "        <path d=\"M19 3H5c-1.1 0-2 .9-2 2v14c0 1.1.9 2 2 2h14c1.1 0 2-.9 2-2V5c0-1.1-.9-2-2-2zM9 17H7v-7h2v7zm4 0h-2V7h2v10zm4 0h-2v-4h2v4z\"/>\n",
              "    </g>\n",
              "</svg>\n",
              "  </button>\n",
              "\n",
              "<style>\n",
              "  .colab-df-quickchart {\n",
              "      --bg-color: #E8F0FE;\n",
              "      --fill-color: #1967D2;\n",
              "      --hover-bg-color: #E2EBFA;\n",
              "      --hover-fill-color: #174EA6;\n",
              "      --disabled-fill-color: #AAA;\n",
              "      --disabled-bg-color: #DDD;\n",
              "  }\n",
              "\n",
              "  [theme=dark] .colab-df-quickchart {\n",
              "      --bg-color: #3B4455;\n",
              "      --fill-color: #D2E3FC;\n",
              "      --hover-bg-color: #434B5C;\n",
              "      --hover-fill-color: #FFFFFF;\n",
              "      --disabled-bg-color: #3B4455;\n",
              "      --disabled-fill-color: #666;\n",
              "  }\n",
              "\n",
              "  .colab-df-quickchart {\n",
              "    background-color: var(--bg-color);\n",
              "    border: none;\n",
              "    border-radius: 50%;\n",
              "    cursor: pointer;\n",
              "    display: none;\n",
              "    fill: var(--fill-color);\n",
              "    height: 32px;\n",
              "    padding: 0;\n",
              "    width: 32px;\n",
              "  }\n",
              "\n",
              "  .colab-df-quickchart:hover {\n",
              "    background-color: var(--hover-bg-color);\n",
              "    box-shadow: 0 1px 2px rgba(60, 64, 67, 0.3), 0 1px 3px 1px rgba(60, 64, 67, 0.15);\n",
              "    fill: var(--button-hover-fill-color);\n",
              "  }\n",
              "\n",
              "  .colab-df-quickchart-complete:disabled,\n",
              "  .colab-df-quickchart-complete:disabled:hover {\n",
              "    background-color: var(--disabled-bg-color);\n",
              "    fill: var(--disabled-fill-color);\n",
              "    box-shadow: none;\n",
              "  }\n",
              "\n",
              "  .colab-df-spinner {\n",
              "    border: 2px solid var(--fill-color);\n",
              "    border-color: transparent;\n",
              "    border-bottom-color: var(--fill-color);\n",
              "    animation:\n",
              "      spin 1s steps(1) infinite;\n",
              "  }\n",
              "\n",
              "  @keyframes spin {\n",
              "    0% {\n",
              "      border-color: transparent;\n",
              "      border-bottom-color: var(--fill-color);\n",
              "      border-left-color: var(--fill-color);\n",
              "    }\n",
              "    20% {\n",
              "      border-color: transparent;\n",
              "      border-left-color: var(--fill-color);\n",
              "      border-top-color: var(--fill-color);\n",
              "    }\n",
              "    30% {\n",
              "      border-color: transparent;\n",
              "      border-left-color: var(--fill-color);\n",
              "      border-top-color: var(--fill-color);\n",
              "      border-right-color: var(--fill-color);\n",
              "    }\n",
              "    40% {\n",
              "      border-color: transparent;\n",
              "      border-right-color: var(--fill-color);\n",
              "      border-top-color: var(--fill-color);\n",
              "    }\n",
              "    60% {\n",
              "      border-color: transparent;\n",
              "      border-right-color: var(--fill-color);\n",
              "    }\n",
              "    80% {\n",
              "      border-color: transparent;\n",
              "      border-right-color: var(--fill-color);\n",
              "      border-bottom-color: var(--fill-color);\n",
              "    }\n",
              "    90% {\n",
              "      border-color: transparent;\n",
              "      border-bottom-color: var(--fill-color);\n",
              "    }\n",
              "  }\n",
              "</style>\n",
              "\n",
              "  <script>\n",
              "    async function quickchart(key) {\n",
              "      const quickchartButtonEl =\n",
              "        document.querySelector('#' + key + ' button');\n",
              "      quickchartButtonEl.disabled = true;  // To prevent multiple clicks.\n",
              "      quickchartButtonEl.classList.add('colab-df-spinner');\n",
              "      try {\n",
              "        const charts = await google.colab.kernel.invokeFunction(\n",
              "            'suggestCharts', [key], {});\n",
              "      } catch (error) {\n",
              "        console.error('Error during call to suggestCharts:', error);\n",
              "      }\n",
              "      quickchartButtonEl.classList.remove('colab-df-spinner');\n",
              "      quickchartButtonEl.classList.add('colab-df-quickchart-complete');\n",
              "    }\n",
              "    (() => {\n",
              "      let quickchartButtonEl =\n",
              "        document.querySelector('#df-7ec84d8a-386c-46dc-9890-acb877dc06d0 button');\n",
              "      quickchartButtonEl.style.display =\n",
              "        google.colab.kernel.accessAllowed ? 'block' : 'none';\n",
              "    })();\n",
              "  </script>\n",
              "</div>\n",
              "\n",
              "    </div>\n",
              "  </div>\n"
            ],
            "application/vnd.google.colaboratory.intrinsic+json": {
              "type": "dataframe",
              "variable_name": "df",
              "summary": "{\n  \"name\": \"df\",\n  \"rows\": 19000,\n  \"fields\": [\n    {\n      \"column\": \"date\",\n      \"properties\": {\n        \"dtype\": \"date\",\n        \"min\": \"2013-01-01 00:00:00\",\n        \"max\": \"2017-12-31 00:00:00\",\n        \"num_unique_values\": 1826,\n        \"samples\": [\n          \"2015-09-26 00:00:00\",\n          \"2017-02-27 00:00:00\",\n          \"2013-10-26 00:00:00\"\n        ],\n        \"semantic_type\": \"\",\n        \"description\": \"\"\n      }\n    },\n    {\n      \"column\": \"store\",\n      \"properties\": {\n        \"dtype\": \"category\",\n        \"num_unique_values\": 10,\n        \"samples\": [\n          \"9\",\n          \"4\",\n          \"2\"\n        ],\n        \"semantic_type\": \"\",\n        \"description\": \"\"\n      }\n    },\n    {\n      \"column\": \"item\",\n      \"properties\": {\n        \"dtype\": \"category\",\n        \"num_unique_values\": 50,\n        \"samples\": [\n          \"40\",\n          \"43\",\n          \"20\"\n        ],\n        \"semantic_type\": \"\",\n        \"description\": \"\"\n      }\n    },\n    {\n      \"column\": \"sales\",\n      \"properties\": {\n        \"dtype\": \"number\",\n        \"std\": 28,\n        \"min\": 1,\n        \"max\": 205,\n        \"num_unique_values\": 173,\n        \"samples\": [\n          196,\n          63,\n          94\n        ],\n        \"semantic_type\": \"\",\n        \"description\": \"\"\n      }\n    }\n  ]\n}"
            }
          },
          "metadata": {},
          "execution_count": 4
        }
      ]
    },
    {
      "cell_type": "code",
      "source": [
        "#4\n",
        "train = df[df[\"date\"]<\"2017-01-01\"]\n",
        "test = df[df[\"date\"]>=\"2017-01-01\"]"
      ],
      "metadata": {
        "id": "RGL2AD18I-WU"
      },
      "execution_count": 5,
      "outputs": []
    },
    {
      "cell_type": "code",
      "source": [
        "#5\n",
        "train_features = train.drop(columns=[\"sales\"])\n",
        "train_target = train[\"sales\"]\n",
        "test_features = test.drop(columns=[\"sales\"])\n",
        "test_target = test[\"sales\"]"
      ],
      "metadata": {
        "id": "fCa-8f7GdsQ3"
      },
      "execution_count": 6,
      "outputs": []
    },
    {
      "cell_type": "code",
      "source": [
        "#6\n",
        "from upgini import FeaturesEnricher, SearchKey\n",
        "from upgini.metadata import CVType\n",
        "\n",
        "enricher = FeaturesEnricher(\n",
        "    search_keys = {\n",
        "        \"date\": SearchKey.DATE\n",
        "    },\n",
        "    cv = CVType.time_series\n",
        ")\n",
        "enricher.fit(train_features,train_target,eval_set=[(test_features,test_target)])"
      ],
      "metadata": {
        "colab": {
          "base_uri": "https://localhost:8080/",
          "height": 3491
        },
        "id": "zHxG_DPmewAA",
        "outputId": "ef41b94c-ce10-45cc-c9f0-cf47038c4d30"
      },
      "execution_count": 7,
      "outputs": [
        {
          "output_type": "display_data",
          "data": {
            "text/plain": [
              "[============================================================] 100% Finished"
            ],
            "text/html": [
              "<progress style='width:60ex' max='100' value='100'></progress>  100% Finished</br>"
            ]
          },
          "metadata": {}
        },
        {
          "output_type": "display_data",
          "data": {
            "text/plain": [
              "<IPython.core.display.Javascript object>"
            ],
            "application/javascript": [
              "\n",
              "                    async function getVisitorId() {\n",
              "                        return import('https://upgini.github.io/upgini/js/a.js')\n",
              "                            .then(FingerprintJS => FingerprintJS.load())\n",
              "                            .then(fp => fp.get())\n",
              "                            .then(result => result.visitorId);\n",
              "                    }\n",
              "                    "
            ]
          },
          "metadata": {}
        },
        {
          "output_type": "display_data",
          "data": {
            "text/plain": [
              "<IPython.core.display.Javascript object>"
            ],
            "application/javascript": [
              "\n",
              "                    async function getVisitorId() {\n",
              "                        return import('https://upgini.github.io/upgini/js/a.js')\n",
              "                            .then(FingerprintJS => FingerprintJS.load())\n",
              "                            .then(fp => fp.get())\n",
              "                            .then(result => result.visitorId);\n",
              "                    }\n",
              "                    "
            ]
          },
          "metadata": {}
        },
        {
          "output_type": "display_data",
          "data": {
            "text/plain": [
              "<IPython.core.display.Javascript object>"
            ],
            "application/javascript": [
              "\n",
              "                    async function getVisitorId() {\n",
              "                        return import('https://upgini.github.io/upgini/js/a.js')\n",
              "                            .then(FingerprintJS => FingerprintJS.load())\n",
              "                            .then(fp => fp.get())\n",
              "                            .then(result => result.visitorId);\n",
              "                    }\n",
              "                    "
            ]
          },
          "metadata": {}
        },
        {
          "output_type": "display_data",
          "data": {
            "text/plain": [
              "<IPython.core.display.Javascript object>"
            ],
            "application/javascript": [
              "\n",
              "                    async function getVisitorId() {\n",
              "                        return import('https://upgini.github.io/upgini/js/a.js')\n",
              "                            .then(FingerprintJS => FingerprintJS.load())\n",
              "                            .then(fp => fp.get())\n",
              "                            .then(result => result.visitorId);\n",
              "                    }\n",
              "                    "
            ]
          },
          "metadata": {}
        },
        {
          "output_type": "display_data",
          "data": {
            "text/plain": [
              "<IPython.core.display.Javascript object>"
            ],
            "application/javascript": [
              "\n",
              "                    async function getVisitorId() {\n",
              "                        return import('https://upgini.github.io/upgini/js/a.js')\n",
              "                            .then(FingerprintJS => FingerprintJS.load())\n",
              "                            .then(fp => fp.get())\n",
              "                            .then(result => result.visitorId);\n",
              "                    }\n",
              "                    "
            ]
          },
          "metadata": {}
        },
        {
          "output_type": "display_data",
          "data": {
            "text/plain": [
              "<IPython.core.display.Javascript object>"
            ],
            "application/javascript": [
              "\n",
              "                    async function getVisitorId() {\n",
              "                        return import('https://upgini.github.io/upgini/js/a.js')\n",
              "                            .then(FingerprintJS => FingerprintJS.load())\n",
              "                            .then(fp => fp.get())\n",
              "                            .then(result => result.visitorId);\n",
              "                    }\n",
              "                    "
            ]
          },
          "metadata": {}
        },
        {
          "output_type": "display_data",
          "data": {
            "text/plain": [
              "<IPython.core.display.Javascript object>"
            ],
            "application/javascript": [
              "\n",
              "                    async function getVisitorId() {\n",
              "                        return import('https://upgini.github.io/upgini/js/a.js')\n",
              "                            .then(FingerprintJS => FingerprintJS.load())\n",
              "                            .then(fp => fp.get())\n",
              "                            .then(result => result.visitorId);\n",
              "                    }\n",
              "                    "
            ]
          },
          "metadata": {}
        },
        {
          "output_type": "stream",
          "name": "stdout",
          "text": [
            "WARNING #1: Search started with DATE search key only\n",
            "Try to add other keys like the COUNTRY, POSTAL_CODE, PHONE NUMBER, EMAIL/HEM, IP to your training dataset\n",
            "for search through all the available data sources.\n",
            "See docs https://github.com/upgini/upgini#-total-239-countries-and-up-to-41-years-of-history\n",
            "\n"
          ]
        },
        {
          "output_type": "display_data",
          "data": {
            "text/plain": [
              "<IPython.core.display.Javascript object>"
            ],
            "application/javascript": [
              "\n",
              "                    async function getVisitorId() {\n",
              "                        return import('https://upgini.github.io/upgini/js/a.js')\n",
              "                            .then(FingerprintJS => FingerprintJS.load())\n",
              "                            .then(fp => fp.get())\n",
              "                            .then(result => result.visitorId);\n",
              "                    }\n",
              "                    "
            ]
          },
          "metadata": {}
        },
        {
          "output_type": "display_data",
          "data": {
            "text/plain": [
              "<IPython.core.display.Javascript object>"
            ],
            "application/javascript": [
              "\n",
              "                    async function getVisitorId() {\n",
              "                        return import('https://upgini.github.io/upgini/js/a.js')\n",
              "                            .then(FingerprintJS => FingerprintJS.load())\n",
              "                            .then(fp => fp.get())\n",
              "                            .then(result => result.visitorId);\n",
              "                    }\n",
              "                    "
            ]
          },
          "metadata": {}
        },
        {
          "output_type": "stream",
          "name": "stdout",
          "text": [
            "\n",
            "Detected task type: ModelTaskType.REGRESSION. Reason: date search key is present, treating as regression\n",
            "You can set task type manually with argument `model_task_type` of FeaturesEnricher constructor if task type detected incorrectly\n",
            "\n"
          ]
        },
        {
          "output_type": "display_data",
          "data": {
            "text/plain": [
              "<IPython.core.display.Javascript object>"
            ],
            "application/javascript": [
              "\n",
              "                    async function getVisitorId() {\n",
              "                        return import('https://upgini.github.io/upgini/js/a.js')\n",
              "                            .then(FingerprintJS => FingerprintJS.load())\n",
              "                            .then(fp => fp.get())\n",
              "                            .then(result => result.visitorId);\n",
              "                    }\n",
              "                    "
            ]
          },
          "metadata": {}
        },
        {
          "output_type": "display_data",
          "data": {
            "text/plain": [
              "<IPython.core.display.Javascript object>"
            ],
            "application/javascript": [
              "\n",
              "                    async function getVisitorId() {\n",
              "                        return import('https://upgini.github.io/upgini/js/a.js')\n",
              "                            .then(FingerprintJS => FingerprintJS.load())\n",
              "                            .then(fp => fp.get())\n",
              "                            .then(result => result.visitorId);\n",
              "                    }\n",
              "                    "
            ]
          },
          "metadata": {}
        },
        {
          "output_type": "display_data",
          "data": {
            "text/plain": [
              "<IPython.core.display.Javascript object>"
            ],
            "application/javascript": [
              "\n",
              "                    async function getVisitorId() {\n",
              "                        return import('https://upgini.github.io/upgini/js/a.js')\n",
              "                            .then(FingerprintJS => FingerprintJS.load())\n",
              "                            .then(fp => fp.get())\n",
              "                            .then(result => result.visitorId);\n",
              "                    }\n",
              "                    "
            ]
          },
          "metadata": {}
        },
        {
          "output_type": "stream",
          "name": "stdout",
          "text": [
            "WARNING #2: Your training sample is unstable in number of rows per date. It is recommended to redesign the training sample\n",
            "\n"
          ]
        },
        {
          "output_type": "display_data",
          "data": {
            "text/plain": [
              "<IPython.core.display.Javascript object>"
            ],
            "application/javascript": [
              "\n",
              "                    async function getVisitorId() {\n",
              "                        return import('https://upgini.github.io/upgini/js/a.js')\n",
              "                            .then(FingerprintJS => FingerprintJS.load())\n",
              "                            .then(fp => fp.get())\n",
              "                            .then(result => result.visitorId);\n",
              "                    }\n",
              "                    "
            ]
          },
          "metadata": {}
        },
        {
          "output_type": "display_data",
          "data": {
            "text/plain": [
              "<IPython.core.display.Javascript object>"
            ],
            "application/javascript": [
              "\n",
              "                    async function getVisitorId() {\n",
              "                        return import('https://upgini.github.io/upgini/js/a.js')\n",
              "                            .then(FingerprintJS => FingerprintJS.load())\n",
              "                            .then(fp => fp.get())\n",
              "                            .then(result => result.visitorId);\n",
              "                    }\n",
              "                    "
            ]
          },
          "metadata": {}
        },
        {
          "output_type": "display_data",
          "data": {
            "text/plain": [
              "<IPython.core.display.Javascript object>"
            ],
            "application/javascript": [
              "\n",
              "                    async function getVisitorId() {\n",
              "                        return import('https://upgini.github.io/upgini/js/a.js')\n",
              "                            .then(FingerprintJS => FingerprintJS.load())\n",
              "                            .then(fp => fp.get())\n",
              "                            .then(result => result.visitorId);\n",
              "                    }\n",
              "                    "
            ]
          },
          "metadata": {}
        },
        {
          "output_type": "display_data",
          "data": {
            "text/plain": [
              "<IPython.core.display.HTML object>"
            ],
            "text/html": [
              "<table><tr><th style='font-weight:bold'>Column name</th><th style='font-weight:bold'>Status</th><th style='font-weight:bold'>Errors</th></tr><tr><td>date</td><td style='background-color:#DAF7A6;color:black'>All valid</td><td>-</td></tr><tr><td>target</td><td style='background-color:#DAF7A6;color:black'>All valid</td><td>-</td></tr></table>"
            ]
          },
          "metadata": {}
        },
        {
          "output_type": "stream",
          "name": "stdout",
          "text": [
            "\n"
          ]
        },
        {
          "output_type": "display_data",
          "data": {
            "text/plain": [
              "<IPython.core.display.Javascript object>"
            ],
            "application/javascript": [
              "\n",
              "                    async function getVisitorId() {\n",
              "                        return import('https://upgini.github.io/upgini/js/a.js')\n",
              "                            .then(FingerprintJS => FingerprintJS.load())\n",
              "                            .then(fp => fp.get())\n",
              "                            .then(result => result.visitorId);\n",
              "                    }\n",
              "                    "
            ]
          },
          "metadata": {}
        },
        {
          "output_type": "display_data",
          "data": {
            "text/plain": [
              "<IPython.core.display.Javascript object>"
            ],
            "application/javascript": [
              "\n",
              "                    async function getVisitorId() {\n",
              "                        return import('https://upgini.github.io/upgini/js/a.js')\n",
              "                            .then(FingerprintJS => FingerprintJS.load())\n",
              "                            .then(fp => fp.get())\n",
              "                            .then(result => result.visitorId);\n",
              "                    }\n",
              "                    "
            ]
          },
          "metadata": {}
        },
        {
          "output_type": "display_data",
          "data": {
            "text/plain": [
              "<IPython.core.display.Javascript object>"
            ],
            "application/javascript": [
              "\n",
              "                        async function getIP() {\n",
              "                            return fetch(\"https://api64.ipify.org\")\n",
              "                                .then(response => response.text())\n",
              "                                .then(data => data);\n",
              "                        }\n",
              "                        "
            ]
          },
          "metadata": {}
        },
        {
          "output_type": "display_data",
          "data": {
            "text/plain": [
              "<IPython.core.display.Javascript object>"
            ],
            "application/javascript": [
              "\n",
              "                        async function getIP() {\n",
              "                            return fetch(\"https://api64.ipify.org\")\n",
              "                                .then(response => response.text())\n",
              "                                .then(data => data);\n",
              "                        }\n",
              "                        "
            ]
          },
          "metadata": {}
        },
        {
          "output_type": "display_data",
          "data": {
            "text/plain": [
              "<IPython.core.display.Javascript object>"
            ],
            "application/javascript": [
              "\n",
              "                        async function getIP() {\n",
              "                            return fetch(\"https://api64.ipify.org\")\n",
              "                                .then(response => response.text())\n",
              "                                .then(data => data);\n",
              "                        }\n",
              "                        "
            ]
          },
          "metadata": {}
        },
        {
          "output_type": "display_data",
          "data": {
            "text/plain": [
              "<IPython.core.display.Javascript object>"
            ],
            "application/javascript": [
              "\n",
              "                        async function getIP() {\n",
              "                            return fetch(\"https://api64.ipify.org\")\n",
              "                                .then(response => response.text())\n",
              "                                .then(data => data);\n",
              "                        }\n",
              "                        "
            ]
          },
          "metadata": {}
        },
        {
          "output_type": "display_data",
          "data": {
            "text/plain": [
              "<IPython.core.display.Javascript object>"
            ],
            "application/javascript": [
              "\n",
              "                        async function getIP() {\n",
              "                            return fetch(\"https://api64.ipify.org\")\n",
              "                                .then(response => response.text())\n",
              "                                .then(data => data);\n",
              "                        }\n",
              "                        "
            ]
          },
          "metadata": {}
        },
        {
          "output_type": "display_data",
          "data": {
            "text/plain": [
              "<IPython.core.display.Javascript object>"
            ],
            "application/javascript": [
              "\n",
              "                        async function getIP() {\n",
              "                            return fetch(\"https://api64.ipify.org\")\n",
              "                                .then(response => response.text())\n",
              "                                .then(data => data);\n",
              "                        }\n",
              "                        "
            ]
          },
          "metadata": {}
        },
        {
          "output_type": "display_data",
          "data": {
            "text/plain": [
              "<IPython.core.display.Javascript object>"
            ],
            "application/javascript": [
              "\n",
              "                        async function getIP() {\n",
              "                            return fetch(\"https://api64.ipify.org\")\n",
              "                                .then(response => response.text())\n",
              "                                .then(data => data);\n",
              "                        }\n",
              "                        "
            ]
          },
          "metadata": {}
        },
        {
          "output_type": "display_data",
          "data": {
            "text/plain": [
              "<IPython.core.display.Javascript object>"
            ],
            "application/javascript": [
              "\n",
              "                        async function getIP() {\n",
              "                            return fetch(\"https://api64.ipify.org\")\n",
              "                                .then(response => response.text())\n",
              "                                .then(data => data);\n",
              "                        }\n",
              "                        "
            ]
          },
          "metadata": {}
        },
        {
          "output_type": "display_data",
          "data": {
            "text/plain": [
              "<IPython.core.display.Javascript object>"
            ],
            "application/javascript": [
              "\n",
              "                        async function getIP() {\n",
              "                            return fetch(\"https://api64.ipify.org\")\n",
              "                                .then(response => response.text())\n",
              "                                .then(data => data);\n",
              "                        }\n",
              "                        "
            ]
          },
          "metadata": {}
        },
        {
          "output_type": "display_data",
          "data": {
            "text/plain": [
              "<IPython.core.display.Javascript object>"
            ],
            "application/javascript": [
              "\n",
              "                        async function getIP() {\n",
              "                            return fetch(\"https://api64.ipify.org\")\n",
              "                                .then(response => response.text())\n",
              "                                .then(data => data);\n",
              "                        }\n",
              "                        "
            ]
          },
          "metadata": {}
        },
        {
          "output_type": "display_data",
          "data": {
            "text/plain": [
              "<IPython.core.display.Javascript object>"
            ],
            "application/javascript": [
              "\n",
              "                        async function getIP() {\n",
              "                            return fetch(\"https://api64.ipify.org\")\n",
              "                                .then(response => response.text())\n",
              "                                .then(data => data);\n",
              "                        }\n",
              "                        "
            ]
          },
          "metadata": {}
        },
        {
          "output_type": "display_data",
          "data": {
            "text/plain": [
              "<IPython.core.display.Javascript object>"
            ],
            "application/javascript": [
              "\n",
              "                        async function getIP() {\n",
              "                            return fetch(\"https://api64.ipify.org\")\n",
              "                                .then(response => response.text())\n",
              "                                .then(data => data);\n",
              "                        }\n",
              "                        "
            ]
          },
          "metadata": {}
        },
        {
          "output_type": "display_data",
          "data": {
            "text/plain": [
              "<IPython.core.display.Javascript object>"
            ],
            "application/javascript": [
              "\n",
              "                        async function getIP() {\n",
              "                            return fetch(\"https://api64.ipify.org\")\n",
              "                                .then(response => response.text())\n",
              "                                .then(data => data);\n",
              "                        }\n",
              "                        "
            ]
          },
          "metadata": {}
        },
        {
          "output_type": "display_data",
          "data": {
            "text/plain": [
              "<IPython.core.display.Javascript object>"
            ],
            "application/javascript": [
              "\n",
              "                        async function getIP() {\n",
              "                            return fetch(\"https://api64.ipify.org\")\n",
              "                                .then(response => response.text())\n",
              "                                .then(data => data);\n",
              "                        }\n",
              "                        "
            ]
          },
          "metadata": {}
        },
        {
          "output_type": "display_data",
          "data": {
            "text/plain": [
              "<IPython.core.display.Javascript object>"
            ],
            "application/javascript": [
              "\n",
              "                        async function getIP() {\n",
              "                            return fetch(\"https://api64.ipify.org\")\n",
              "                                .then(response => response.text())\n",
              "                                .then(data => data);\n",
              "                        }\n",
              "                        "
            ]
          },
          "metadata": {}
        },
        {
          "output_type": "display_data",
          "data": {
            "text/plain": [
              "<IPython.core.display.Javascript object>"
            ],
            "application/javascript": [
              "\n",
              "                        async function getIP() {\n",
              "                            return fetch(\"https://api64.ipify.org\")\n",
              "                                .then(response => response.text())\n",
              "                                .then(data => data);\n",
              "                        }\n",
              "                        "
            ]
          },
          "metadata": {}
        },
        {
          "output_type": "display_data",
          "data": {
            "text/plain": [
              "<IPython.core.display.Javascript object>"
            ],
            "application/javascript": [
              "\n",
              "                        async function getIP() {\n",
              "                            return fetch(\"https://api64.ipify.org\")\n",
              "                                .then(response => response.text())\n",
              "                                .then(data => data);\n",
              "                        }\n",
              "                        "
            ]
          },
          "metadata": {}
        },
        {
          "output_type": "stream",
          "name": "stdout",
          "text": [
            "\n",
            "Running search request, search_id=74dfff18-4102-4818-82b8-b5c8a114518e\n",
            "We'll send email notification once it's completed, just use your personal api_key from profile.upgini.com\n",
            "\n",
            "\u001b[92m\u001b[1m\n",
            "37 relevant feature(s) found with the search keys: ['date']\u001b[0m\n"
          ]
        },
        {
          "output_type": "display_data",
          "data": {
            "text/plain": [
              "<IPython.core.display.HTML object>"
            ],
            "text/html": [
              "<style>\n",
              "            .upgini-df thead th {\n",
              "                font-weight:bold;\n",
              "                text-align: center;\n",
              "                padding: 0.5em;\n",
              "                border-bottom: 2px solid black;\n",
              "            }\n",
              "\n",
              "            .upgini-df tbody td {\n",
              "                padding: 0.5em;\n",
              "            }\n",
              "\n",
              "            .upgini-df tbody tr:nth-child(odd) {\n",
              "                background-color: #ffffff;\n",
              "            }\n",
              "\n",
              "            .upgini-df tbody tr:nth-child(even) {\n",
              "                background-color: #f2f2f2;\n",
              "            }\n",
              "\n",
              "            .upgini-text {\n",
              "                text-align: left;\n",
              "            }\n",
              "\n",
              "            .upgini-number {\n",
              "                text-align: center;\n",
              "            }\n",
              "        </style>\n",
              "        <h2>Relevant features</h2>\n",
              "        <div style=\"display:flex; flex-direction:column; align-items:flex-end; width: fit-content;\">\n",
              "            \n",
              "            <div style=\"text-align: right\">\n",
              "                <button onclick=navigator.clipboard.writeText(decodeURI('Feature%20name%09SHAP%20value%09Coverage%20%25%09Value%20preview%09Provider%09Source%09Updates%0Aitem%0910.9409%09100.0%0927,%2038,%2022%09%09%09%0Astore%095.9673%09100.0%091,%209,%208%09%09%09%0Af_events_date_year_cos1_9014a856%094.3715%09100.0%09-1.0,%20-0.8867,%20-0.805%09Upgini%09Calendar%20data%09Daily%0Af_autofe_lag_7d_44ccb1e1%091.6936%0999.48070728981791%090.9906,%200.4674,%20-0.7776%09Training%20dataset%09AutoFE%3A%20features%20from%20Training%20dataset,%3Ca%20href%3D%27https%3A%2F%2Fupgini.com%2F%23data_sources%27%20target%3D%27_blank%27%20rel%3D%27noopener%20noreferrer%27%3ECalendar%20data%3C%2Fa%3E%09Daily%0Af_autofe_lag_3d_d168eb3e%091.261%0999.78308026030369%090.7818,%200.4339,%20-0.9749%09Training%20dataset%09AutoFE%3A%20features%20from%20Training%20dataset,%3Ca%20href%3D%27https%3A%2F%2Fupgini.com%2F%23data_sources%27%20target%3D%27_blank%27%20rel%3D%27noopener%20noreferrer%27%3ECalendar%20data%3C%2Fa%3E%09Daily%0Af_events_date_week_sin1_847b5db1%090.9548%09100.0%09-0.9749,%20-0.4339,%20-0.9749%09Upgini%09Calendar%20data%09Daily%0Af_autofe_lag_3d_5dba02da%090.7407%0999.78308026030369%09376.27,%20346.67,%20329.78%09Training%20dataset%09AutoFE%3A%20features%20from%20Training%20dataset,%3Ca%20href%3D%27https%3A%2F%2Fupgini.com%2F%23data_sources%27%20target%3D%27_blank%27%20rel%3D%27noopener%20noreferrer%27%3EMarkets%20data%3C%2Fa%3E%09Daily%0Af_financial_date_gold_bf71e733%090.7402%09100.0%091211.1,%201062.9,%201153.4%09Upgini%09Markets%20data%09Daily%0Af_autofe_lag_7d_6354b8dc%090.6349%0999.48070728981791%09340.77,%20341.25,%20390.07%09Training%20dataset%09AutoFE%3A%20features%20from%20Training%20dataset,%3Ca%20href%3D%27https%3A%2F%2Fupgini.com%2F%23data_sources%27%20target%3D%27_blank%27%20rel%3D%27noopener%20noreferrer%27%3EMarkets%20data%3C%2Fa%3E%09Daily%0Af_autofe_lag_7d_24084e88%090.5429%0999.48070728981791%090.7818,%20-0.9749,%200.4339%09Training%20dataset%09AutoFE%3A%20features%20from%20Training%20dataset,%3Ca%20href%3D%27https%3A%2F%2Fupgini.com%2F%23data_sources%27%20target%3D%27_blank%27%20rel%3D%27noopener%20noreferrer%27%3ECalendar%20data%3C%2Fa%3E%09Daily%0Af_autofe_lag_2d_1947d061%090.5071%0999.85538684020246%09-0.901,%201.0,%20-0.901%09Training%20dataset%09AutoFE%3A%20features%20from%20Training%20dataset,%3Ca%20href%3D%27https%3A%2F%2Fupgini.com%2F%23data_sources%27%20target%3D%27_blank%27%20rel%3D%27noopener%20noreferrer%27%3ECalendar%20data%3C%2Fa%3E%09Daily%0Af_autofe_roll_7d_norm_mean_f4c75f3e%090.4357%0999.5530138697167%090.9817,%200.781,%201.093%09Training%20dataset%09AutoFE%3A%20features%20from%20Training%20dataset,%3Ca%20href%3D%27https%3A%2F%2Fupgini.com%2F%23data_sources%27%20target%3D%27_blank%27%20rel%3D%27noopener%20noreferrer%27%3ECalendar%20data%3C%2Fa%3E%09Daily%0Af_autofe_lag_3d_7d332726%090.4328%0999.78308026030369%091595.2,%201331.6,%201218.0%09Training%20dataset%09AutoFE%3A%20features%20from%20Training%20dataset,%3Ca%20href%3D%27https%3A%2F%2Fupgini.com%2F%23data_sources%27%20target%3D%27_blank%27%20rel%3D%27noopener%20noreferrer%27%3EMarkets%20data%3C%2Fa%3E%09Daily%0Af_autofe_lag_1d_5138dd83%090.423%0999.93426674554658%09-0.4339,%200.7818,%200.4339%09Training%20dataset%09AutoFE%3A%20features%20from%20Training%20dataset,%3Ca%20href%3D%27https%3A%2F%2Fupgini.com%2F%23data_sources%27%20target%3D%27_blank%27%20rel%3D%27noopener%20noreferrer%27%3ECalendar%20data%3C%2Fa%3E%09Daily%0Af_autofe_roll_7d_norm_mean_b8cbc4e4%090.3182%0942.936961808979156%096.305039478318694e%2B16,%205.68064...%09Training%20dataset%09AutoFE%3A%20features%20from%20Training%20dataset,%3Ca%20href%3D%27https%3A%2F%2Fupgini.com%2F%23data_sources%27%20target%3D%27_blank%27%20rel%3D%27noopener%20noreferrer%27%3ECalendar%20data%3C%2Fa%3E%09Daily%0Af_autofe_roll_3d_median_67a4ca4c%090.2815%0999.85538684020246%090.6235,%200.6235,%20-0.2225%09Training%20dataset%09AutoFE%3A%20features%20from%20Training%20dataset,%3Ca%20href%3D%27https%3A%2F%2Fupgini.com%2F%23data_sources%27%20target%3D%27_blank%27%20rel%3D%27noopener%20noreferrer%27%3ECalendar%20data%3C%2Fa%3E%09Daily%0Af_autofe_roll_2d_min_bd3d6759%090.2457%0999.93426674554658%09-0.2225,%20-0.901,%20-0.2225%09Training%20dataset%09AutoFE%3A%20features%20from%20Training%20dataset,%3Ca%20href%3D%27https%3A%2F%2Fupgini.com%2F%23data_sources%27%20target%3D%27_blank%27%20rel%3D%27noopener%20noreferrer%27%3ECalendar%20data%3C%2Fa%3E%09Daily%0Af_autofe_lag_7d_298854c4%090.2094%0999.48070728981791%090.7478,%200.7252,%201.2119%09Training%20dataset%09AutoFE%3A%20features%20from%20Training%20dataset,%3Ca%20href%3D%27https%3A%2F%2Fupgini.com%2F%23data_sources%27%20target%3D%27_blank%27%20rel%3D%27noopener%20noreferrer%27%3EMarkets%20data%3C%2Fa%3E%09Daily%0Af_autofe_roll_3d_std_43db36b9%090.191%0999.85538684020246%090.9207,%200.4619,%201.2568%09Training%20dataset%09AutoFE%3A%20features%20from%20Training%20dataset,%3Ca%20href%3D%27https%3A%2F%2Fupgini.com%2F%23data_sources%27%20target%3D%27_blank%27%20rel%3D%27noopener%20noreferrer%27%3EMarkets%20data%3C%2Fa%3E%09Daily%0Af_financial_date_natural_gas_7d_to_7d_1y_shift_a5c3c07f%090.1753%09100.0%091.1341,%201.2953,%200.6008%09Upgini%09Markets%20data%09Daily%0Af_financial_date_crude_oil_1f195998%090.1507%09100.0%0939.72,%2095.77,%2095.77%09Upgini%09Markets%20data%09Daily%0Af_autofe_roll_3d_std_cf25c6ce%090.1395%0999.85538684020246%092.5808,%200.9026,%201.3972%09Training%20dataset%09AutoFE%3A%20features%20from%20Training%20dataset,%3Ca%20href%3D%27https%3A%2F%2Fupgini.com%2F%23data_sources%27%20target%3D%27_blank%27%20rel%3D%27noopener%20noreferrer%27%3EMarkets%20data%3C%2Fa%3E%09Daily%0Af_autofe_lag_7d_80f1c53c%090.1252%0999.48070728981791%091238.9,%201392.6,%201309.2%09Training%20dataset%09AutoFE%3A%20features%20from%20Training%20dataset,%3Ca%20href%3D%27https%3A%2F%2Fupgini.com%2F%23data_sources%27%20target%3D%27_blank%27%20rel%3D%27noopener%20noreferrer%27%3EMarkets%20data%3C%2Fa%3E%09Daily%0Af_autofe_roll_7d_median_8e1a5fee%090.0988%0999.5530138697167%090.8749,%200.8928,%201.0691%09Training%20dataset%09AutoFE%3A%20features%20from%20Training%20dataset,%3Ca%20href%3D%27https%3A%2F%2Fupgini.com%2F%23data_sources%27%20target%3D%27_blank%27%20rel%3D%27noopener%20noreferrer%27%3EMarkets%20data%3C%2Fa%3E%09Daily%0Af_autofe_roll_3d_std_8d2902a0%090.0941%0999.85538684020246%090.0018,%200.0017,%200.001%09Training%20dataset%09AutoFE%3A%20features%20from%20Training%20dataset,%3Ca%20href%3D%27https%3A%2F%2Fupgini.com%2F%23data_sources%27%20target%3D%27_blank%27%20rel%3D%27noopener%20noreferrer%27%3EMarkets%20data%3C%2Fa%3E%09Daily%0Af_autofe_roll_2d_norm_mean_f727ebb5%090.0893%0982.99480707289818%09-4.0999,%201.6539,%205.1429%09Training%20dataset%09AutoFE%3A%20features%20from%20Training%20dataset,%3Ca%20href%3D%27https%3A%2F%2Fupgini.com%2F%23data_sources%27%20target%3D%27_blank%27%20rel%3D%27noopener%20noreferrer%27%3EMarkets%20data%3C%2Fa%3E%09Daily%0Af_autofe_roll_2d_std_5994058b%090.0865%0999.93426674554658%091.2799,%201.6829,%200.8697%09Training%20dataset%09AutoFE%3A%20features%20from%20Training%20dataset,%3Ca%20href%3D%27https%3A%2F%2Fupgini.com%2F%23data_sources%27%20target%3D%27_blank%27%20rel%3D%27noopener%20noreferrer%27%3EMarkets%20data%3C%2Fa%3E%09Daily%0Af_autofe_lag_1d_1e473dd0%090.0775%0999.93426674554658%09-0.55,%200.15,%200.33%09Training%20dataset%09AutoFE%3A%20features%20from%20Training%20dataset,%3Ca%20href%3D%27https%3A%2F%2Fupgini.com%2F%23data_sources%27%20target%3D%27_blank%27%20rel%3D%27noopener%20noreferrer%27%3EMarkets%20data%3C%2Fa%3E%09Daily%0Af_autofe_roll_3d_norm_mean_d3a34f3f%090.0757%0999.85538684020246%090.0,%201.0047,%201.0015%09Training%20dataset%09AutoFE%3A%20features%20from%20Training%20dataset,%3Ca%20href%3D%27https%3A%2F%2Fupgini.com%2F%23data_sources%27%20target%3D%27_blank%27%20rel%3D%27noopener%20noreferrer%27%3ECalendar%20data%3C%2Fa%3E%09Daily%0Af_autofe_roll_3d_std_e0a7813d%090.0605%0999.85538684020246%090.19,%200.8051,%200.05%09Training%20dataset%09AutoFE%3A%20features%20from%20Training%20dataset,%3Ca%20href%3D%27https%3A%2F%2Fupgini.com%2F%23data_sources%27%20target%3D%27_blank%27%20rel%3D%27noopener%20noreferrer%27%3EMarkets%20data%3C%2Fa%3E%09Daily%0Af_autofe_roll_2d_norm_mean_85d150da%090.0593%0982.48866101360679%0922.0049,%200.3386,%201.3335%09Training%20dataset%09AutoFE%3A%20features%20from%20Training%20dataset,%3Ca%20href%3D%27https%3A%2F%2Fupgini.com%2F%23data_sources%27%20target%3D%27_blank%27%20rel%3D%27noopener%20noreferrer%27%3EMarkets%20data%3C%2Fa%3E%09Daily%0Af_autofe_roll_2d_norm_mean_fe42d9a4%090.0577%0999.93426674554658%091.0049,%201.0135,%201.0%09Training%20dataset%09AutoFE%3A%20features%20from%20Training%20dataset,%3Ca%20href%3D%27https%3A%2F%2Fupgini.com%2F%23data_sources%27%20target%3D%27_blank%27%20rel%3D%27noopener%20noreferrer%27%3ECalendar%20data%3C%2Fa%3E%09Daily%0Af_autofe_roll_2d_std_6466a8eb%090.0366%0999.93426674554658%090.0516,%200.0078,%200.082%09Training%20dataset%09AutoFE%3A%20features%20from%20Training%20dataset,%3Ca%20href%3D%27https%3A%2F%2Fupgini.com%2F%23data_sources%27%20target%3D%27_blank%27%20rel%3D%27noopener%20noreferrer%27%3EMarkets%20data%3C%2Fa%3E%09Daily%0Af_autofe_lag_1d_8255eb29%090.0327%0999.93426674554658%09-1.19,%200.2,%20-0.13%09Training%20dataset%09AutoFE%3A%20features%20from%20Training%20dataset,%3Ca%20href%3D%27https%3A%2F%2Fupgini.com%2F%23data_sources%27%20target%3D%27_blank%27%20rel%3D%27noopener%20noreferrer%27%3EMarkets%20data%3C%2Fa%3E%09Daily%0Af_autofe_roll_2d_std_b88ae2e3%090.0108%0999.93426674554658%090.1492,%200.1358,%200.0813%09Training%20dataset%09AutoFE%3A%20features%20from%20Training%20dataset,%3Ca%20href%3D%27https%3A%2F%2Fupgini.com%2F%23data_sources%27%20target%3D%27_blank%27%20rel%3D%27noopener%20noreferrer%27%3EMarkets%20data%3C%2Fa%3E%09Daily%0Af_autofe_roll_2d_min_aa7719e1%090.0058%0999.93426674554658%09-0.334,%20-0.141,%200.06%09Training%20dataset%09AutoFE%3A%20features%20from%20Training%20dataset,%3Ca%20href%3D%27https%3A%2F%2Fupgini.com%2F%23data_sources%27%20target%3D%27_blank%27%20rel%3D%27noopener%20noreferrer%27%3EMarkets%20data%3C%2Fa%3E%09Daily%0Af_autofe_lag_3d_3c41924a%090.0056%0999.78308026030369%09-0.297,%200.026,%200.331%09Training%20dataset%09AutoFE%3A%20features%20from%20Training%20dataset,%3Ca%20href%3D%27https%3A%2F%2Fupgini.com%2F%23data_sources%27%20target%3D%27_blank%27%20rel%3D%27noopener%20noreferrer%27%3EMarkets%20data%3C%2Fa%3E%09Daily%0A'))>📂 Copy</button>\n",
              "                <a href='mailto:<Share with...>?subject=Relevant external data sources from Upgini.com&body=Feature%20name%09SHAP%20value%09Coverage%20%25%09Value%20preview%09Provider%09Source%09Updates%0Aitem%0910.9409%09100.0%0927,%2038,%2022%09%09%09%0Astore%095.9673%09100.0%091,%209,%208%09%09%09%0Af_events_date_year_cos1_9014a856%094.3715%09100.0%09-1.0,%20-0.8867,%20-0.805%09Upgini%09Calendar%20data%09Daily%0Af_autofe_lag_7d_44ccb1e1%091.6936%0999.48070728981791%090.9906,%200.4674,%20-0.7776%09Training%20dataset%09AutoFE%3A%20features%20from%20Training%20dataset,%3Ca%20href%3D%27https%3A%2F%2Fupgini.com%2F%23data_sources%27%20target%3D%27_blank%27%20rel%3D%27noopener%20noreferrer%27%3ECalendar%20data%3C%2Fa%3E%09Daily%0Af_autofe_lag_3d_d168eb3e%091.261%0999.78308026030369%090.7818,%200.4339,%20-0.9749%09Training%20dataset%09AutoFE%3A%20features%20from%20Training%20dataset,%3Ca%20href%3D%27https%3A%2F%2Fupgini.com%2F%23data_sources%27%20target%3D%27_blank%27%20rel%3D%27noopener%20noreferrer%27%3ECalendar%20data%3C%2Fa%3E%09Daily%0Af_events_date_week_sin1_847b5db1%090.9548%09100.0%09-0.9749,%20-0.4339,%20-0.9749%09Upgini%09Calendar%20data%09Daily%0Af_autofe_lag_3d_5dba02da%090.7407%0999.78308026030369%09376.27,%20346.67,%20329.78%09Training%20dataset%09AutoFE%3A%20features%20from%20Training%20dataset,%3Ca%20href%3D%27https%3A%2F%2Fupgini.com%2F%23data_sources%27%20target%3D%27_blank%27%20rel%3D%27noopener%20noreferrer%27%3EMarkets%20data%3C%2Fa%3E%09Daily%0Af_financial_date_gold_bf71e733%090.7402%09100.0%091211.1,%201062.9,%201153.4%09Upgini%09Markets%20data%09Daily%0Af_autofe_lag_7d_6354b8dc%090.6349%0999.48070728981791%09340.77,%20341.25,%20390.07%09Training%20dataset%09AutoFE%3A%20features%20from%20Training%20dataset,%3Ca%20href%3D%27https%3A%2F%2Fupgini.com%2F%23data_sources%27%20target%3D%27_blank%27%20rel%3D%27noopener%20noreferrer%27%3EMarkets%20data%3C%2Fa%3E%09Daily%0Af_autofe_lag_7d_24084e88%090.5429%0999.48070728981791%090.7818,%20-0.9749,%200.4339%09Training%20dataset%09AutoFE%3A%20features%20from%20Training%20dataset,%3Ca%20href%3D%27https%3A%2F%2Fupgini.com%2F%23data_sources%27%20target%3D%27_blank%27%20rel%3D%27noopener%20noreferrer%27%3ECalendar%20data%3C%2Fa%3E%09Daily%0Af_autofe_lag_2d_1947d061%090.5071%0999.85538684020246%09-0.901,%201.0,%20-0.901%09Training%20dataset%09AutoFE%3A%20features%20from%20Training%20dataset,%3Ca%20href%3D%27https%3A%2F%2Fupgini.com%2F%23data_sources%27%20target%3D%27_blank%27%20rel%3D%27noopener%20noreferrer%27%3ECalendar%20data%3C%2Fa%3E%09Daily%0Af_autofe_roll_7d_norm_mean_f4c75f3e%090.4357%0999.5530138697167%090.9817,%200.781,%201.093%09Training%20dataset%09AutoFE%3A%20features%20from%20Training%20dataset,%3Ca%20href%3D%27https%3A%2F%2Fupgini.com%2F%23data_sources%27%20target%3D%27_blank%27%20rel%3D%27noopener%20noreferrer%27%3ECalendar%20data%3C%2Fa%3E%09Daily%0Af_autofe_lag_3d_7d332726%090.4328%0999.78308026030369%091595.2,%201331.6,%201218.0%09Training%20dataset%09AutoFE%3A%20features%20from%20Training%20dataset,%3Ca%20href%3D%27https%3A%2F%2Fupgini.com%2F%23data_sources%27%20target%3D%27_blank%27%20rel%3D%27noopener%20noreferrer%27%3EMarkets%20data%3C%2Fa%3E%09Daily%0Af_autofe_lag_1d_5138dd83%090.423%0999.93426674554658%09-0.4339,%200.7818,%200.4339%09Training%20dataset%09AutoFE%3A%20features%20from%20Training%20dataset,%3Ca%20href%3D%27https%3A%2F%2Fupgini.com%2F%23data_sources%27%20target%3D%27_blank%27%20rel%3D%27noopener%20noreferrer%27%3ECalendar%20data%3C%2Fa%3E%09Daily%0Af_autofe_roll_7d_norm_mean_b8cbc4e4%090.3182%0942.936961808979156%096.305039478318694e%2B16,%205.68064...%09Training%20dataset%09AutoFE%3A%20features%20from%20Training%20dataset,%3Ca%20href%3D%27https%3A%2F%2Fupgini.com%2F%23data_sources%27%20target%3D%27_blank%27%20rel%3D%27noopener%20noreferrer%27%3ECalendar%20data%3C%2Fa%3E%09Daily%0Af_autofe_roll_3d_median_67a4ca4c%090.2815%0999.85538684020246%090.6235,%200.6235,%20-0.2225%09Training%20dataset%09AutoFE%3A%20features%20from%20Training%20dataset,%3Ca%20href%3D%27https%3A%2F%2Fupgini.com%2F%23data_sources%27%20target%3D%27_blank%27%20rel%3D%27noopener%20noreferrer%27%3ECalendar%20data%3C%2Fa%3E%09Daily%0Af_autofe_roll_2d_min_bd3d6759%090.2457%0999.93426674554658%09-0.2225,%20-0.901,%20-0.2225%09Training%20dataset%09AutoFE%3A%20features%20from%20Training%20dataset,%3Ca%20href%3D%27https%3A%2F%2Fupgini.com%2F%23data_sources%27%20target%3D%27_blank%27%20rel%3D%27noopener%20noreferrer%27%3ECalendar%20data%3C%2Fa%3E%09Daily%0Af_autofe_lag_7d_298854c4%090.2094%0999.48070728981791%090.7478,%200.7252,%201.2119%09Training%20dataset%09AutoFE%3A%20features%20from%20Training%20dataset,%3Ca%20href%3D%27https%3A%2F%2Fupgini.com%2F%23data_sources%27%20target%3D%27_blank%27%20rel%3D%27noopener%20noreferrer%27%3EMarkets%20data%3C%2Fa%3E%09Daily%0Af_autofe_roll_3d_std_43db36b9%090.191%0999.85538684020246%090.9207,%200.4619,%201.2568%09Training%20dataset%09AutoFE%3A%20features%20from%20Training%20dataset,%3Ca%20href%3D%27https%3A%2F%2Fupgini.com%2F%23data_sources%27%20target%3D%27_blank%27%20rel%3D%27noopener%20noreferrer%27%3EMarkets%20data%3C%2Fa%3E%09Daily%0Af_financial_date_natural_gas_7d_to_7d_1y_shift_a5c3c07f%090.1753%09100.0%091.1341,%201.2953,%200.6008%09Upgini%09Markets%20data%09Daily%0Af_financial_date_crude_oil_1f195998%090.1507%09100.0%0939.72,%2095.77,%2095.77%09Upgini%09Markets%20data%09Daily%0Af_autofe_roll_3d_std_cf25c6ce%090.1395%0999.85538684020246%092.5808,%200.9026,%201.3972%09Training%20dataset%09AutoFE%3A%20features%20from%20Training%20dataset,%3Ca%20href%3D%27https%3A%2F%2Fupgini.com%2F%23data_sources%27%20target%3D%27_blank%27%20rel%3D%27noopener%20noreferrer%27%3EMarkets%20data%3C%2Fa%3E%09Daily%0Af_autofe_lag_7d_80f1c53c%090.1252%0999.48070728981791%091238.9,%201392.6,%201309.2%09Training%20dataset%09AutoFE%3A%20features%20from%20Training%20dataset,%3Ca%20href%3D%27https%3A%2F%2Fupgini.com%2F%23data_sources%27%20target%3D%27_blank%27%20rel%3D%27noopener%20noreferrer%27%3EMarkets%20data%3C%2Fa%3E%09Daily%0Af_autofe_roll_7d_median_8e1a5fee%090.0988%0999.5530138697167%090.8749,%200.8928,%201.0691%09Training%20dataset%09AutoFE%3A%20features%20from%20Training%20dataset,%3Ca%20href%3D%27https%3A%2F%2Fupgini.com%2F%23data_sources%27%20target%3D%27_blank%27%20rel%3D%27noopener%20noreferrer%27%3EMarkets%20data%3C%2Fa%3E%09Daily%0Af_autofe_roll_3d_std_8d2902a0%090.0941%0999.85538684020246%090.0018,%200.0017,%200.001%09Training%20dataset%09AutoFE%3A%20features%20from%20Training%20dataset,%3Ca%20href%3D%27https%3A%2F%2Fupgini.com%2F%23data_sources%27%20target%3D%27_blank%27%20rel%3D%27noopener%20noreferrer%27%3EMarkets%20data%3C%2Fa%3E%09Daily%0Af_autofe_roll_2d_norm_mean_f727ebb5%090.0893%0982.99480707289818%09-4.0999,%201.6539,%205.1429%09Training%20dataset%09AutoFE%3A%20features%20from%20Training%20dataset,%3Ca%20href%3D%27https%3A%2F%2Fupgini.com%2F%23data_sources%27%20target%3D%27_blank%27%20rel%3D%27noopener%20noreferrer%27%3EMarkets%20data%3C%2Fa%3E%09Daily%0Af_autofe_roll_2d_std_5994058b%090.0865%0999.93426674554658%091.2799,%201.6829,%200.8697%09Training%20dataset%09AutoFE%3A%20features%20from%20Training%20dataset,%3Ca%20href%3D%27https%3A%2F%2Fupgini.com%2F%23data_sources%27%20target%3D%27_blank%27%20rel%3D%27noopener%20noreferrer%27%3EMarkets%20data%3C%2Fa%3E%09Daily%0Af_autofe_lag_1d_1e473dd0%090.0775%0999.93426674554658%09-0.55,%200.15,%200.33%09Training%20dataset%09AutoFE%3A%20features%20from%20Training%20dataset,%3Ca%20href%3D%27https%3A%2F%2Fupgini.com%2F%23data_sources%27%20target%3D%27_blank%27%20rel%3D%27noopener%20noreferrer%27%3EMarkets%20data%3C%2Fa%3E%09Daily%0Af_autofe_roll_3d_norm_mean_d3a34f3f%090.0757%0999.85538684020246%090.0,%201.0047,%201.0015%09Training%20dataset%09AutoFE%3A%20features%20from%20Training%20dataset,%3Ca%20href%3D%27https%3A%2F%2Fupgini.com%2F%23data_sources%27%20target%3D%27_blank%27%20rel%3D%27noopener%20noreferrer%27%3ECalendar%20data%3C%2Fa%3E%09Daily%0Af_autofe_roll_3d_std_e0a7813d%090.0605%0999.85538684020246%090.19,%200.8051,%200.05%09Training%20dataset%09AutoFE%3A%20features%20from%20Training%20dataset,%3Ca%20href%3D%27https%3A%2F%2Fupgini.com%2F%23data_sources%27%20target%3D%27_blank%27%20rel%3D%27noopener%20noreferrer%27%3EMarkets%20data%3C%2Fa%3E%09Daily%0Af_autofe_roll_2d_norm_mean_85d150da%090.0593%0982.48866101360679%0922.0049,%200.3386,%201.3335%09Training%20dataset%09AutoFE%3A%20features%20from%20Training%20dataset,%3Ca%20href%3D%27https%3A%2F%2Fupgini.com%2F%23data_sources%27%20target%3D%27_blank%27%20rel%3D%27noopener%20noreferrer%27%3EMarkets%20data%3C%2Fa%3E%09Daily%0Af_autofe_roll_2d_norm_mean_fe42d9a4%090.0577%0999.93426674554658%091.0049,%201.0135,%201.0%09Training%20dataset%09AutoFE%3A%20features%20from%20Training%20dataset,%3Ca%20href%3D%27https%3A%2F%2Fupgini.com%2F%23data_sources%27%20target%3D%27_blank%27%20rel%3D%27noopener%20noreferrer%27%3ECalendar%20data%3C%2Fa%3E%09Daily%0Af_autofe_roll_2d_std_6466a8eb%090.0366%0999.93426674554658%090.0516,%200.0078,%200.082%09Training%20dataset%09AutoFE%3A%20features%20from%20Training%20dataset,%3Ca%20href%3D%27https%3A%2F%2Fupgini.com%2F%23data_sources%27%20target%3D%27_blank%27%20rel%3D%27noopener%20noreferrer%27%3EMarkets%20data%3C%2Fa%3E%09Daily%0Af_autofe_lag_1d_8255eb29%090.0327%0999.93426674554658%09-1.19,%200.2,%20-0.13%09Training%20dataset%09AutoFE%3A%20features%20from%20Training%20dataset,%3Ca%20href%3D%27https%3A%2F%2Fupgini.com%2F%23data_sources%27%20target%3D%27_blank%27%20rel%3D%27noopener%20noreferrer%27%3EMarkets%20data%3C%2Fa%3E%09Daily%0Af_autofe_roll_2d_std_b88ae2e3%090.0108%0999.93426674554658%090.1492,%200.1358,%200.0813%09Training%20dataset%09AutoFE%3A%20features%20from%20Training%20dataset,%3Ca%20href%3D%27https%3A%2F%2Fupgini.com%2F%23data_sources%27%20target%3D%27_blank%27%20rel%3D%27noopener%20noreferrer%27%3EMarkets%20data%3C%2Fa%3E%09Daily%0Af_autofe_roll_2d_min_aa7719e1%090.0058%0999.93426674554658%09-0.334,%20-0.141,%200.06%09Training%20dataset%09AutoFE%3A%20features%20from%20Training%20dataset,%3Ca%20href%3D%27https%3A%2F%2Fupgini.com%2F%23data_sources%27%20target%3D%27_blank%27%20rel%3D%27noopener%20noreferrer%27%3EMarkets%20data%3C%2Fa%3E%09Daily%0Af_autofe_lag_3d_3c41924a%090.0056%0999.78308026030369%09-0.297,%200.026,%200.331%09Training%20dataset%09AutoFE%3A%20features%20from%20Training%20dataset,%3Ca%20href%3D%27https%3A%2F%2Fupgini.com%2F%23data_sources%27%20target%3D%27_blank%27%20rel%3D%27noopener%20noreferrer%27%3EMarkets%20data%3C%2Fa%3E%09Daily%0A'>\n",
              "                    <button>📨 Share</button>\n",
              "                </a>\n",
              "            </div>\n",
              "            <table class='upgini-df'><thead><th>Feature name</th><th>SHAP value</th><th>Coverage %</th><th>Value preview</th><th>Provider</th><th>Source</th><th>Updates</th></thead><tbody><tr><td class='upgini-text'>item</td><td class='upgini-number'>10.9409</td><td class='upgini-number'>100.0000</td><td class='upgini-text'>27, 38, 22</td><td class='upgini-text'>&nbsp;</td><td class='upgini-text'>&nbsp;</td><td class='upgini-text'>&nbsp;</td></tr><tr><td class='upgini-text'>store</td><td class='upgini-number'>5.9673</td><td class='upgini-number'>100.0000</td><td class='upgini-text'>1, 9, 8</td><td class='upgini-text'>&nbsp;</td><td class='upgini-text'>&nbsp;</td><td class='upgini-text'>&nbsp;</td></tr><tr><td class='upgini-text'><a href='https://docs.upgini.com/public/calendar/calendar#f_events_date_year_cos1_9014a856' target='_blank' rel='noopener noreferrer'>f_events_date_year_cos1_9014a856</a></td><td class='upgini-number'>4.3715</td><td class='upgini-number'>100.0000</td><td class='upgini-text'>-1.0, -0.8867, -0.805</td><td class='upgini-text'><a href='https://upgini.com/' target='_blank' rel='noopener noreferrer'>Upgini</a></td><td class='upgini-text'><a href='https://upgini.com/#data_sources' target='_blank' rel='noopener noreferrer'>Calendar data</a></td><td class='upgini-text'>Daily</td></tr><tr><td class='upgini-text'>f_autofe_lag_7d_44ccb1e1</td><td class='upgini-number'>1.6936</td><td class='upgini-number'>99.4807</td><td class='upgini-text'>0.9906, 0.4674, -0.7776</td><td class='upgini-text'>Training dataset,<a href='https://upgini.com/' target='_blank' rel='noopener noreferrer'>Upgini</a></td><td class='upgini-text'>AutoFE: features from Training dataset,<a href='https://upgini.com/#data_sources' target='_blank' rel='noopener noreferrer'>Calendar data</a></td><td class='upgini-text'>Daily</td></tr><tr><td class='upgini-text'>f_autofe_lag_3d_d168eb3e</td><td class='upgini-number'>1.2610</td><td class='upgini-number'>99.7831</td><td class='upgini-text'>0.7818, 0.4339, -0.9749</td><td class='upgini-text'>Training dataset,<a href='https://upgini.com/' target='_blank' rel='noopener noreferrer'>Upgini</a></td><td class='upgini-text'>AutoFE: features from Training dataset,<a href='https://upgini.com/#data_sources' target='_blank' rel='noopener noreferrer'>Calendar data</a></td><td class='upgini-text'>Daily</td></tr><tr><td class='upgini-text'><a href='https://docs.upgini.com/public/calendar/calendar#f_events_date_week_sin1_847b5db1' target='_blank' rel='noopener noreferrer'>f_events_date_week_sin1_847b5db1</a></td><td class='upgini-number'>0.9548</td><td class='upgini-number'>100.0000</td><td class='upgini-text'>-0.9749, -0.4339, -0.9749</td><td class='upgini-text'><a href='https://upgini.com/' target='_blank' rel='noopener noreferrer'>Upgini</a></td><td class='upgini-text'><a href='https://upgini.com/#data_sources' target='_blank' rel='noopener noreferrer'>Calendar data</a></td><td class='upgini-text'>Daily</td></tr><tr><td class='upgini-text'>f_autofe_lag_3d_5dba02da</td><td class='upgini-number'>0.7407</td><td class='upgini-number'>99.7831</td><td class='upgini-text'>376.27, 346.67, 329.78</td><td class='upgini-text'>Training dataset,<a href='https://upgini.com/' target='_blank' rel='noopener noreferrer'>Upgini</a></td><td class='upgini-text'>AutoFE: features from Training dataset,<a href='https://upgini.com/#data_sources' target='_blank' rel='noopener noreferrer'>Markets data</a></td><td class='upgini-text'>Daily</td></tr><tr><td class='upgini-text'><a href='https://docs.upgini.com/public/markets/finance#f_financial_date_gold_bf71e733' target='_blank' rel='noopener noreferrer'>f_financial_date_gold_bf71e733</a></td><td class='upgini-number'>0.7402</td><td class='upgini-number'>100.0000</td><td class='upgini-text'>1211.1, 1062.9, 1153.4</td><td class='upgini-text'><a href='https://upgini.com/' target='_blank' rel='noopener noreferrer'>Upgini</a></td><td class='upgini-text'><a href='https://upgini.com/#data_sources' target='_blank' rel='noopener noreferrer'>Markets data</a></td><td class='upgini-text'>Daily</td></tr><tr><td class='upgini-text'>f_autofe_lag_7d_6354b8dc</td><td class='upgini-number'>0.6349</td><td class='upgini-number'>99.4807</td><td class='upgini-text'>340.77, 341.25, 390.07</td><td class='upgini-text'>Training dataset,<a href='https://upgini.com/' target='_blank' rel='noopener noreferrer'>Upgini</a></td><td class='upgini-text'>AutoFE: features from Training dataset,<a href='https://upgini.com/#data_sources' target='_blank' rel='noopener noreferrer'>Markets data</a></td><td class='upgini-text'>Daily</td></tr><tr><td class='upgini-text'>f_autofe_lag_7d_24084e88</td><td class='upgini-number'>0.5429</td><td class='upgini-number'>99.4807</td><td class='upgini-text'>0.7818, -0.9749, 0.4339</td><td class='upgini-text'>Training dataset,<a href='https://upgini.com/' target='_blank' rel='noopener noreferrer'>Upgini</a></td><td class='upgini-text'>AutoFE: features from Training dataset,<a href='https://upgini.com/#data_sources' target='_blank' rel='noopener noreferrer'>Calendar data</a></td><td class='upgini-text'>Daily</td></tr><tr><td class='upgini-text'>f_autofe_lag_2d_1947d061</td><td class='upgini-number'>0.5071</td><td class='upgini-number'>99.8554</td><td class='upgini-text'>-0.901, 1.0, -0.901</td><td class='upgini-text'>Training dataset,<a href='https://upgini.com/' target='_blank' rel='noopener noreferrer'>Upgini</a></td><td class='upgini-text'>AutoFE: features from Training dataset,<a href='https://upgini.com/#data_sources' target='_blank' rel='noopener noreferrer'>Calendar data</a></td><td class='upgini-text'>Daily</td></tr><tr><td class='upgini-text'>f_autofe_roll_7d_norm_mean_f4c75f3e</td><td class='upgini-number'>0.4357</td><td class='upgini-number'>99.5530</td><td class='upgini-text'>0.9817, 0.781, 1.093</td><td class='upgini-text'>Training dataset,<a href='https://upgini.com/' target='_blank' rel='noopener noreferrer'>Upgini</a></td><td class='upgini-text'>AutoFE: features from Training dataset,<a href='https://upgini.com/#data_sources' target='_blank' rel='noopener noreferrer'>Calendar data</a></td><td class='upgini-text'>Daily</td></tr><tr><td class='upgini-text'>f_autofe_lag_3d_7d332726</td><td class='upgini-number'>0.4328</td><td class='upgini-number'>99.7831</td><td class='upgini-text'>1595.2, 1331.6, 1218.0</td><td class='upgini-text'>Training dataset,<a href='https://upgini.com/' target='_blank' rel='noopener noreferrer'>Upgini</a></td><td class='upgini-text'>AutoFE: features from Training dataset,<a href='https://upgini.com/#data_sources' target='_blank' rel='noopener noreferrer'>Markets data</a></td><td class='upgini-text'>Daily</td></tr><tr><td class='upgini-text'>f_autofe_lag_1d_5138dd83</td><td class='upgini-number'>0.4230</td><td class='upgini-number'>99.9343</td><td class='upgini-text'>-0.4339, 0.7818, 0.4339</td><td class='upgini-text'>Training dataset,<a href='https://upgini.com/' target='_blank' rel='noopener noreferrer'>Upgini</a></td><td class='upgini-text'>AutoFE: features from Training dataset,<a href='https://upgini.com/#data_sources' target='_blank' rel='noopener noreferrer'>Calendar data</a></td><td class='upgini-text'>Daily</td></tr><tr><td class='upgini-text'>f_autofe_roll_7d_norm_mean_b8cbc4e4</td><td class='upgini-number'>0.3182</td><td class='upgini-number'>42.9370</td><td class='upgini-text'>6.305039478318694e+16, 5.68064...</td><td class='upgini-text'>Training dataset,<a href='https://upgini.com/' target='_blank' rel='noopener noreferrer'>Upgini</a></td><td class='upgini-text'>AutoFE: features from Training dataset,<a href='https://upgini.com/#data_sources' target='_blank' rel='noopener noreferrer'>Calendar data</a></td><td class='upgini-text'>Daily</td></tr><tr><td class='upgini-text'>f_autofe_roll_3d_median_67a4ca4c</td><td class='upgini-number'>0.2815</td><td class='upgini-number'>99.8554</td><td class='upgini-text'>0.6235, 0.6235, -0.2225</td><td class='upgini-text'>Training dataset,<a href='https://upgini.com/' target='_blank' rel='noopener noreferrer'>Upgini</a></td><td class='upgini-text'>AutoFE: features from Training dataset,<a href='https://upgini.com/#data_sources' target='_blank' rel='noopener noreferrer'>Calendar data</a></td><td class='upgini-text'>Daily</td></tr><tr><td class='upgini-text'>f_autofe_roll_2d_min_bd3d6759</td><td class='upgini-number'>0.2457</td><td class='upgini-number'>99.9343</td><td class='upgini-text'>-0.2225, -0.901, -0.2225</td><td class='upgini-text'>Training dataset,<a href='https://upgini.com/' target='_blank' rel='noopener noreferrer'>Upgini</a></td><td class='upgini-text'>AutoFE: features from Training dataset,<a href='https://upgini.com/#data_sources' target='_blank' rel='noopener noreferrer'>Calendar data</a></td><td class='upgini-text'>Daily</td></tr><tr><td class='upgini-text'>f_autofe_lag_7d_298854c4</td><td class='upgini-number'>0.2094</td><td class='upgini-number'>99.4807</td><td class='upgini-text'>0.7478, 0.7252, 1.2119</td><td class='upgini-text'>Training dataset,<a href='https://upgini.com/' target='_blank' rel='noopener noreferrer'>Upgini</a></td><td class='upgini-text'>AutoFE: features from Training dataset,<a href='https://upgini.com/#data_sources' target='_blank' rel='noopener noreferrer'>Markets data</a></td><td class='upgini-text'>Daily</td></tr><tr><td class='upgini-text'>f_autofe_roll_3d_std_43db36b9</td><td class='upgini-number'>0.1910</td><td class='upgini-number'>99.8554</td><td class='upgini-text'>0.9207, 0.4619, 1.2568</td><td class='upgini-text'>Training dataset,<a href='https://upgini.com/' target='_blank' rel='noopener noreferrer'>Upgini</a></td><td class='upgini-text'>AutoFE: features from Training dataset,<a href='https://upgini.com/#data_sources' target='_blank' rel='noopener noreferrer'>Markets data</a></td><td class='upgini-text'>Daily</td></tr><tr><td class='upgini-text'><a href='https://docs.upgini.com/public/markets/finance#f_financial_date_natural_gas_7d_to_7d_1y_shift_a5c3c07f' target='_blank' rel='noopener noreferrer'>f_financial_date_natural_gas_7d_to_7d_1y_shift_a5c3c07f</a></td><td class='upgini-number'>0.1753</td><td class='upgini-number'>100.0000</td><td class='upgini-text'>1.1341, 1.2953, 0.6008</td><td class='upgini-text'><a href='https://upgini.com/' target='_blank' rel='noopener noreferrer'>Upgini</a></td><td class='upgini-text'><a href='https://upgini.com/#data_sources' target='_blank' rel='noopener noreferrer'>Markets data</a></td><td class='upgini-text'>Daily</td></tr><tr><td class='upgini-text'><a href='https://docs.upgini.com/public/markets/finance#f_financial_date_crude_oil_1f195998' target='_blank' rel='noopener noreferrer'>f_financial_date_crude_oil_1f195998</a></td><td class='upgini-number'>0.1507</td><td class='upgini-number'>100.0000</td><td class='upgini-text'>39.72, 95.77, 95.77</td><td class='upgini-text'><a href='https://upgini.com/' target='_blank' rel='noopener noreferrer'>Upgini</a></td><td class='upgini-text'><a href='https://upgini.com/#data_sources' target='_blank' rel='noopener noreferrer'>Markets data</a></td><td class='upgini-text'>Daily</td></tr><tr><td class='upgini-text'>f_autofe_roll_3d_std_cf25c6ce</td><td class='upgini-number'>0.1395</td><td class='upgini-number'>99.8554</td><td class='upgini-text'>2.5808, 0.9026, 1.3972</td><td class='upgini-text'>Training dataset,<a href='https://upgini.com/' target='_blank' rel='noopener noreferrer'>Upgini</a></td><td class='upgini-text'>AutoFE: features from Training dataset,<a href='https://upgini.com/#data_sources' target='_blank' rel='noopener noreferrer'>Markets data</a></td><td class='upgini-text'>Daily</td></tr><tr><td class='upgini-text'>f_autofe_lag_7d_80f1c53c</td><td class='upgini-number'>0.1252</td><td class='upgini-number'>99.4807</td><td class='upgini-text'>1238.9, 1392.6, 1309.2</td><td class='upgini-text'>Training dataset,<a href='https://upgini.com/' target='_blank' rel='noopener noreferrer'>Upgini</a></td><td class='upgini-text'>AutoFE: features from Training dataset,<a href='https://upgini.com/#data_sources' target='_blank' rel='noopener noreferrer'>Markets data</a></td><td class='upgini-text'>Daily</td></tr><tr><td class='upgini-text'>f_autofe_roll_7d_median_8e1a5fee</td><td class='upgini-number'>0.0988</td><td class='upgini-number'>99.5530</td><td class='upgini-text'>0.8749, 0.8928, 1.0691</td><td class='upgini-text'>Training dataset,<a href='https://upgini.com/' target='_blank' rel='noopener noreferrer'>Upgini</a></td><td class='upgini-text'>AutoFE: features from Training dataset,<a href='https://upgini.com/#data_sources' target='_blank' rel='noopener noreferrer'>Markets data</a></td><td class='upgini-text'>Daily</td></tr><tr><td class='upgini-text'>f_autofe_roll_3d_std_8d2902a0</td><td class='upgini-number'>0.0941</td><td class='upgini-number'>99.8554</td><td class='upgini-text'>0.0018, 0.0017, 0.001</td><td class='upgini-text'>Training dataset,<a href='https://upgini.com/' target='_blank' rel='noopener noreferrer'>Upgini</a></td><td class='upgini-text'>AutoFE: features from Training dataset,<a href='https://upgini.com/#data_sources' target='_blank' rel='noopener noreferrer'>Markets data</a></td><td class='upgini-text'>Daily</td></tr><tr><td class='upgini-text'>f_autofe_roll_2d_norm_mean_f727ebb5</td><td class='upgini-number'>0.0893</td><td class='upgini-number'>82.9948</td><td class='upgini-text'>-4.0999, 1.6539, 5.1429</td><td class='upgini-text'>Training dataset,<a href='https://upgini.com/' target='_blank' rel='noopener noreferrer'>Upgini</a></td><td class='upgini-text'>AutoFE: features from Training dataset,<a href='https://upgini.com/#data_sources' target='_blank' rel='noopener noreferrer'>Markets data</a></td><td class='upgini-text'>Daily</td></tr><tr><td class='upgini-text'>f_autofe_roll_2d_std_5994058b</td><td class='upgini-number'>0.0865</td><td class='upgini-number'>99.9343</td><td class='upgini-text'>1.2799, 1.6829, 0.8697</td><td class='upgini-text'>Training dataset,<a href='https://upgini.com/' target='_blank' rel='noopener noreferrer'>Upgini</a></td><td class='upgini-text'>AutoFE: features from Training dataset,<a href='https://upgini.com/#data_sources' target='_blank' rel='noopener noreferrer'>Markets data</a></td><td class='upgini-text'>Daily</td></tr><tr><td class='upgini-text'>f_autofe_lag_1d_1e473dd0</td><td class='upgini-number'>0.0775</td><td class='upgini-number'>99.9343</td><td class='upgini-text'>-0.55, 0.15, 0.33</td><td class='upgini-text'>Training dataset,<a href='https://upgini.com/' target='_blank' rel='noopener noreferrer'>Upgini</a></td><td class='upgini-text'>AutoFE: features from Training dataset,<a href='https://upgini.com/#data_sources' target='_blank' rel='noopener noreferrer'>Markets data</a></td><td class='upgini-text'>Daily</td></tr><tr><td class='upgini-text'>f_autofe_roll_3d_norm_mean_d3a34f3f</td><td class='upgini-number'>0.0757</td><td class='upgini-number'>99.8554</td><td class='upgini-text'>0.0, 1.0047, 1.0015</td><td class='upgini-text'>Training dataset,<a href='https://upgini.com/' target='_blank' rel='noopener noreferrer'>Upgini</a></td><td class='upgini-text'>AutoFE: features from Training dataset,<a href='https://upgini.com/#data_sources' target='_blank' rel='noopener noreferrer'>Calendar data</a></td><td class='upgini-text'>Daily</td></tr><tr><td class='upgini-text'>f_autofe_roll_3d_std_e0a7813d</td><td class='upgini-number'>0.0605</td><td class='upgini-number'>99.8554</td><td class='upgini-text'>0.19, 0.8051, 0.05</td><td class='upgini-text'>Training dataset,<a href='https://upgini.com/' target='_blank' rel='noopener noreferrer'>Upgini</a></td><td class='upgini-text'>AutoFE: features from Training dataset,<a href='https://upgini.com/#data_sources' target='_blank' rel='noopener noreferrer'>Markets data</a></td><td class='upgini-text'>Daily</td></tr><tr><td class='upgini-text'>f_autofe_roll_2d_norm_mean_85d150da</td><td class='upgini-number'>0.0593</td><td class='upgini-number'>82.4887</td><td class='upgini-text'>22.0049, 0.3386, 1.3335</td><td class='upgini-text'>Training dataset,<a href='https://upgini.com/' target='_blank' rel='noopener noreferrer'>Upgini</a></td><td class='upgini-text'>AutoFE: features from Training dataset,<a href='https://upgini.com/#data_sources' target='_blank' rel='noopener noreferrer'>Markets data</a></td><td class='upgini-text'>Daily</td></tr><tr><td class='upgini-text'>f_autofe_roll_2d_norm_mean_fe42d9a4</td><td class='upgini-number'>0.0577</td><td class='upgini-number'>99.9343</td><td class='upgini-text'>1.0049, 1.0135, 1.0</td><td class='upgini-text'>Training dataset,<a href='https://upgini.com/' target='_blank' rel='noopener noreferrer'>Upgini</a></td><td class='upgini-text'>AutoFE: features from Training dataset,<a href='https://upgini.com/#data_sources' target='_blank' rel='noopener noreferrer'>Calendar data</a></td><td class='upgini-text'>Daily</td></tr><tr><td class='upgini-text'>f_autofe_roll_2d_std_6466a8eb</td><td class='upgini-number'>0.0366</td><td class='upgini-number'>99.9343</td><td class='upgini-text'>0.0516, 0.0078, 0.082</td><td class='upgini-text'>Training dataset,<a href='https://upgini.com/' target='_blank' rel='noopener noreferrer'>Upgini</a></td><td class='upgini-text'>AutoFE: features from Training dataset,<a href='https://upgini.com/#data_sources' target='_blank' rel='noopener noreferrer'>Markets data</a></td><td class='upgini-text'>Daily</td></tr><tr><td class='upgini-text'>f_autofe_lag_1d_8255eb29</td><td class='upgini-number'>0.0327</td><td class='upgini-number'>99.9343</td><td class='upgini-text'>-1.19, 0.2, -0.13</td><td class='upgini-text'>Training dataset,<a href='https://upgini.com/' target='_blank' rel='noopener noreferrer'>Upgini</a></td><td class='upgini-text'>AutoFE: features from Training dataset,<a href='https://upgini.com/#data_sources' target='_blank' rel='noopener noreferrer'>Markets data</a></td><td class='upgini-text'>Daily</td></tr><tr><td class='upgini-text'>f_autofe_roll_2d_std_b88ae2e3</td><td class='upgini-number'>0.0108</td><td class='upgini-number'>99.9343</td><td class='upgini-text'>0.1492, 0.1358, 0.0813</td><td class='upgini-text'>Training dataset,<a href='https://upgini.com/' target='_blank' rel='noopener noreferrer'>Upgini</a></td><td class='upgini-text'>AutoFE: features from Training dataset,<a href='https://upgini.com/#data_sources' target='_blank' rel='noopener noreferrer'>Markets data</a></td><td class='upgini-text'>Daily</td></tr><tr><td class='upgini-text'>f_autofe_roll_2d_min_aa7719e1</td><td class='upgini-number'>0.0058</td><td class='upgini-number'>99.9343</td><td class='upgini-text'>-0.334, -0.141, 0.06</td><td class='upgini-text'>Training dataset,<a href='https://upgini.com/' target='_blank' rel='noopener noreferrer'>Upgini</a></td><td class='upgini-text'>AutoFE: features from Training dataset,<a href='https://upgini.com/#data_sources' target='_blank' rel='noopener noreferrer'>Markets data</a></td><td class='upgini-text'>Daily</td></tr><tr><td class='upgini-text'>f_autofe_lag_3d_3c41924a</td><td class='upgini-number'>0.0056</td><td class='upgini-number'>99.7831</td><td class='upgini-text'>-0.297, 0.026, 0.331</td><td class='upgini-text'>Training dataset,<a href='https://upgini.com/' target='_blank' rel='noopener noreferrer'>Upgini</a></td><td class='upgini-text'>AutoFE: features from Training dataset,<a href='https://upgini.com/#data_sources' target='_blank' rel='noopener noreferrer'>Markets data</a></td><td class='upgini-text'>Daily</td></tr></tbody></table>\n",
              "        </div>\n",
              "        "
            ]
          },
          "metadata": {}
        },
        {
          "output_type": "display_data",
          "data": {
            "text/plain": [
              "<IPython.core.display.HTML object>"
            ],
            "text/html": [
              "<style>\n",
              "            .upgini-df thead th {\n",
              "                font-weight:bold;\n",
              "                text-align: center;\n",
              "                padding: 0.5em;\n",
              "                border-bottom: 2px solid black;\n",
              "            }\n",
              "\n",
              "            .upgini-df tbody td {\n",
              "                padding: 0.5em;\n",
              "            }\n",
              "\n",
              "            .upgini-df tbody tr:nth-child(odd) {\n",
              "                background-color: #ffffff;\n",
              "            }\n",
              "\n",
              "            .upgini-df tbody tr:nth-child(even) {\n",
              "                background-color: #f2f2f2;\n",
              "            }\n",
              "\n",
              "            .upgini-text {\n",
              "                text-align: left;\n",
              "            }\n",
              "\n",
              "            .upgini-number {\n",
              "                text-align: center;\n",
              "            }\n",
              "        </style>\n",
              "        <h2>Relevant data sources</h2>\n",
              "        <div style=\"display:flex; flex-direction:column; align-items:flex-end; width: fit-content;\">\n",
              "            \n",
              "            <div style=\"text-align: right\">\n",
              "                <button onclick=navigator.clipboard.writeText(decodeURI('Provider%09Source%09All%20features%20SHAP%09Number%20of%20relevant%20features%0ATraining%20dataset%09AutoFE%3A%20features%20from%20Training%20dataset,%3Ca%20href%3D%27https%3A%2F%2Fupgini.com%2F%23data_sources%27%20target%3D%27_blank%27%20rel%3D%27noopener%20noreferrer%27%3ECalendar%20data%3C%2Fa%3E%095.8421%0911%0AUpgini%09Calendar%20data%095.3263%092%0ATraining%20dataset%09AutoFE%3A%20features%20from%20Training%20dataset,%3Ca%20href%3D%27https%3A%2F%2Fupgini.com%2F%23data_sources%27%20target%3D%27_blank%27%20rel%3D%27noopener%20noreferrer%27%3EMarkets%20data%3C%2Fa%3E%093.1310000000000002%0919%0AUpgini%09Markets%20data%091.0662%093%0A'))>📂 Copy</button>\n",
              "                <a href='mailto:<Share with...>?subject=Relevant external data sources from Upgini.com&body=Provider%09Source%09All%20features%20SHAP%09Number%20of%20relevant%20features%0ATraining%20dataset%09AutoFE%3A%20features%20from%20Training%20dataset,%3Ca%20href%3D%27https%3A%2F%2Fupgini.com%2F%23data_sources%27%20target%3D%27_blank%27%20rel%3D%27noopener%20noreferrer%27%3ECalendar%20data%3C%2Fa%3E%095.8421%0911%0AUpgini%09Calendar%20data%095.3263%092%0ATraining%20dataset%09AutoFE%3A%20features%20from%20Training%20dataset,%3Ca%20href%3D%27https%3A%2F%2Fupgini.com%2F%23data_sources%27%20target%3D%27_blank%27%20rel%3D%27noopener%20noreferrer%27%3EMarkets%20data%3C%2Fa%3E%093.1310000000000002%0919%0AUpgini%09Markets%20data%091.0662%093%0A'>\n",
              "                    <button>📨 Share</button>\n",
              "                </a>\n",
              "            </div>\n",
              "            <table class='upgini-df'><thead><th>Provider</th><th>Source</th><th>All features SHAP</th><th>Number of relevant features</th></thead><tbody><tr><td class='upgini-text'>Training dataset,<a href='https://upgini.com/' target='_blank' rel='noopener noreferrer'>Upgini</a></td><td class='upgini-text'>AutoFE: features from Training dataset,<a href='https://upgini.com/#data_sources' target='_blank' rel='noopener noreferrer'>Calendar data</a></td><td class='upgini-number'>5.8421</td><td class='upgini-number'>11</td></tr><tr><td class='upgini-text'><a href='https://upgini.com/' target='_blank' rel='noopener noreferrer'>Upgini</a></td><td class='upgini-text'><a href='https://upgini.com/#data_sources' target='_blank' rel='noopener noreferrer'>Calendar data</a></td><td class='upgini-number'>5.3263</td><td class='upgini-number'>2</td></tr><tr><td class='upgini-text'>Training dataset,<a href='https://upgini.com/' target='_blank' rel='noopener noreferrer'>Upgini</a></td><td class='upgini-text'>AutoFE: features from Training dataset,<a href='https://upgini.com/#data_sources' target='_blank' rel='noopener noreferrer'>Markets data</a></td><td class='upgini-number'>3.1310</td><td class='upgini-number'>19</td></tr><tr><td class='upgini-text'><a href='https://upgini.com/' target='_blank' rel='noopener noreferrer'>Upgini</a></td><td class='upgini-text'><a href='https://upgini.com/#data_sources' target='_blank' rel='noopener noreferrer'>Markets data</a></td><td class='upgini-number'>1.0662</td><td class='upgini-number'>3</td></tr></tbody></table>\n",
              "        </div>\n",
              "        "
            ]
          },
          "metadata": {}
        },
        {
          "output_type": "display_data",
          "data": {
            "text/plain": [
              "<IPython.core.display.HTML object>"
            ],
            "text/html": [
              "<style>\n",
              "            .upgini-df thead th {\n",
              "                font-weight:bold;\n",
              "                text-align: center;\n",
              "                padding: 0.5em;\n",
              "                border-bottom: 2px solid black;\n",
              "            }\n",
              "\n",
              "            .upgini-df tbody td {\n",
              "                padding: 0.5em;\n",
              "            }\n",
              "\n",
              "            .upgini-df tbody tr:nth-child(odd) {\n",
              "                background-color: #ffffff;\n",
              "            }\n",
              "\n",
              "            .upgini-df tbody tr:nth-child(even) {\n",
              "                background-color: #f2f2f2;\n",
              "            }\n",
              "\n",
              "            .upgini-text {\n",
              "                text-align: left;\n",
              "            }\n",
              "\n",
              "            .upgini-number {\n",
              "                text-align: center;\n",
              "            }\n",
              "        </style>\n",
              "        <h2>*Description of AutoFE feature names</h2>\n",
              "        <div style=\"display:flex; flex-direction:column; align-items:flex-end; width: fit-content;\">\n",
              "            \n",
              "            <div style=\"text-align: right\">\n",
              "                <button onclick=navigator.clipboard.writeText(decodeURI('Sources%09Feature%20name%09Feature%201%09Function%0ATraining%20dataset,%3Ca%20href%3D%27https%3A%2F%2Fupgini.com%2F%23data_sources%27%20target%3D%27_blank%27%20rel%3D%27noopener%20noreferrer%27%3ECalendar%20data%3C%2Fa%3E%09f_autofe_lag_7d_44ccb1e1%09f_events_date_year_cos1_9014a856%09lag_7d%0ATraining%20dataset,%3Ca%20href%3D%27https%3A%2F%2Fupgini.com%2F%23data_sources%27%20target%3D%27_blank%27%20rel%3D%27noopener%20noreferrer%27%3ECalendar%20data%3C%2Fa%3E%09f_autofe_lag_3d_d168eb3e%09f_events_date_week_sin1_847b5db1%09lag_3d%0ATraining%20dataset,%3Ca%20href%3D%27https%3A%2F%2Fupgini.com%2F%23data_sources%27%20target%3D%27_blank%27%20rel%3D%27noopener%20noreferrer%27%3EMarkets%20data%3C%2Fa%3E%09f_autofe_lag_3d_5dba02da%09f_financial_date_stoxx_043cbcd4%09lag_3d%0ATraining%20dataset,%3Ca%20href%3D%27https%3A%2F%2Fupgini.com%2F%23data_sources%27%20target%3D%27_blank%27%20rel%3D%27noopener%20noreferrer%27%3EMarkets%20data%3C%2Fa%3E%09f_autofe_lag_7d_6354b8dc%09f_financial_date_stoxx_043cbcd4%09lag_7d%0ATraining%20dataset,%3Ca%20href%3D%27https%3A%2F%2Fupgini.com%2F%23data_sources%27%20target%3D%27_blank%27%20rel%3D%27noopener%20noreferrer%27%3ECalendar%20data%3C%2Fa%3E%09f_autofe_lag_7d_24084e88%09f_events_date_week_sin1_847b5db1%09lag_7d%0ATraining%20dataset,%3Ca%20href%3D%27https%3A%2F%2Fupgini.com%2F%23data_sources%27%20target%3D%27_blank%27%20rel%3D%27noopener%20noreferrer%27%3ECalendar%20data%3C%2Fa%3E%09f_autofe_lag_2d_1947d061%09f_events_date_week_cos1_f6a8c1fc%09lag_2d%0ATraining%20dataset,%3Ca%20href%3D%27https%3A%2F%2Fupgini.com%2F%23data_sources%27%20target%3D%27_blank%27%20rel%3D%27noopener%20noreferrer%27%3ECalendar%20data%3C%2Fa%3E%09f_autofe_roll_7d_norm_mean_f4c75f3e%09f_events_date_year_cos1_9014a856%09roll_7d_norm_mean%0ATraining%20dataset,%3Ca%20href%3D%27https%3A%2F%2Fupgini.com%2F%23data_sources%27%20target%3D%27_blank%27%20rel%3D%27noopener%20noreferrer%27%3EMarkets%20data%3C%2Fa%3E%09f_autofe_lag_3d_7d332726%09f_financial_date_gold_bf71e733%09lag_3d%0ATraining%20dataset,%3Ca%20href%3D%27https%3A%2F%2Fupgini.com%2F%23data_sources%27%20target%3D%27_blank%27%20rel%3D%27noopener%20noreferrer%27%3ECalendar%20data%3C%2Fa%3E%09f_autofe_lag_1d_5138dd83%09f_events_date_week_sin2_e28440a5%09lag_1d%0ATraining%20dataset,%3Ca%20href%3D%27https%3A%2F%2Fupgini.com%2F%23data_sources%27%20target%3D%27_blank%27%20rel%3D%27noopener%20noreferrer%27%3ECalendar%20data%3C%2Fa%3E%09f_autofe_roll_7d_norm_mean_b8cbc4e4%09f_events_date_week_cos2_b0a07cfc%09roll_7d_norm_mean%0ATraining%20dataset,%3Ca%20href%3D%27https%3A%2F%2Fupgini.com%2F%23data_sources%27%20target%3D%27_blank%27%20rel%3D%27noopener%20noreferrer%27%3ECalendar%20data%3C%2Fa%3E%09f_autofe_roll_3d_median_67a4ca4c%09f_events_date_week_cos3_7525fe31%09roll_3d_median%0ATraining%20dataset,%3Ca%20href%3D%27https%3A%2F%2Fupgini.com%2F%23data_sources%27%20target%3D%27_blank%27%20rel%3D%27noopener%20noreferrer%27%3ECalendar%20data%3C%2Fa%3E%09f_autofe_roll_2d_min_bd3d6759%09f_events_date_week_cos1_f6a8c1fc%09roll_2d_min%0ATraining%20dataset,%3Ca%20href%3D%27https%3A%2F%2Fupgini.com%2F%23data_sources%27%20target%3D%27_blank%27%20rel%3D%27noopener%20noreferrer%27%3EMarkets%20data%3C%2Fa%3E%09f_autofe_lag_7d_298854c4%09f_financial_date_natural_gas_7d_to_1y_7a6f300d%09lag_7d%0ATraining%20dataset,%3Ca%20href%3D%27https%3A%2F%2Fupgini.com%2F%23data_sources%27%20target%3D%27_blank%27%20rel%3D%27noopener%20noreferrer%27%3EMarkets%20data%3C%2Fa%3E%09f_autofe_roll_3d_std_43db36b9%09f_financial_date_crude_oil_1f195998%09roll_3d_std%0ATraining%20dataset,%3Ca%20href%3D%27https%3A%2F%2Fupgini.com%2F%23data_sources%27%20target%3D%27_blank%27%20rel%3D%27noopener%20noreferrer%27%3EMarkets%20data%3C%2Fa%3E%09f_autofe_roll_3d_std_cf25c6ce%09f_financial_date_stoxx_043cbcd4%09roll_3d_std%0ATraining%20dataset,%3Ca%20href%3D%27https%3A%2F%2Fupgini.com%2F%23data_sources%27%20target%3D%27_blank%27%20rel%3D%27noopener%20noreferrer%27%3EMarkets%20data%3C%2Fa%3E%09f_autofe_lag_7d_80f1c53c%09f_financial_date_gold_bf71e733%09lag_7d%0ATraining%20dataset,%3Ca%20href%3D%27https%3A%2F%2Fupgini.com%2F%23data_sources%27%20target%3D%27_blank%27%20rel%3D%27noopener%20noreferrer%27%3EMarkets%20data%3C%2Fa%3E%09f_autofe_roll_7d_median_8e1a5fee%09f_financial_date_vix_7d_to_1y_634c77eb%09roll_7d_median%0ATraining%20dataset,%3Ca%20href%3D%27https%3A%2F%2Fupgini.com%2F%23data_sources%27%20target%3D%27_blank%27%20rel%3D%27noopener%20noreferrer%27%3EMarkets%20data%3C%2Fa%3E%09f_autofe_roll_3d_std_8d2902a0%09f_financial_date_usd_eur_5d1b9c8f%09roll_3d_std%0ATraining%20dataset,%3Ca%20href%3D%27https%3A%2F%2Fupgini.com%2F%23data_sources%27%20target%3D%27_blank%27%20rel%3D%27noopener%20noreferrer%27%3EMarkets%20data%3C%2Fa%3E%09f_autofe_roll_2d_norm_mean_f727ebb5%09f_financial_date_usd_daydiff_8bcdeec4%09roll_2d_norm_mean%0ATraining%20dataset,%3Ca%20href%3D%27https%3A%2F%2Fupgini.com%2F%23data_sources%27%20target%3D%27_blank%27%20rel%3D%27noopener%20noreferrer%27%3EMarkets%20data%3C%2Fa%3E%09f_autofe_roll_2d_std_5994058b%09f_financial_date_vix_gap_b64bd2b9%09roll_2d_std%0ATraining%20dataset,%3Ca%20href%3D%27https%3A%2F%2Fupgini.com%2F%23data_sources%27%20target%3D%27_blank%27%20rel%3D%27noopener%20noreferrer%27%3EMarkets%20data%3C%2Fa%3E%09f_autofe_lag_1d_1e473dd0%09f_financial_date_usd_daydiff_8bcdeec4%09lag_1d%0ATraining%20dataset,%3Ca%20href%3D%27https%3A%2F%2Fupgini.com%2F%23data_sources%27%20target%3D%27_blank%27%20rel%3D%27noopener%20noreferrer%27%3ECalendar%20data%3C%2Fa%3E%09f_autofe_roll_3d_norm_mean_d3a34f3f%09f_events_date_year_sin1_3c44bc64%09roll_3d_norm_mean%0ATraining%20dataset,%3Ca%20href%3D%27https%3A%2F%2Fupgini.com%2F%23data_sources%27%20target%3D%27_blank%27%20rel%3D%27noopener%20noreferrer%27%3EMarkets%20data%3C%2Fa%3E%09f_autofe_roll_3d_std_e0a7813d%09f_financial_date_usd_7419609a%09roll_3d_std%0ATraining%20dataset,%3Ca%20href%3D%27https%3A%2F%2Fupgini.com%2F%23data_sources%27%20target%3D%27_blank%27%20rel%3D%27noopener%20noreferrer%27%3EMarkets%20data%3C%2Fa%3E%09f_autofe_roll_2d_norm_mean_85d150da%09f_financial_date_gold_daydiff_6c8f15fb%09roll_2d_norm_mean%0ATraining%20dataset,%3Ca%20href%3D%27https%3A%2F%2Fupgini.com%2F%23data_sources%27%20target%3D%27_blank%27%20rel%3D%27noopener%20noreferrer%27%3ECalendar%20data%3C%2Fa%3E%09f_autofe_roll_2d_norm_mean_fe42d9a4%09f_events_date_year_sin1_3c44bc64%09roll_2d_norm_mean%0ATraining%20dataset,%3Ca%20href%3D%27https%3A%2F%2Fupgini.com%2F%23data_sources%27%20target%3D%27_blank%27%20rel%3D%27noopener%20noreferrer%27%3EMarkets%20data%3C%2Fa%3E%09f_autofe_roll_2d_std_6466a8eb%09f_financial_date_natural_gas_92dac942%09roll_2d_std%0ATraining%20dataset,%3Ca%20href%3D%27https%3A%2F%2Fupgini.com%2F%23data_sources%27%20target%3D%27_blank%27%20rel%3D%27noopener%20noreferrer%27%3EMarkets%20data%3C%2Fa%3E%09f_autofe_lag_1d_8255eb29%09f_financial_date_usd_gap_615a0ec0%09lag_1d%0ATraining%20dataset,%3Ca%20href%3D%27https%3A%2F%2Fupgini.com%2F%23data_sources%27%20target%3D%27_blank%27%20rel%3D%27noopener%20noreferrer%27%3EMarkets%20data%3C%2Fa%3E%09f_autofe_roll_2d_std_b88ae2e3%09f_financial_date_silver_gap_f5b63f5b%09roll_2d_std%0ATraining%20dataset,%3Ca%20href%3D%27https%3A%2F%2Fupgini.com%2F%23data_sources%27%20target%3D%27_blank%27%20rel%3D%27noopener%20noreferrer%27%3EMarkets%20data%3C%2Fa%3E%09f_autofe_roll_2d_min_aa7719e1%09f_financial_date_silver_daydiff_25cf4951%09roll_2d_min%0ATraining%20dataset,%3Ca%20href%3D%27https%3A%2F%2Fupgini.com%2F%23data_sources%27%20target%3D%27_blank%27%20rel%3D%27noopener%20noreferrer%27%3EMarkets%20data%3C%2Fa%3E%09f_autofe_lag_3d_3c41924a%09f_financial_date_silver_daydiff_25cf4951%09lag_3d%0A'))>📂 Copy</button>\n",
              "                <a href='mailto:<Share with...>?subject=Relevant external data sources from Upgini.com&body=Sources%09Feature%20name%09Feature%201%09Function%0ATraining%20dataset,%3Ca%20href%3D%27https%3A%2F%2Fupgini.com%2F%23data_sources%27%20target%3D%27_blank%27%20rel%3D%27noopener%20noreferrer%27%3ECalendar%20data%3C%2Fa%3E%09f_autofe_lag_7d_44ccb1e1%09f_events_date_year_cos1_9014a856%09lag_7d%0ATraining%20dataset,%3Ca%20href%3D%27https%3A%2F%2Fupgini.com%2F%23data_sources%27%20target%3D%27_blank%27%20rel%3D%27noopener%20noreferrer%27%3ECalendar%20data%3C%2Fa%3E%09f_autofe_lag_3d_d168eb3e%09f_events_date_week_sin1_847b5db1%09lag_3d%0ATraining%20dataset,%3Ca%20href%3D%27https%3A%2F%2Fupgini.com%2F%23data_sources%27%20target%3D%27_blank%27%20rel%3D%27noopener%20noreferrer%27%3EMarkets%20data%3C%2Fa%3E%09f_autofe_lag_3d_5dba02da%09f_financial_date_stoxx_043cbcd4%09lag_3d%0ATraining%20dataset,%3Ca%20href%3D%27https%3A%2F%2Fupgini.com%2F%23data_sources%27%20target%3D%27_blank%27%20rel%3D%27noopener%20noreferrer%27%3EMarkets%20data%3C%2Fa%3E%09f_autofe_lag_7d_6354b8dc%09f_financial_date_stoxx_043cbcd4%09lag_7d%0ATraining%20dataset,%3Ca%20href%3D%27https%3A%2F%2Fupgini.com%2F%23data_sources%27%20target%3D%27_blank%27%20rel%3D%27noopener%20noreferrer%27%3ECalendar%20data%3C%2Fa%3E%09f_autofe_lag_7d_24084e88%09f_events_date_week_sin1_847b5db1%09lag_7d%0ATraining%20dataset,%3Ca%20href%3D%27https%3A%2F%2Fupgini.com%2F%23data_sources%27%20target%3D%27_blank%27%20rel%3D%27noopener%20noreferrer%27%3ECalendar%20data%3C%2Fa%3E%09f_autofe_lag_2d_1947d061%09f_events_date_week_cos1_f6a8c1fc%09lag_2d%0ATraining%20dataset,%3Ca%20href%3D%27https%3A%2F%2Fupgini.com%2F%23data_sources%27%20target%3D%27_blank%27%20rel%3D%27noopener%20noreferrer%27%3ECalendar%20data%3C%2Fa%3E%09f_autofe_roll_7d_norm_mean_f4c75f3e%09f_events_date_year_cos1_9014a856%09roll_7d_norm_mean%0ATraining%20dataset,%3Ca%20href%3D%27https%3A%2F%2Fupgini.com%2F%23data_sources%27%20target%3D%27_blank%27%20rel%3D%27noopener%20noreferrer%27%3EMarkets%20data%3C%2Fa%3E%09f_autofe_lag_3d_7d332726%09f_financial_date_gold_bf71e733%09lag_3d%0ATraining%20dataset,%3Ca%20href%3D%27https%3A%2F%2Fupgini.com%2F%23data_sources%27%20target%3D%27_blank%27%20rel%3D%27noopener%20noreferrer%27%3ECalendar%20data%3C%2Fa%3E%09f_autofe_lag_1d_5138dd83%09f_events_date_week_sin2_e28440a5%09lag_1d%0ATraining%20dataset,%3Ca%20href%3D%27https%3A%2F%2Fupgini.com%2F%23data_sources%27%20target%3D%27_blank%27%20rel%3D%27noopener%20noreferrer%27%3ECalendar%20data%3C%2Fa%3E%09f_autofe_roll_7d_norm_mean_b8cbc4e4%09f_events_date_week_cos2_b0a07cfc%09roll_7d_norm_mean%0ATraining%20dataset,%3Ca%20href%3D%27https%3A%2F%2Fupgini.com%2F%23data_sources%27%20target%3D%27_blank%27%20rel%3D%27noopener%20noreferrer%27%3ECalendar%20data%3C%2Fa%3E%09f_autofe_roll_3d_median_67a4ca4c%09f_events_date_week_cos3_7525fe31%09roll_3d_median%0ATraining%20dataset,%3Ca%20href%3D%27https%3A%2F%2Fupgini.com%2F%23data_sources%27%20target%3D%27_blank%27%20rel%3D%27noopener%20noreferrer%27%3ECalendar%20data%3C%2Fa%3E%09f_autofe_roll_2d_min_bd3d6759%09f_events_date_week_cos1_f6a8c1fc%09roll_2d_min%0ATraining%20dataset,%3Ca%20href%3D%27https%3A%2F%2Fupgini.com%2F%23data_sources%27%20target%3D%27_blank%27%20rel%3D%27noopener%20noreferrer%27%3EMarkets%20data%3C%2Fa%3E%09f_autofe_lag_7d_298854c4%09f_financial_date_natural_gas_7d_to_1y_7a6f300d%09lag_7d%0ATraining%20dataset,%3Ca%20href%3D%27https%3A%2F%2Fupgini.com%2F%23data_sources%27%20target%3D%27_blank%27%20rel%3D%27noopener%20noreferrer%27%3EMarkets%20data%3C%2Fa%3E%09f_autofe_roll_3d_std_43db36b9%09f_financial_date_crude_oil_1f195998%09roll_3d_std%0ATraining%20dataset,%3Ca%20href%3D%27https%3A%2F%2Fupgini.com%2F%23data_sources%27%20target%3D%27_blank%27%20rel%3D%27noopener%20noreferrer%27%3EMarkets%20data%3C%2Fa%3E%09f_autofe_roll_3d_std_cf25c6ce%09f_financial_date_stoxx_043cbcd4%09roll_3d_std%0ATraining%20dataset,%3Ca%20href%3D%27https%3A%2F%2Fupgini.com%2F%23data_sources%27%20target%3D%27_blank%27%20rel%3D%27noopener%20noreferrer%27%3EMarkets%20data%3C%2Fa%3E%09f_autofe_lag_7d_80f1c53c%09f_financial_date_gold_bf71e733%09lag_7d%0ATraining%20dataset,%3Ca%20href%3D%27https%3A%2F%2Fupgini.com%2F%23data_sources%27%20target%3D%27_blank%27%20rel%3D%27noopener%20noreferrer%27%3EMarkets%20data%3C%2Fa%3E%09f_autofe_roll_7d_median_8e1a5fee%09f_financial_date_vix_7d_to_1y_634c77eb%09roll_7d_median%0ATraining%20dataset,%3Ca%20href%3D%27https%3A%2F%2Fupgini.com%2F%23data_sources%27%20target%3D%27_blank%27%20rel%3D%27noopener%20noreferrer%27%3EMarkets%20data%3C%2Fa%3E%09f_autofe_roll_3d_std_8d2902a0%09f_financial_date_usd_eur_5d1b9c8f%09roll_3d_std%0ATraining%20dataset,%3Ca%20href%3D%27https%3A%2F%2Fupgini.com%2F%23data_sources%27%20target%3D%27_blank%27%20rel%3D%27noopener%20noreferrer%27%3EMarkets%20data%3C%2Fa%3E%09f_autofe_roll_2d_norm_mean_f727ebb5%09f_financial_date_usd_daydiff_8bcdeec4%09roll_2d_norm_mean%0ATraining%20dataset,%3Ca%20href%3D%27https%3A%2F%2Fupgini.com%2F%23data_sources%27%20target%3D%27_blank%27%20rel%3D%27noopener%20noreferrer%27%3EMarkets%20data%3C%2Fa%3E%09f_autofe_roll_2d_std_5994058b%09f_financial_date_vix_gap_b64bd2b9%09roll_2d_std%0ATraining%20dataset,%3Ca%20href%3D%27https%3A%2F%2Fupgini.com%2F%23data_sources%27%20target%3D%27_blank%27%20rel%3D%27noopener%20noreferrer%27%3EMarkets%20data%3C%2Fa%3E%09f_autofe_lag_1d_1e473dd0%09f_financial_date_usd_daydiff_8bcdeec4%09lag_1d%0ATraining%20dataset,%3Ca%20href%3D%27https%3A%2F%2Fupgini.com%2F%23data_sources%27%20target%3D%27_blank%27%20rel%3D%27noopener%20noreferrer%27%3ECalendar%20data%3C%2Fa%3E%09f_autofe_roll_3d_norm_mean_d3a34f3f%09f_events_date_year_sin1_3c44bc64%09roll_3d_norm_mean%0ATraining%20dataset,%3Ca%20href%3D%27https%3A%2F%2Fupgini.com%2F%23data_sources%27%20target%3D%27_blank%27%20rel%3D%27noopener%20noreferrer%27%3EMarkets%20data%3C%2Fa%3E%09f_autofe_roll_3d_std_e0a7813d%09f_financial_date_usd_7419609a%09roll_3d_std%0ATraining%20dataset,%3Ca%20href%3D%27https%3A%2F%2Fupgini.com%2F%23data_sources%27%20target%3D%27_blank%27%20rel%3D%27noopener%20noreferrer%27%3EMarkets%20data%3C%2Fa%3E%09f_autofe_roll_2d_norm_mean_85d150da%09f_financial_date_gold_daydiff_6c8f15fb%09roll_2d_norm_mean%0ATraining%20dataset,%3Ca%20href%3D%27https%3A%2F%2Fupgini.com%2F%23data_sources%27%20target%3D%27_blank%27%20rel%3D%27noopener%20noreferrer%27%3ECalendar%20data%3C%2Fa%3E%09f_autofe_roll_2d_norm_mean_fe42d9a4%09f_events_date_year_sin1_3c44bc64%09roll_2d_norm_mean%0ATraining%20dataset,%3Ca%20href%3D%27https%3A%2F%2Fupgini.com%2F%23data_sources%27%20target%3D%27_blank%27%20rel%3D%27noopener%20noreferrer%27%3EMarkets%20data%3C%2Fa%3E%09f_autofe_roll_2d_std_6466a8eb%09f_financial_date_natural_gas_92dac942%09roll_2d_std%0ATraining%20dataset,%3Ca%20href%3D%27https%3A%2F%2Fupgini.com%2F%23data_sources%27%20target%3D%27_blank%27%20rel%3D%27noopener%20noreferrer%27%3EMarkets%20data%3C%2Fa%3E%09f_autofe_lag_1d_8255eb29%09f_financial_date_usd_gap_615a0ec0%09lag_1d%0ATraining%20dataset,%3Ca%20href%3D%27https%3A%2F%2Fupgini.com%2F%23data_sources%27%20target%3D%27_blank%27%20rel%3D%27noopener%20noreferrer%27%3EMarkets%20data%3C%2Fa%3E%09f_autofe_roll_2d_std_b88ae2e3%09f_financial_date_silver_gap_f5b63f5b%09roll_2d_std%0ATraining%20dataset,%3Ca%20href%3D%27https%3A%2F%2Fupgini.com%2F%23data_sources%27%20target%3D%27_blank%27%20rel%3D%27noopener%20noreferrer%27%3EMarkets%20data%3C%2Fa%3E%09f_autofe_roll_2d_min_aa7719e1%09f_financial_date_silver_daydiff_25cf4951%09roll_2d_min%0ATraining%20dataset,%3Ca%20href%3D%27https%3A%2F%2Fupgini.com%2F%23data_sources%27%20target%3D%27_blank%27%20rel%3D%27noopener%20noreferrer%27%3EMarkets%20data%3C%2Fa%3E%09f_autofe_lag_3d_3c41924a%09f_financial_date_silver_daydiff_25cf4951%09lag_3d%0A'>\n",
              "                    <button>📨 Share</button>\n",
              "                </a>\n",
              "            </div>\n",
              "            <table class='upgini-df'><thead><th>Sources</th><th>Feature name</th><th>Feature 1</th><th>Function</th></thead><tbody><tr><td class='upgini-text'>Training dataset,<a href='https://upgini.com/#data_sources' target='_blank' rel='noopener noreferrer'>Calendar data</a></td><td class='upgini-text'>f_autofe_lag_7d_44ccb1e1</td><td class='upgini-text'>f_events_date_year_cos1_9014a856</td><td class='upgini-text'>lag_7d</td></tr><tr><td class='upgini-text'>Training dataset,<a href='https://upgini.com/#data_sources' target='_blank' rel='noopener noreferrer'>Calendar data</a></td><td class='upgini-text'>f_autofe_lag_3d_d168eb3e</td><td class='upgini-text'>f_events_date_week_sin1_847b5db1</td><td class='upgini-text'>lag_3d</td></tr><tr><td class='upgini-text'>Training dataset,<a href='https://upgini.com/#data_sources' target='_blank' rel='noopener noreferrer'>Markets data</a></td><td class='upgini-text'>f_autofe_lag_3d_5dba02da</td><td class='upgini-text'>f_financial_date_stoxx_043cbcd4</td><td class='upgini-text'>lag_3d</td></tr><tr><td class='upgini-text'>Training dataset,<a href='https://upgini.com/#data_sources' target='_blank' rel='noopener noreferrer'>Markets data</a></td><td class='upgini-text'>f_autofe_lag_7d_6354b8dc</td><td class='upgini-text'>f_financial_date_stoxx_043cbcd4</td><td class='upgini-text'>lag_7d</td></tr><tr><td class='upgini-text'>Training dataset,<a href='https://upgini.com/#data_sources' target='_blank' rel='noopener noreferrer'>Calendar data</a></td><td class='upgini-text'>f_autofe_lag_7d_24084e88</td><td class='upgini-text'>f_events_date_week_sin1_847b5db1</td><td class='upgini-text'>lag_7d</td></tr><tr><td class='upgini-text'>Training dataset,<a href='https://upgini.com/#data_sources' target='_blank' rel='noopener noreferrer'>Calendar data</a></td><td class='upgini-text'>f_autofe_lag_2d_1947d061</td><td class='upgini-text'>f_events_date_week_cos1_f6a8c1fc</td><td class='upgini-text'>lag_2d</td></tr><tr><td class='upgini-text'>Training dataset,<a href='https://upgini.com/#data_sources' target='_blank' rel='noopener noreferrer'>Calendar data</a></td><td class='upgini-text'>f_autofe_roll_7d_norm_mean_f4c75f3e</td><td class='upgini-text'>f_events_date_year_cos1_9014a856</td><td class='upgini-text'>roll_7d_norm_mean</td></tr><tr><td class='upgini-text'>Training dataset,<a href='https://upgini.com/#data_sources' target='_blank' rel='noopener noreferrer'>Markets data</a></td><td class='upgini-text'>f_autofe_lag_3d_7d332726</td><td class='upgini-text'>f_financial_date_gold_bf71e733</td><td class='upgini-text'>lag_3d</td></tr><tr><td class='upgini-text'>Training dataset,<a href='https://upgini.com/#data_sources' target='_blank' rel='noopener noreferrer'>Calendar data</a></td><td class='upgini-text'>f_autofe_lag_1d_5138dd83</td><td class='upgini-text'>f_events_date_week_sin2_e28440a5</td><td class='upgini-text'>lag_1d</td></tr><tr><td class='upgini-text'>Training dataset,<a href='https://upgini.com/#data_sources' target='_blank' rel='noopener noreferrer'>Calendar data</a></td><td class='upgini-text'>f_autofe_roll_7d_norm_mean_b8cbc4e4</td><td class='upgini-text'>f_events_date_week_cos2_b0a07cfc</td><td class='upgini-text'>roll_7d_norm_mean</td></tr><tr><td class='upgini-text'>Training dataset,<a href='https://upgini.com/#data_sources' target='_blank' rel='noopener noreferrer'>Calendar data</a></td><td class='upgini-text'>f_autofe_roll_3d_median_67a4ca4c</td><td class='upgini-text'>f_events_date_week_cos3_7525fe31</td><td class='upgini-text'>roll_3d_median</td></tr><tr><td class='upgini-text'>Training dataset,<a href='https://upgini.com/#data_sources' target='_blank' rel='noopener noreferrer'>Calendar data</a></td><td class='upgini-text'>f_autofe_roll_2d_min_bd3d6759</td><td class='upgini-text'>f_events_date_week_cos1_f6a8c1fc</td><td class='upgini-text'>roll_2d_min</td></tr><tr><td class='upgini-text'>Training dataset,<a href='https://upgini.com/#data_sources' target='_blank' rel='noopener noreferrer'>Markets data</a></td><td class='upgini-text'>f_autofe_lag_7d_298854c4</td><td class='upgini-text'>f_financial_date_natural_gas_7d_to_1y_7a6f300d</td><td class='upgini-text'>lag_7d</td></tr><tr><td class='upgini-text'>Training dataset,<a href='https://upgini.com/#data_sources' target='_blank' rel='noopener noreferrer'>Markets data</a></td><td class='upgini-text'>f_autofe_roll_3d_std_43db36b9</td><td class='upgini-text'>f_financial_date_crude_oil_1f195998</td><td class='upgini-text'>roll_3d_std</td></tr><tr><td class='upgini-text'>Training dataset,<a href='https://upgini.com/#data_sources' target='_blank' rel='noopener noreferrer'>Markets data</a></td><td class='upgini-text'>f_autofe_roll_3d_std_cf25c6ce</td><td class='upgini-text'>f_financial_date_stoxx_043cbcd4</td><td class='upgini-text'>roll_3d_std</td></tr><tr><td class='upgini-text'>Training dataset,<a href='https://upgini.com/#data_sources' target='_blank' rel='noopener noreferrer'>Markets data</a></td><td class='upgini-text'>f_autofe_lag_7d_80f1c53c</td><td class='upgini-text'>f_financial_date_gold_bf71e733</td><td class='upgini-text'>lag_7d</td></tr><tr><td class='upgini-text'>Training dataset,<a href='https://upgini.com/#data_sources' target='_blank' rel='noopener noreferrer'>Markets data</a></td><td class='upgini-text'>f_autofe_roll_7d_median_8e1a5fee</td><td class='upgini-text'>f_financial_date_vix_7d_to_1y_634c77eb</td><td class='upgini-text'>roll_7d_median</td></tr><tr><td class='upgini-text'>Training dataset,<a href='https://upgini.com/#data_sources' target='_blank' rel='noopener noreferrer'>Markets data</a></td><td class='upgini-text'>f_autofe_roll_3d_std_8d2902a0</td><td class='upgini-text'>f_financial_date_usd_eur_5d1b9c8f</td><td class='upgini-text'>roll_3d_std</td></tr><tr><td class='upgini-text'>Training dataset,<a href='https://upgini.com/#data_sources' target='_blank' rel='noopener noreferrer'>Markets data</a></td><td class='upgini-text'>f_autofe_roll_2d_norm_mean_f727ebb5</td><td class='upgini-text'>f_financial_date_usd_daydiff_8bcdeec4</td><td class='upgini-text'>roll_2d_norm_mean</td></tr><tr><td class='upgini-text'>Training dataset,<a href='https://upgini.com/#data_sources' target='_blank' rel='noopener noreferrer'>Markets data</a></td><td class='upgini-text'>f_autofe_roll_2d_std_5994058b</td><td class='upgini-text'>f_financial_date_vix_gap_b64bd2b9</td><td class='upgini-text'>roll_2d_std</td></tr><tr><td class='upgini-text'>Training dataset,<a href='https://upgini.com/#data_sources' target='_blank' rel='noopener noreferrer'>Markets data</a></td><td class='upgini-text'>f_autofe_lag_1d_1e473dd0</td><td class='upgini-text'>f_financial_date_usd_daydiff_8bcdeec4</td><td class='upgini-text'>lag_1d</td></tr><tr><td class='upgini-text'>Training dataset,<a href='https://upgini.com/#data_sources' target='_blank' rel='noopener noreferrer'>Calendar data</a></td><td class='upgini-text'>f_autofe_roll_3d_norm_mean_d3a34f3f</td><td class='upgini-text'>f_events_date_year_sin1_3c44bc64</td><td class='upgini-text'>roll_3d_norm_mean</td></tr><tr><td class='upgini-text'>Training dataset,<a href='https://upgini.com/#data_sources' target='_blank' rel='noopener noreferrer'>Markets data</a></td><td class='upgini-text'>f_autofe_roll_3d_std_e0a7813d</td><td class='upgini-text'>f_financial_date_usd_7419609a</td><td class='upgini-text'>roll_3d_std</td></tr><tr><td class='upgini-text'>Training dataset,<a href='https://upgini.com/#data_sources' target='_blank' rel='noopener noreferrer'>Markets data</a></td><td class='upgini-text'>f_autofe_roll_2d_norm_mean_85d150da</td><td class='upgini-text'>f_financial_date_gold_daydiff_6c8f15fb</td><td class='upgini-text'>roll_2d_norm_mean</td></tr><tr><td class='upgini-text'>Training dataset,<a href='https://upgini.com/#data_sources' target='_blank' rel='noopener noreferrer'>Calendar data</a></td><td class='upgini-text'>f_autofe_roll_2d_norm_mean_fe42d9a4</td><td class='upgini-text'>f_events_date_year_sin1_3c44bc64</td><td class='upgini-text'>roll_2d_norm_mean</td></tr><tr><td class='upgini-text'>Training dataset,<a href='https://upgini.com/#data_sources' target='_blank' rel='noopener noreferrer'>Markets data</a></td><td class='upgini-text'>f_autofe_roll_2d_std_6466a8eb</td><td class='upgini-text'>f_financial_date_natural_gas_92dac942</td><td class='upgini-text'>roll_2d_std</td></tr><tr><td class='upgini-text'>Training dataset,<a href='https://upgini.com/#data_sources' target='_blank' rel='noopener noreferrer'>Markets data</a></td><td class='upgini-text'>f_autofe_lag_1d_8255eb29</td><td class='upgini-text'>f_financial_date_usd_gap_615a0ec0</td><td class='upgini-text'>lag_1d</td></tr><tr><td class='upgini-text'>Training dataset,<a href='https://upgini.com/#data_sources' target='_blank' rel='noopener noreferrer'>Markets data</a></td><td class='upgini-text'>f_autofe_roll_2d_std_b88ae2e3</td><td class='upgini-text'>f_financial_date_silver_gap_f5b63f5b</td><td class='upgini-text'>roll_2d_std</td></tr><tr><td class='upgini-text'>Training dataset,<a href='https://upgini.com/#data_sources' target='_blank' rel='noopener noreferrer'>Markets data</a></td><td class='upgini-text'>f_autofe_roll_2d_min_aa7719e1</td><td class='upgini-text'>f_financial_date_silver_daydiff_25cf4951</td><td class='upgini-text'>roll_2d_min</td></tr><tr><td class='upgini-text'>Training dataset,<a href='https://upgini.com/#data_sources' target='_blank' rel='noopener noreferrer'>Markets data</a></td><td class='upgini-text'>f_autofe_lag_3d_3c41924a</td><td class='upgini-text'>f_financial_date_silver_daydiff_25cf4951</td><td class='upgini-text'>lag_3d</td></tr></tbody></table>\n",
              "        </div>\n",
              "        "
            ]
          },
          "metadata": {}
        },
        {
          "output_type": "stream",
          "name": "stdout",
          "text": [
            "We detected 113 outliers in your sample.\n",
            "Examples of outliers with maximum value of target:\n",
            "84    205\n",
            "47    196\n",
            "38    187\n",
            "Name: target, dtype: int64\n",
            "Outliers will be excluded during the metrics calculation.\n",
            "Calculating accuracy uplift after enrichment...\n",
            "y distributions from the training sample and eval_set differ according to the Kolmogorov-Smirnov test,\n",
            "which makes metrics between the train and eval_set incomparable.\n"
          ]
        },
        {
          "output_type": "display_data",
          "data": {
            "text/plain": [
              "<IPython.core.display.HTML object>"
            ],
            "text/html": [
              "<style>\n",
              "            .upgini-df thead th {\n",
              "                font-weight:bold;\n",
              "                text-align: center;\n",
              "                padding: 0.5em;\n",
              "                border-bottom: 2px solid black;\n",
              "            }\n",
              "\n",
              "            .upgini-df tbody td {\n",
              "                padding: 0.5em;\n",
              "            }\n",
              "\n",
              "            .upgini-df tbody tr:nth-child(odd) {\n",
              "                background-color: #ffffff;\n",
              "            }\n",
              "\n",
              "            .upgini-df tbody tr:nth-child(even) {\n",
              "                background-color: #f2f2f2;\n",
              "            }\n",
              "\n",
              "            .upgini-text {\n",
              "                text-align: left;\n",
              "            }\n",
              "\n",
              "            .upgini-number {\n",
              "                text-align: center;\n",
              "            }\n",
              "        </style>\n",
              "        <h2>Accuracy after enrichment</h2>\n",
              "        <div style=\"display:flex; flex-direction:column; align-items:flex-end; width: fit-content;\">\n",
              "            \n",
              "            <div style=\"text-align: right\">\n",
              "                <button onclick=navigator.clipboard.writeText(decodeURI('Dataset%20type%09Rows%09Mean%20target%09Baseline%20mean_squared_error%09Enriched%20mean_squared_error%09Uplift%0ATrain%0915148%0949.9541%09300.946%20%C2%B1%20104.212%09196.937%20%C2%B1%2063.582%09104.00845167749327%0AEval%201%093739%0958.0011%09485.082%20%C2%B1%2067.936%09343.176%20%C2%B1%2085.612%09141.90649851989355%0A'))>📂 Copy</button>\n",
              "                <a href='mailto:<Share with...>?subject=Relevant external data sources from Upgini.com&body=Dataset%20type%09Rows%09Mean%20target%09Baseline%20mean_squared_error%09Enriched%20mean_squared_error%09Uplift%0ATrain%0915148%0949.9541%09300.946%20%C2%B1%20104.212%09196.937%20%C2%B1%2063.582%09104.00845167749327%0AEval%201%093739%0958.0011%09485.082%20%C2%B1%2067.936%09343.176%20%C2%B1%2085.612%09141.90649851989355%0A'>\n",
              "                    <button>📨 Share</button>\n",
              "                </a>\n",
              "            </div>\n",
              "            <table class='upgini-df'><thead><th>Dataset type</th><th>Rows</th><th>Mean target</th><th>Baseline mean_squared_error</th><th>Enriched mean_squared_error</th><th>Uplift</th></thead><tbody><tr><td class='upgini-text'>Train</td><td class='upgini-number'>15148</td><td class='upgini-number'>49.9541</td><td class='upgini-text'>300.946 ± 104.212</td><td class='upgini-text'>196.937 ± 63.582</td><td class='upgini-number'>104.0085</td></tr><tr><td class='upgini-text'>Eval 1</td><td class='upgini-number'>3739</td><td class='upgini-number'>58.0011</td><td class='upgini-text'>485.082 ± 67.936</td><td class='upgini-text'>343.176 ± 85.612</td><td class='upgini-number'>141.9065</td></tr></tbody></table>\n",
              "        </div>\n",
              "        "
            ]
          },
          "metadata": {}
        },
        {
          "output_type": "display_data",
          "data": {
            "text/plain": [
              "<IPython.core.display.HTML object>"
            ],
            "text/html": [
              "<a download=\"upgini-report-8fc7b6b6-db75-4c38-ba84-9939b9a8aee4.pdf\" href=\"data:application/pdf;base64,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\" target=\"_blank\">\n",
              "        <button>📊 Download PDF report</button></a>"
            ]
          },
          "metadata": {}
        }
      ]
    },
    {
      "cell_type": "code",
      "source": [
        "!pip install catboost"
      ],
      "metadata": {
        "colab": {
          "base_uri": "https://localhost:8080/",
          "height": 0
        },
        "id": "HFalo1U3JptP",
        "outputId": "f5ef2c7e-06a8-4190-bbe3-8aca93df516a"
      },
      "execution_count": 8,
      "outputs": [
        {
          "output_type": "stream",
          "name": "stdout",
          "text": [
            "Requirement already satisfied: catboost in /usr/local/lib/python3.11/dist-packages (1.2.7)\n",
            "Requirement already satisfied: graphviz in /usr/local/lib/python3.11/dist-packages (from catboost) (0.20.3)\n",
            "Requirement already satisfied: matplotlib in /usr/local/lib/python3.11/dist-packages (from catboost) (3.10.0)\n",
            "Requirement already satisfied: numpy<2.0,>=1.16.0 in /usr/local/lib/python3.11/dist-packages (from catboost) (1.26.4)\n",
            "Requirement already satisfied: pandas>=0.24 in /usr/local/lib/python3.11/dist-packages (from catboost) (2.2.2)\n",
            "Requirement already satisfied: scipy in /usr/local/lib/python3.11/dist-packages (from catboost) (1.13.1)\n",
            "Requirement already satisfied: plotly in /usr/local/lib/python3.11/dist-packages (from catboost) (5.24.1)\n",
            "Requirement already satisfied: six in /usr/local/lib/python3.11/dist-packages (from catboost) (1.17.0)\n",
            "Requirement already satisfied: python-dateutil>=2.8.2 in /usr/local/lib/python3.11/dist-packages (from pandas>=0.24->catboost) (2.8.2)\n",
            "Requirement already satisfied: pytz>=2020.1 in /usr/local/lib/python3.11/dist-packages (from pandas>=0.24->catboost) (2025.1)\n",
            "Requirement already satisfied: tzdata>=2022.7 in /usr/local/lib/python3.11/dist-packages (from pandas>=0.24->catboost) (2025.1)\n",
            "Requirement already satisfied: contourpy>=1.0.1 in /usr/local/lib/python3.11/dist-packages (from matplotlib->catboost) (1.3.1)\n",
            "Requirement already satisfied: cycler>=0.10 in /usr/local/lib/python3.11/dist-packages (from matplotlib->catboost) (0.12.1)\n",
            "Requirement already satisfied: fonttools>=4.22.0 in /usr/local/lib/python3.11/dist-packages (from matplotlib->catboost) (4.56.0)\n",
            "Requirement already satisfied: kiwisolver>=1.3.1 in /usr/local/lib/python3.11/dist-packages (from matplotlib->catboost) (1.4.8)\n",
            "Requirement already satisfied: packaging>=20.0 in /usr/local/lib/python3.11/dist-packages (from matplotlib->catboost) (24.2)\n",
            "Requirement already satisfied: pillow>=8 in /usr/local/lib/python3.11/dist-packages (from matplotlib->catboost) (11.1.0)\n",
            "Requirement already satisfied: pyparsing>=2.3.1 in /usr/local/lib/python3.11/dist-packages (from matplotlib->catboost) (3.2.1)\n",
            "Requirement already satisfied: tenacity>=6.2.0 in /usr/local/lib/python3.11/dist-packages (from plotly->catboost) (9.0.0)\n"
          ]
        }
      ]
    },
    {
      "cell_type": "code",
      "source": [
        "#7\n",
        "from catboost import CatBoostRegressor\n",
        "from catboost.utils import eval_metric\n",
        "\n",
        "model = CatBoostRegressor(verbose = False, allow_writing_files = False, random_state = 0)\n",
        "enricher.calculate_metrics(\n",
        "    train_features,train_target,\n",
        "    eval_set = [(test_features,test_target)],\n",
        "    estimater = model,\n",
        "    scoring = \"mean_absolute_percentage_error\"\n",
        ")"
      ],
      "metadata": {
        "colab": {
          "base_uri": "https://localhost:8080/",
          "height": 2899
        },
        "id": "uklPet6WlOkc",
        "outputId": "54a63317-2a31-4cf5-995c-43a8e370f0fd"
      },
      "execution_count": 14,
      "outputs": [
        {
          "output_type": "stream",
          "name": "stdout",
          "text": [
            "WARNING: Unsupported named arguments for calculate_metrics: {'estimater': <catboost.core.CatBoostRegressor object at 0x798856fa4e10>}\n",
            "Calculating accuracy uplift after enrichment...\n",
            "y distributions from the training sample and eval_set differ according to the Kolmogorov-Smirnov test,\n",
            "which makes metrics between the train and eval_set incomparable.\n"
          ]
        },
        {
          "output_type": "display_data",
          "data": {
            "text/plain": [
              "<IPython.core.display.HTML object>"
            ],
            "text/html": [
              "<style>\n",
              "            .upgini-df thead th {\n",
              "                font-weight:bold;\n",
              "                text-align: center;\n",
              "                padding: 0.5em;\n",
              "                border-bottom: 2px solid black;\n",
              "            }\n",
              "\n",
              "            .upgini-df tbody td {\n",
              "                padding: 0.5em;\n",
              "            }\n",
              "\n",
              "            .upgini-df tbody tr:nth-child(odd) {\n",
              "                background-color: #ffffff;\n",
              "            }\n",
              "\n",
              "            .upgini-df tbody tr:nth-child(even) {\n",
              "                background-color: #f2f2f2;\n",
              "            }\n",
              "\n",
              "            .upgini-text {\n",
              "                text-align: left;\n",
              "            }\n",
              "\n",
              "            .upgini-number {\n",
              "                text-align: center;\n",
              "            }\n",
              "        </style>\n",
              "        <h2>Relevant features</h2>\n",
              "        <div style=\"display:flex; flex-direction:column; align-items:flex-end; width: fit-content;\">\n",
              "            \n",
              "            <div style=\"text-align: right\">\n",
              "                <button onclick=navigator.clipboard.writeText(decodeURI('Feature%20name%09SHAP%20value%09Coverage%20%25%09Value%20preview%09Provider%09Source%09Updates%0Aitem%0910.9409%09100.0%0924,%2031,%2047%09%09%09%0Astore%095.9673%09100.0%0910,%205,%209%09%09%09%0Af_events_date_year_cos1_9014a856%094.3715%09100.0%09-0.9646,%20-0.0943,%200.1284%09Upgini%09Calendar%20data%09Daily%0Af_autofe_lag_7d_44ccb1e1%091.6936%0999.48070728981791%09-0.2959,%200.2129,%200.9357%09Training%20dataset%09AutoFE%3A%20features%20from%20Training%20dataset,%3Ca%20href%3D%27https%3A%2F%2Fupgini.com%2F%23data_sources%27%20target%3D%27_blank%27%20rel%3D%27noopener%20noreferrer%27%3ECalendar%20data%3C%2Fa%3E%09Daily%0Af_autofe_lag_3d_d168eb3e%091.261%0999.78308026030369%090.7818,%20-0.4339,%20-0.4339%09Training%20dataset%09AutoFE%3A%20features%20from%20Training%20dataset,%3Ca%20href%3D%27https%3A%2F%2Fupgini.com%2F%23data_sources%27%20target%3D%27_blank%27%20rel%3D%27noopener%20noreferrer%27%3ECalendar%20data%3C%2Fa%3E%09Daily%0Af_events_date_week_sin1_847b5db1%090.9548%09100.0%090.9749,%200.9749,%20-0.4339%09Upgini%09Calendar%20data%09Daily%0Af_autofe_lag_3d_5dba02da%090.7407%0999.78308026030369%09337.5,%20361.87,%20379.33%09Training%20dataset%09AutoFE%3A%20features%20from%20Training%20dataset,%3Ca%20href%3D%27https%3A%2F%2Fupgini.com%2F%23data_sources%27%20target%3D%27_blank%27%20rel%3D%27noopener%20noreferrer%27%3EMarkets%20data%3C%2Fa%3E%09Daily%0Af_financial_date_gold_bf71e733%090.7402%09100.0%091142.3,%201170.8,%201293.3%09Upgini%09Markets%20data%09Daily%0Af_autofe_lag_7d_6354b8dc%090.6349%0999.48070728981791%09375.1,%20372.48,%20382.65%09Training%20dataset%09AutoFE%3A%20features%20from%20Training%20dataset,%3Ca%20href%3D%27https%3A%2F%2Fupgini.com%2F%23data_sources%27%20target%3D%27_blank%27%20rel%3D%27noopener%20noreferrer%27%3EMarkets%20data%3C%2Fa%3E%09Daily%0Af_autofe_lag_7d_24084e88%090.5429%0999.48070728981791%090.0,%200.4339,%200.4339%09Training%20dataset%09AutoFE%3A%20features%20from%20Training%20dataset,%3Ca%20href%3D%27https%3A%2F%2Fupgini.com%2F%23data_sources%27%20target%3D%27_blank%27%20rel%3D%27noopener%20noreferrer%27%3ECalendar%20data%3C%2Fa%3E%09Daily%0Af_autofe_lag_2d_1947d061%090.5071%0999.85538684020246%09-0.2225,%20-0.2225,%20-0.901%09Training%20dataset%09AutoFE%3A%20features%20from%20Training%20dataset,%3Ca%20href%3D%27https%3A%2F%2Fupgini.com%2F%23data_sources%27%20target%3D%27_blank%27%20rel%3D%27noopener%20noreferrer%27%3ECalendar%20data%3C%2Fa%3E%09Daily%0Af_autofe_roll_7d_norm_mean_f4c75f3e%090.4357%0999.5530138697167%091.0091,%200.9903,%201.1655%09Training%20dataset%09AutoFE%3A%20features%20from%20Training%20dataset,%3Ca%20href%3D%27https%3A%2F%2Fupgini.com%2F%23data_sources%27%20target%3D%27_blank%27%20rel%3D%27noopener%20noreferrer%27%3ECalendar%20data%3C%2Fa%3E%09Daily%0Af_autofe_lag_3d_7d332726%090.4328%0999.78308026030369%091576.6,%201253.2,%201283.0%09Training%20dataset%09AutoFE%3A%20features%20from%20Training%20dataset,%3Ca%20href%3D%27https%3A%2F%2Fupgini.com%2F%23data_sources%27%20target%3D%27_blank%27%20rel%3D%27noopener%20noreferrer%27%3EMarkets%20data%3C%2Fa%3E%09Daily%0Af_autofe_lag_1d_5138dd83%090.423%0999.93426674554658%09-0.4339,%20-0.9749,%200.4339%09Training%20dataset%09AutoFE%3A%20features%20from%20Training%20dataset,%3Ca%20href%3D%27https%3A%2F%2Fupgini.com%2F%23data_sources%27%20target%3D%27_blank%27%20rel%3D%27noopener%20noreferrer%27%3ECalendar%20data%3C%2Fa%3E%09Daily%0Af_autofe_roll_7d_norm_mean_b8cbc4e4%090.3182%0942.936961808979156%096.305039478318694e%2B16,%20-1.8706...%09Training%20dataset%09AutoFE%3A%20features%20from%20Training%20dataset,%3Ca%20href%3D%27https%3A%2F%2Fupgini.com%2F%23data_sources%27%20target%3D%27_blank%27%20rel%3D%27noopener%20noreferrer%27%3ECalendar%20data%3C%2Fa%3E%09Daily%0Af_autofe_roll_3d_median_67a4ca4c%090.2815%0999.85538684020246%090.6235,%20-0.2225,%200.6235%09Training%20dataset%09AutoFE%3A%20features%20from%20Training%20dataset,%3Ca%20href%3D%27https%3A%2F%2Fupgini.com%2F%23data_sources%27%20target%3D%27_blank%27%20rel%3D%27noopener%20noreferrer%27%3ECalendar%20data%3C%2Fa%3E%09Daily%0Af_autofe_roll_2d_min_bd3d6759%090.2457%0999.93426674554658%09-0.901,%200.6235,%200.6235%09Training%20dataset%09AutoFE%3A%20features%20from%20Training%20dataset,%3Ca%20href%3D%27https%3A%2F%2Fupgini.com%2F%23data_sources%27%20target%3D%27_blank%27%20rel%3D%27noopener%20noreferrer%27%3ECalendar%20data%3C%2Fa%3E%09Daily%0Af_autofe_lag_7d_298854c4%090.2094%0999.48070728981791%091.124,%201.0669,%200.867%09Training%20dataset%09AutoFE%3A%20features%20from%20Training%20dataset,%3Ca%20href%3D%27https%3A%2F%2Fupgini.com%2F%23data_sources%27%20target%3D%27_blank%27%20rel%3D%27noopener%20noreferrer%27%3EMarkets%20data%3C%2Fa%3E%09Daily%0Af_autofe_roll_3d_std_43db36b9%090.191%0999.85538684020246%090.484,%200.866,%200.3522%09Training%20dataset%09AutoFE%3A%20features%20from%20Training%20dataset,%3Ca%20href%3D%27https%3A%2F%2Fupgini.com%2F%23data_sources%27%20target%3D%27_blank%27%20rel%3D%27noopener%20noreferrer%27%3EMarkets%20data%3C%2Fa%3E%09Daily%0Af_financial_date_natural_gas_7d_to_7d_1y_shift_a5c3c07f%090.1753%09100.0%090.9107,%201.3018,%200.6369%09Upgini%09Markets%20data%09Daily%0Af_financial_date_crude_oil_1f195998%090.1507%09100.0%0949.13,%2043.46,%2099.32%09Upgini%09Markets%20data%09Daily%0Af_autofe_roll_3d_std_cf25c6ce%090.1395%0999.85538684020246%090.8776,%203.109,%200.2771%09Training%20dataset%09AutoFE%3A%20features%20from%20Training%20dataset,%3Ca%20href%3D%27https%3A%2F%2Fupgini.com%2F%23data_sources%27%20target%3D%27_blank%27%20rel%3D%27noopener%20noreferrer%27%3EMarkets%20data%3C%2Fa%3E%09Daily%0Af_autofe_lag_7d_80f1c53c%090.1252%0999.48070728981791%091434.5,%201677.7,%201300.4%09Training%20dataset%09AutoFE%3A%20features%20from%20Training%20dataset,%3Ca%20href%3D%27https%3A%2F%2Fupgini.com%2F%23data_sources%27%20target%3D%27_blank%27%20rel%3D%27noopener%20noreferrer%27%3EMarkets%20data%3C%2Fa%3E%09Daily%0Af_autofe_roll_7d_median_8e1a5fee%090.0988%0999.5530138697167%090.9883,%201.1574,%200.8658%09Training%20dataset%09AutoFE%3A%20features%20from%20Training%20dataset,%3Ca%20href%3D%27https%3A%2F%2Fupgini.com%2F%23data_sources%27%20target%3D%27_blank%27%20rel%3D%27noopener%20noreferrer%27%3EMarkets%20data%3C%2Fa%3E%09Daily%0Af_autofe_roll_3d_std_8d2902a0%090.0941%0999.85538684020246%090.0016,%200.0004,%200.0033%09Training%20dataset%09AutoFE%3A%20features%20from%20Training%20dataset,%3Ca%20href%3D%27https%3A%2F%2Fupgini.com%2F%23data_sources%27%20target%3D%27_blank%27%20rel%3D%27noopener%20noreferrer%27%3EMarkets%20data%3C%2Fa%3E%09Daily%0Af_autofe_roll_2d_norm_mean_f727ebb5%090.0893%0982.99480707289818%091.4286,%20-0.3999,%202.9473%09Training%20dataset%09AutoFE%3A%20features%20from%20Training%20dataset,%3Ca%20href%3D%27https%3A%2F%2Fupgini.com%2F%23data_sources%27%20target%3D%27_blank%27%20rel%3D%27noopener%20noreferrer%27%3EMarkets%20data%3C%2Fa%3E%09Daily%0Af_autofe_roll_2d_std_5994058b%090.0865%0999.93426674554658%090.297,%200.2616,%200.8415%09Training%20dataset%09AutoFE%3A%20features%20from%20Training%20dataset,%3Ca%20href%3D%27https%3A%2F%2Fupgini.com%2F%23data_sources%27%20target%3D%27_blank%27%20rel%3D%27noopener%20noreferrer%27%3EMarkets%20data%3C%2Fa%3E%09Daily%0Af_autofe_lag_1d_1e473dd0%090.0775%0999.93426674554658%091.21,%201.07,%200.59%09Training%20dataset%09AutoFE%3A%20features%20from%20Training%20dataset,%3Ca%20href%3D%27https%3A%2F%2Fupgini.com%2F%23data_sources%27%20target%3D%27_blank%27%20rel%3D%27noopener%20noreferrer%27%3EMarkets%20data%3C%2Fa%3E%09Daily%0Af_autofe_roll_3d_norm_mean_d3a34f3f%090.0757%0999.85538684020246%090.939,%201.0106,%200.9811%09Training%20dataset%09AutoFE%3A%20features%20from%20Training%20dataset,%3Ca%20href%3D%27https%3A%2F%2Fupgini.com%2F%23data_sources%27%20target%3D%27_blank%27%20rel%3D%27noopener%20noreferrer%27%3ECalendar%20data%3C%2Fa%3E%09Daily%0Af_autofe_roll_3d_std_e0a7813d%090.0605%0999.85538684020246%090.1069,%200.1998,%200.4215%09Training%20dataset%09AutoFE%3A%20features%20from%20Training%20dataset,%3Ca%20href%3D%27https%3A%2F%2Fupgini.com%2F%23data_sources%27%20target%3D%27_blank%27%20rel%3D%27noopener%20noreferrer%27%3EMarkets%20data%3C%2Fa%3E%09Daily%0Af_autofe_roll_2d_norm_mean_85d150da%090.0593%0982.48866101360679%09-0.1443,%201.7474,%20-270.0659%09Training%20dataset%09AutoFE%3A%20features%20from%20Training%20dataset,%3Ca%20href%3D%27https%3A%2F%2Fupgini.com%2F%23data_sources%27%20target%3D%27_blank%27%20rel%3D%27noopener%20noreferrer%27%3EMarkets%20data%3C%2Fa%3E%09Daily%0Af_autofe_roll_2d_norm_mean_fe42d9a4%090.0577%0999.93426674554658%090.9953,%201.0998,%201.0584%09Training%20dataset%09AutoFE%3A%20features%20from%20Training%20dataset,%3Ca%20href%3D%27https%3A%2F%2Fupgini.com%2F%23data_sources%27%20target%3D%27_blank%27%20rel%3D%27noopener%20noreferrer%27%3ECalendar%20data%3C%2Fa%3E%09Daily%0Af_autofe_roll_2d_std_6466a8eb%090.0366%0999.93426674554658%090.0594,%200.0042,%200.1004%09Training%20dataset%09AutoFE%3A%20features%20from%20Training%20dataset,%3Ca%20href%3D%27https%3A%2F%2Fupgini.com%2F%23data_sources%27%20target%3D%27_blank%27%20rel%3D%27noopener%20noreferrer%27%3EMarkets%20data%3C%2Fa%3E%09Daily%0Af_autofe_lag_1d_8255eb29%090.0327%0999.93426674554658%09-0.2,%200.25,%20-0.02%09Training%20dataset%09AutoFE%3A%20features%20from%20Training%20dataset,%3Ca%20href%3D%27https%3A%2F%2Fupgini.com%2F%23data_sources%27%20target%3D%27_blank%27%20rel%3D%27noopener%20noreferrer%27%3EMarkets%20data%3C%2Fa%3E%09Daily%0Af_autofe_roll_2d_std_b88ae2e3%090.0108%0999.93426674554658%090.2015,%200.1343,%200.2234%09Training%20dataset%09AutoFE%3A%20features%20from%20Training%20dataset,%3Ca%20href%3D%27https%3A%2F%2Fupgini.com%2F%23data_sources%27%20target%3D%27_blank%27%20rel%3D%27noopener%20noreferrer%27%3EMarkets%20data%3C%2Fa%3E%09Daily%0Af_autofe_roll_2d_min_aa7719e1%090.0058%0999.93426674554658%090.225,%200.113,%20-0.041%09Training%20dataset%09AutoFE%3A%20features%20from%20Training%20dataset,%3Ca%20href%3D%27https%3A%2F%2Fupgini.com%2F%23data_sources%27%20target%3D%27_blank%27%20rel%3D%27noopener%20noreferrer%27%3EMarkets%20data%3C%2Fa%3E%09Daily%0Af_autofe_lag_3d_3c41924a%090.0056%0999.78308026030369%09-0.49,%20-0.333,%200.847%09Training%20dataset%09AutoFE%3A%20features%20from%20Training%20dataset,%3Ca%20href%3D%27https%3A%2F%2Fupgini.com%2F%23data_sources%27%20target%3D%27_blank%27%20rel%3D%27noopener%20noreferrer%27%3EMarkets%20data%3C%2Fa%3E%09Daily%0A'))>📂 Copy</button>\n",
              "                <a href='mailto:<Share with...>?subject=Relevant external data sources from Upgini.com&body=Feature%20name%09SHAP%20value%09Coverage%20%25%09Value%20preview%09Provider%09Source%09Updates%0Aitem%0910.9409%09100.0%0924,%2031,%2047%09%09%09%0Astore%095.9673%09100.0%0910,%205,%209%09%09%09%0Af_events_date_year_cos1_9014a856%094.3715%09100.0%09-0.9646,%20-0.0943,%200.1284%09Upgini%09Calendar%20data%09Daily%0Af_autofe_lag_7d_44ccb1e1%091.6936%0999.48070728981791%09-0.2959,%200.2129,%200.9357%09Training%20dataset%09AutoFE%3A%20features%20from%20Training%20dataset,%3Ca%20href%3D%27https%3A%2F%2Fupgini.com%2F%23data_sources%27%20target%3D%27_blank%27%20rel%3D%27noopener%20noreferrer%27%3ECalendar%20data%3C%2Fa%3E%09Daily%0Af_autofe_lag_3d_d168eb3e%091.261%0999.78308026030369%090.7818,%20-0.4339,%20-0.4339%09Training%20dataset%09AutoFE%3A%20features%20from%20Training%20dataset,%3Ca%20href%3D%27https%3A%2F%2Fupgini.com%2F%23data_sources%27%20target%3D%27_blank%27%20rel%3D%27noopener%20noreferrer%27%3ECalendar%20data%3C%2Fa%3E%09Daily%0Af_events_date_week_sin1_847b5db1%090.9548%09100.0%090.9749,%200.9749,%20-0.4339%09Upgini%09Calendar%20data%09Daily%0Af_autofe_lag_3d_5dba02da%090.7407%0999.78308026030369%09337.5,%20361.87,%20379.33%09Training%20dataset%09AutoFE%3A%20features%20from%20Training%20dataset,%3Ca%20href%3D%27https%3A%2F%2Fupgini.com%2F%23data_sources%27%20target%3D%27_blank%27%20rel%3D%27noopener%20noreferrer%27%3EMarkets%20data%3C%2Fa%3E%09Daily%0Af_financial_date_gold_bf71e733%090.7402%09100.0%091142.3,%201170.8,%201293.3%09Upgini%09Markets%20data%09Daily%0Af_autofe_lag_7d_6354b8dc%090.6349%0999.48070728981791%09375.1,%20372.48,%20382.65%09Training%20dataset%09AutoFE%3A%20features%20from%20Training%20dataset,%3Ca%20href%3D%27https%3A%2F%2Fupgini.com%2F%23data_sources%27%20target%3D%27_blank%27%20rel%3D%27noopener%20noreferrer%27%3EMarkets%20data%3C%2Fa%3E%09Daily%0Af_autofe_lag_7d_24084e88%090.5429%0999.48070728981791%090.0,%200.4339,%200.4339%09Training%20dataset%09AutoFE%3A%20features%20from%20Training%20dataset,%3Ca%20href%3D%27https%3A%2F%2Fupgini.com%2F%23data_sources%27%20target%3D%27_blank%27%20rel%3D%27noopener%20noreferrer%27%3ECalendar%20data%3C%2Fa%3E%09Daily%0Af_autofe_lag_2d_1947d061%090.5071%0999.85538684020246%09-0.2225,%20-0.2225,%20-0.901%09Training%20dataset%09AutoFE%3A%20features%20from%20Training%20dataset,%3Ca%20href%3D%27https%3A%2F%2Fupgini.com%2F%23data_sources%27%20target%3D%27_blank%27%20rel%3D%27noopener%20noreferrer%27%3ECalendar%20data%3C%2Fa%3E%09Daily%0Af_autofe_roll_7d_norm_mean_f4c75f3e%090.4357%0999.5530138697167%091.0091,%200.9903,%201.1655%09Training%20dataset%09AutoFE%3A%20features%20from%20Training%20dataset,%3Ca%20href%3D%27https%3A%2F%2Fupgini.com%2F%23data_sources%27%20target%3D%27_blank%27%20rel%3D%27noopener%20noreferrer%27%3ECalendar%20data%3C%2Fa%3E%09Daily%0Af_autofe_lag_3d_7d332726%090.4328%0999.78308026030369%091576.6,%201253.2,%201283.0%09Training%20dataset%09AutoFE%3A%20features%20from%20Training%20dataset,%3Ca%20href%3D%27https%3A%2F%2Fupgini.com%2F%23data_sources%27%20target%3D%27_blank%27%20rel%3D%27noopener%20noreferrer%27%3EMarkets%20data%3C%2Fa%3E%09Daily%0Af_autofe_lag_1d_5138dd83%090.423%0999.93426674554658%09-0.4339,%20-0.9749,%200.4339%09Training%20dataset%09AutoFE%3A%20features%20from%20Training%20dataset,%3Ca%20href%3D%27https%3A%2F%2Fupgini.com%2F%23data_sources%27%20target%3D%27_blank%27%20rel%3D%27noopener%20noreferrer%27%3ECalendar%20data%3C%2Fa%3E%09Daily%0Af_autofe_roll_7d_norm_mean_b8cbc4e4%090.3182%0942.936961808979156%096.305039478318694e%2B16,%20-1.8706...%09Training%20dataset%09AutoFE%3A%20features%20from%20Training%20dataset,%3Ca%20href%3D%27https%3A%2F%2Fupgini.com%2F%23data_sources%27%20target%3D%27_blank%27%20rel%3D%27noopener%20noreferrer%27%3ECalendar%20data%3C%2Fa%3E%09Daily%0Af_autofe_roll_3d_median_67a4ca4c%090.2815%0999.85538684020246%090.6235,%20-0.2225,%200.6235%09Training%20dataset%09AutoFE%3A%20features%20from%20Training%20dataset,%3Ca%20href%3D%27https%3A%2F%2Fupgini.com%2F%23data_sources%27%20target%3D%27_blank%27%20rel%3D%27noopener%20noreferrer%27%3ECalendar%20data%3C%2Fa%3E%09Daily%0Af_autofe_roll_2d_min_bd3d6759%090.2457%0999.93426674554658%09-0.901,%200.6235,%200.6235%09Training%20dataset%09AutoFE%3A%20features%20from%20Training%20dataset,%3Ca%20href%3D%27https%3A%2F%2Fupgini.com%2F%23data_sources%27%20target%3D%27_blank%27%20rel%3D%27noopener%20noreferrer%27%3ECalendar%20data%3C%2Fa%3E%09Daily%0Af_autofe_lag_7d_298854c4%090.2094%0999.48070728981791%091.124,%201.0669,%200.867%09Training%20dataset%09AutoFE%3A%20features%20from%20Training%20dataset,%3Ca%20href%3D%27https%3A%2F%2Fupgini.com%2F%23data_sources%27%20target%3D%27_blank%27%20rel%3D%27noopener%20noreferrer%27%3EMarkets%20data%3C%2Fa%3E%09Daily%0Af_autofe_roll_3d_std_43db36b9%090.191%0999.85538684020246%090.484,%200.866,%200.3522%09Training%20dataset%09AutoFE%3A%20features%20from%20Training%20dataset,%3Ca%20href%3D%27https%3A%2F%2Fupgini.com%2F%23data_sources%27%20target%3D%27_blank%27%20rel%3D%27noopener%20noreferrer%27%3EMarkets%20data%3C%2Fa%3E%09Daily%0Af_financial_date_natural_gas_7d_to_7d_1y_shift_a5c3c07f%090.1753%09100.0%090.9107,%201.3018,%200.6369%09Upgini%09Markets%20data%09Daily%0Af_financial_date_crude_oil_1f195998%090.1507%09100.0%0949.13,%2043.46,%2099.32%09Upgini%09Markets%20data%09Daily%0Af_autofe_roll_3d_std_cf25c6ce%090.1395%0999.85538684020246%090.8776,%203.109,%200.2771%09Training%20dataset%09AutoFE%3A%20features%20from%20Training%20dataset,%3Ca%20href%3D%27https%3A%2F%2Fupgini.com%2F%23data_sources%27%20target%3D%27_blank%27%20rel%3D%27noopener%20noreferrer%27%3EMarkets%20data%3C%2Fa%3E%09Daily%0Af_autofe_lag_7d_80f1c53c%090.1252%0999.48070728981791%091434.5,%201677.7,%201300.4%09Training%20dataset%09AutoFE%3A%20features%20from%20Training%20dataset,%3Ca%20href%3D%27https%3A%2F%2Fupgini.com%2F%23data_sources%27%20target%3D%27_blank%27%20rel%3D%27noopener%20noreferrer%27%3EMarkets%20data%3C%2Fa%3E%09Daily%0Af_autofe_roll_7d_median_8e1a5fee%090.0988%0999.5530138697167%090.9883,%201.1574,%200.8658%09Training%20dataset%09AutoFE%3A%20features%20from%20Training%20dataset,%3Ca%20href%3D%27https%3A%2F%2Fupgini.com%2F%23data_sources%27%20target%3D%27_blank%27%20rel%3D%27noopener%20noreferrer%27%3EMarkets%20data%3C%2Fa%3E%09Daily%0Af_autofe_roll_3d_std_8d2902a0%090.0941%0999.85538684020246%090.0016,%200.0004,%200.0033%09Training%20dataset%09AutoFE%3A%20features%20from%20Training%20dataset,%3Ca%20href%3D%27https%3A%2F%2Fupgini.com%2F%23data_sources%27%20target%3D%27_blank%27%20rel%3D%27noopener%20noreferrer%27%3EMarkets%20data%3C%2Fa%3E%09Daily%0Af_autofe_roll_2d_norm_mean_f727ebb5%090.0893%0982.99480707289818%091.4286,%20-0.3999,%202.9473%09Training%20dataset%09AutoFE%3A%20features%20from%20Training%20dataset,%3Ca%20href%3D%27https%3A%2F%2Fupgini.com%2F%23data_sources%27%20target%3D%27_blank%27%20rel%3D%27noopener%20noreferrer%27%3EMarkets%20data%3C%2Fa%3E%09Daily%0Af_autofe_roll_2d_std_5994058b%090.0865%0999.93426674554658%090.297,%200.2616,%200.8415%09Training%20dataset%09AutoFE%3A%20features%20from%20Training%20dataset,%3Ca%20href%3D%27https%3A%2F%2Fupgini.com%2F%23data_sources%27%20target%3D%27_blank%27%20rel%3D%27noopener%20noreferrer%27%3EMarkets%20data%3C%2Fa%3E%09Daily%0Af_autofe_lag_1d_1e473dd0%090.0775%0999.93426674554658%091.21,%201.07,%200.59%09Training%20dataset%09AutoFE%3A%20features%20from%20Training%20dataset,%3Ca%20href%3D%27https%3A%2F%2Fupgini.com%2F%23data_sources%27%20target%3D%27_blank%27%20rel%3D%27noopener%20noreferrer%27%3EMarkets%20data%3C%2Fa%3E%09Daily%0Af_autofe_roll_3d_norm_mean_d3a34f3f%090.0757%0999.85538684020246%090.939,%201.0106,%200.9811%09Training%20dataset%09AutoFE%3A%20features%20from%20Training%20dataset,%3Ca%20href%3D%27https%3A%2F%2Fupgini.com%2F%23data_sources%27%20target%3D%27_blank%27%20rel%3D%27noopener%20noreferrer%27%3ECalendar%20data%3C%2Fa%3E%09Daily%0Af_autofe_roll_3d_std_e0a7813d%090.0605%0999.85538684020246%090.1069,%200.1998,%200.4215%09Training%20dataset%09AutoFE%3A%20features%20from%20Training%20dataset,%3Ca%20href%3D%27https%3A%2F%2Fupgini.com%2F%23data_sources%27%20target%3D%27_blank%27%20rel%3D%27noopener%20noreferrer%27%3EMarkets%20data%3C%2Fa%3E%09Daily%0Af_autofe_roll_2d_norm_mean_85d150da%090.0593%0982.48866101360679%09-0.1443,%201.7474,%20-270.0659%09Training%20dataset%09AutoFE%3A%20features%20from%20Training%20dataset,%3Ca%20href%3D%27https%3A%2F%2Fupgini.com%2F%23data_sources%27%20target%3D%27_blank%27%20rel%3D%27noopener%20noreferrer%27%3EMarkets%20data%3C%2Fa%3E%09Daily%0Af_autofe_roll_2d_norm_mean_fe42d9a4%090.0577%0999.93426674554658%090.9953,%201.0998,%201.0584%09Training%20dataset%09AutoFE%3A%20features%20from%20Training%20dataset,%3Ca%20href%3D%27https%3A%2F%2Fupgini.com%2F%23data_sources%27%20target%3D%27_blank%27%20rel%3D%27noopener%20noreferrer%27%3ECalendar%20data%3C%2Fa%3E%09Daily%0Af_autofe_roll_2d_std_6466a8eb%090.0366%0999.93426674554658%090.0594,%200.0042,%200.1004%09Training%20dataset%09AutoFE%3A%20features%20from%20Training%20dataset,%3Ca%20href%3D%27https%3A%2F%2Fupgini.com%2F%23data_sources%27%20target%3D%27_blank%27%20rel%3D%27noopener%20noreferrer%27%3EMarkets%20data%3C%2Fa%3E%09Daily%0Af_autofe_lag_1d_8255eb29%090.0327%0999.93426674554658%09-0.2,%200.25,%20-0.02%09Training%20dataset%09AutoFE%3A%20features%20from%20Training%20dataset,%3Ca%20href%3D%27https%3A%2F%2Fupgini.com%2F%23data_sources%27%20target%3D%27_blank%27%20rel%3D%27noopener%20noreferrer%27%3EMarkets%20data%3C%2Fa%3E%09Daily%0Af_autofe_roll_2d_std_b88ae2e3%090.0108%0999.93426674554658%090.2015,%200.1343,%200.2234%09Training%20dataset%09AutoFE%3A%20features%20from%20Training%20dataset,%3Ca%20href%3D%27https%3A%2F%2Fupgini.com%2F%23data_sources%27%20target%3D%27_blank%27%20rel%3D%27noopener%20noreferrer%27%3EMarkets%20data%3C%2Fa%3E%09Daily%0Af_autofe_roll_2d_min_aa7719e1%090.0058%0999.93426674554658%090.225,%200.113,%20-0.041%09Training%20dataset%09AutoFE%3A%20features%20from%20Training%20dataset,%3Ca%20href%3D%27https%3A%2F%2Fupgini.com%2F%23data_sources%27%20target%3D%27_blank%27%20rel%3D%27noopener%20noreferrer%27%3EMarkets%20data%3C%2Fa%3E%09Daily%0Af_autofe_lag_3d_3c41924a%090.0056%0999.78308026030369%09-0.49,%20-0.333,%200.847%09Training%20dataset%09AutoFE%3A%20features%20from%20Training%20dataset,%3Ca%20href%3D%27https%3A%2F%2Fupgini.com%2F%23data_sources%27%20target%3D%27_blank%27%20rel%3D%27noopener%20noreferrer%27%3EMarkets%20data%3C%2Fa%3E%09Daily%0A'>\n",
              "                    <button>📨 Share</button>\n",
              "                </a>\n",
              "            </div>\n",
              "            <table class='upgini-df'><thead><th>Feature name</th><th>SHAP value</th><th>Coverage %</th><th>Value preview</th><th>Provider</th><th>Source</th><th>Updates</th></thead><tbody><tr><td class='upgini-text'>item</td><td class='upgini-number'>10.9409</td><td class='upgini-number'>100.0000</td><td class='upgini-text'>24, 31, 47</td><td class='upgini-text'>&nbsp;</td><td class='upgini-text'>&nbsp;</td><td class='upgini-text'>&nbsp;</td></tr><tr><td class='upgini-text'>store</td><td class='upgini-number'>5.9673</td><td class='upgini-number'>100.0000</td><td class='upgini-text'>10, 5, 9</td><td class='upgini-text'>&nbsp;</td><td class='upgini-text'>&nbsp;</td><td class='upgini-text'>&nbsp;</td></tr><tr><td class='upgini-text'><a href='https://docs.upgini.com/public/calendar/calendar#f_events_date_year_cos1_9014a856' target='_blank' rel='noopener noreferrer'>f_events_date_year_cos1_9014a856</a></td><td class='upgini-number'>4.3715</td><td class='upgini-number'>100.0000</td><td class='upgini-text'>-0.9646, -0.0943, 0.1284</td><td class='upgini-text'><a href='https://upgini.com/' target='_blank' rel='noopener noreferrer'>Upgini</a></td><td class='upgini-text'><a href='https://upgini.com/#data_sources' target='_blank' rel='noopener noreferrer'>Calendar data</a></td><td class='upgini-text'>Daily</td></tr><tr><td class='upgini-text'>f_autofe_lag_7d_44ccb1e1</td><td class='upgini-number'>1.6936</td><td class='upgini-number'>99.4807</td><td class='upgini-text'>-0.2959, 0.2129, 0.9357</td><td class='upgini-text'>Training dataset,<a href='https://upgini.com/' target='_blank' rel='noopener noreferrer'>Upgini</a></td><td class='upgini-text'>AutoFE: features from Training dataset,<a href='https://upgini.com/#data_sources' target='_blank' rel='noopener noreferrer'>Calendar data</a></td><td class='upgini-text'>Daily</td></tr><tr><td class='upgini-text'>f_autofe_lag_3d_d168eb3e</td><td class='upgini-number'>1.2610</td><td class='upgini-number'>99.7831</td><td class='upgini-text'>0.7818, -0.4339, -0.4339</td><td class='upgini-text'>Training dataset,<a href='https://upgini.com/' target='_blank' rel='noopener noreferrer'>Upgini</a></td><td class='upgini-text'>AutoFE: features from Training dataset,<a href='https://upgini.com/#data_sources' target='_blank' rel='noopener noreferrer'>Calendar data</a></td><td class='upgini-text'>Daily</td></tr><tr><td class='upgini-text'><a href='https://docs.upgini.com/public/calendar/calendar#f_events_date_week_sin1_847b5db1' target='_blank' rel='noopener noreferrer'>f_events_date_week_sin1_847b5db1</a></td><td class='upgini-number'>0.9548</td><td class='upgini-number'>100.0000</td><td class='upgini-text'>0.9749, 0.9749, -0.4339</td><td class='upgini-text'><a href='https://upgini.com/' target='_blank' rel='noopener noreferrer'>Upgini</a></td><td class='upgini-text'><a href='https://upgini.com/#data_sources' target='_blank' rel='noopener noreferrer'>Calendar data</a></td><td class='upgini-text'>Daily</td></tr><tr><td class='upgini-text'>f_autofe_lag_3d_5dba02da</td><td class='upgini-number'>0.7407</td><td class='upgini-number'>99.7831</td><td class='upgini-text'>337.5, 361.87, 379.33</td><td class='upgini-text'>Training dataset,<a href='https://upgini.com/' target='_blank' rel='noopener noreferrer'>Upgini</a></td><td class='upgini-text'>AutoFE: features from Training dataset,<a href='https://upgini.com/#data_sources' target='_blank' rel='noopener noreferrer'>Markets data</a></td><td class='upgini-text'>Daily</td></tr><tr><td class='upgini-text'><a href='https://docs.upgini.com/public/markets/finance#f_financial_date_gold_bf71e733' target='_blank' rel='noopener noreferrer'>f_financial_date_gold_bf71e733</a></td><td class='upgini-number'>0.7402</td><td class='upgini-number'>100.0000</td><td class='upgini-text'>1142.3, 1170.8, 1293.3</td><td class='upgini-text'><a href='https://upgini.com/' target='_blank' rel='noopener noreferrer'>Upgini</a></td><td class='upgini-text'><a href='https://upgini.com/#data_sources' target='_blank' rel='noopener noreferrer'>Markets data</a></td><td class='upgini-text'>Daily</td></tr><tr><td class='upgini-text'>f_autofe_lag_7d_6354b8dc</td><td class='upgini-number'>0.6349</td><td class='upgini-number'>99.4807</td><td class='upgini-text'>375.1, 372.48, 382.65</td><td class='upgini-text'>Training dataset,<a href='https://upgini.com/' target='_blank' rel='noopener noreferrer'>Upgini</a></td><td class='upgini-text'>AutoFE: features from Training dataset,<a href='https://upgini.com/#data_sources' target='_blank' rel='noopener noreferrer'>Markets data</a></td><td class='upgini-text'>Daily</td></tr><tr><td class='upgini-text'>f_autofe_lag_7d_24084e88</td><td class='upgini-number'>0.5429</td><td class='upgini-number'>99.4807</td><td class='upgini-text'>0.0, 0.4339, 0.4339</td><td class='upgini-text'>Training dataset,<a href='https://upgini.com/' target='_blank' rel='noopener noreferrer'>Upgini</a></td><td class='upgini-text'>AutoFE: features from Training dataset,<a href='https://upgini.com/#data_sources' target='_blank' rel='noopener noreferrer'>Calendar data</a></td><td class='upgini-text'>Daily</td></tr><tr><td class='upgini-text'>f_autofe_lag_2d_1947d061</td><td class='upgini-number'>0.5071</td><td class='upgini-number'>99.8554</td><td class='upgini-text'>-0.2225, -0.2225, -0.901</td><td class='upgini-text'>Training dataset,<a href='https://upgini.com/' target='_blank' rel='noopener noreferrer'>Upgini</a></td><td class='upgini-text'>AutoFE: features from Training dataset,<a href='https://upgini.com/#data_sources' target='_blank' rel='noopener noreferrer'>Calendar data</a></td><td class='upgini-text'>Daily</td></tr><tr><td class='upgini-text'>f_autofe_roll_7d_norm_mean_f4c75f3e</td><td class='upgini-number'>0.4357</td><td class='upgini-number'>99.5530</td><td class='upgini-text'>1.0091, 0.9903, 1.1655</td><td class='upgini-text'>Training dataset,<a href='https://upgini.com/' target='_blank' rel='noopener noreferrer'>Upgini</a></td><td class='upgini-text'>AutoFE: features from Training dataset,<a href='https://upgini.com/#data_sources' target='_blank' rel='noopener noreferrer'>Calendar data</a></td><td class='upgini-text'>Daily</td></tr><tr><td class='upgini-text'>f_autofe_lag_3d_7d332726</td><td class='upgini-number'>0.4328</td><td class='upgini-number'>99.7831</td><td class='upgini-text'>1576.6, 1253.2, 1283.0</td><td class='upgini-text'>Training dataset,<a href='https://upgini.com/' target='_blank' rel='noopener noreferrer'>Upgini</a></td><td class='upgini-text'>AutoFE: features from Training dataset,<a href='https://upgini.com/#data_sources' target='_blank' rel='noopener noreferrer'>Markets data</a></td><td class='upgini-text'>Daily</td></tr><tr><td class='upgini-text'>f_autofe_lag_1d_5138dd83</td><td class='upgini-number'>0.4230</td><td class='upgini-number'>99.9343</td><td class='upgini-text'>-0.4339, -0.9749, 0.4339</td><td class='upgini-text'>Training dataset,<a href='https://upgini.com/' target='_blank' rel='noopener noreferrer'>Upgini</a></td><td class='upgini-text'>AutoFE: features from Training dataset,<a href='https://upgini.com/#data_sources' target='_blank' rel='noopener noreferrer'>Calendar data</a></td><td class='upgini-text'>Daily</td></tr><tr><td class='upgini-text'>f_autofe_roll_7d_norm_mean_b8cbc4e4</td><td class='upgini-number'>0.3182</td><td class='upgini-number'>42.9370</td><td class='upgini-text'>6.305039478318694e+16, -1.8706...</td><td class='upgini-text'>Training dataset,<a href='https://upgini.com/' target='_blank' rel='noopener noreferrer'>Upgini</a></td><td class='upgini-text'>AutoFE: features from Training dataset,<a href='https://upgini.com/#data_sources' target='_blank' rel='noopener noreferrer'>Calendar data</a></td><td class='upgini-text'>Daily</td></tr><tr><td class='upgini-text'>f_autofe_roll_3d_median_67a4ca4c</td><td class='upgini-number'>0.2815</td><td class='upgini-number'>99.8554</td><td class='upgini-text'>0.6235, -0.2225, 0.6235</td><td class='upgini-text'>Training dataset,<a href='https://upgini.com/' target='_blank' rel='noopener noreferrer'>Upgini</a></td><td class='upgini-text'>AutoFE: features from Training dataset,<a href='https://upgini.com/#data_sources' target='_blank' rel='noopener noreferrer'>Calendar data</a></td><td class='upgini-text'>Daily</td></tr><tr><td class='upgini-text'>f_autofe_roll_2d_min_bd3d6759</td><td class='upgini-number'>0.2457</td><td class='upgini-number'>99.9343</td><td class='upgini-text'>-0.901, 0.6235, 0.6235</td><td class='upgini-text'>Training dataset,<a href='https://upgini.com/' target='_blank' rel='noopener noreferrer'>Upgini</a></td><td class='upgini-text'>AutoFE: features from Training dataset,<a href='https://upgini.com/#data_sources' target='_blank' rel='noopener noreferrer'>Calendar data</a></td><td class='upgini-text'>Daily</td></tr><tr><td class='upgini-text'>f_autofe_lag_7d_298854c4</td><td class='upgini-number'>0.2094</td><td class='upgini-number'>99.4807</td><td class='upgini-text'>1.124, 1.0669, 0.867</td><td class='upgini-text'>Training dataset,<a href='https://upgini.com/' target='_blank' rel='noopener noreferrer'>Upgini</a></td><td class='upgini-text'>AutoFE: features from Training dataset,<a href='https://upgini.com/#data_sources' target='_blank' rel='noopener noreferrer'>Markets data</a></td><td class='upgini-text'>Daily</td></tr><tr><td class='upgini-text'>f_autofe_roll_3d_std_43db36b9</td><td class='upgini-number'>0.1910</td><td class='upgini-number'>99.8554</td><td class='upgini-text'>0.484, 0.866, 0.3522</td><td class='upgini-text'>Training dataset,<a href='https://upgini.com/' target='_blank' rel='noopener noreferrer'>Upgini</a></td><td class='upgini-text'>AutoFE: features from Training dataset,<a href='https://upgini.com/#data_sources' target='_blank' rel='noopener noreferrer'>Markets data</a></td><td class='upgini-text'>Daily</td></tr><tr><td class='upgini-text'><a href='https://docs.upgini.com/public/markets/finance#f_financial_date_natural_gas_7d_to_7d_1y_shift_a5c3c07f' target='_blank' rel='noopener noreferrer'>f_financial_date_natural_gas_7d_to_7d_1y_shift_a5c3c07f</a></td><td class='upgini-number'>0.1753</td><td class='upgini-number'>100.0000</td><td class='upgini-text'>0.9107, 1.3018, 0.6369</td><td class='upgini-text'><a href='https://upgini.com/' target='_blank' rel='noopener noreferrer'>Upgini</a></td><td class='upgini-text'><a href='https://upgini.com/#data_sources' target='_blank' rel='noopener noreferrer'>Markets data</a></td><td class='upgini-text'>Daily</td></tr><tr><td class='upgini-text'><a href='https://docs.upgini.com/public/markets/finance#f_financial_date_crude_oil_1f195998' target='_blank' rel='noopener noreferrer'>f_financial_date_crude_oil_1f195998</a></td><td class='upgini-number'>0.1507</td><td class='upgini-number'>100.0000</td><td class='upgini-text'>49.13, 43.46, 99.32</td><td class='upgini-text'><a href='https://upgini.com/' target='_blank' rel='noopener noreferrer'>Upgini</a></td><td class='upgini-text'><a href='https://upgini.com/#data_sources' target='_blank' rel='noopener noreferrer'>Markets data</a></td><td class='upgini-text'>Daily</td></tr><tr><td class='upgini-text'>f_autofe_roll_3d_std_cf25c6ce</td><td class='upgini-number'>0.1395</td><td class='upgini-number'>99.8554</td><td class='upgini-text'>0.8776, 3.109, 0.2771</td><td class='upgini-text'>Training dataset,<a href='https://upgini.com/' target='_blank' rel='noopener noreferrer'>Upgini</a></td><td class='upgini-text'>AutoFE: features from Training dataset,<a href='https://upgini.com/#data_sources' target='_blank' rel='noopener noreferrer'>Markets data</a></td><td class='upgini-text'>Daily</td></tr><tr><td class='upgini-text'>f_autofe_lag_7d_80f1c53c</td><td class='upgini-number'>0.1252</td><td class='upgini-number'>99.4807</td><td class='upgini-text'>1434.5, 1677.7, 1300.4</td><td class='upgini-text'>Training dataset,<a href='https://upgini.com/' target='_blank' rel='noopener noreferrer'>Upgini</a></td><td class='upgini-text'>AutoFE: features from Training dataset,<a href='https://upgini.com/#data_sources' target='_blank' rel='noopener noreferrer'>Markets data</a></td><td class='upgini-text'>Daily</td></tr><tr><td class='upgini-text'>f_autofe_roll_7d_median_8e1a5fee</td><td class='upgini-number'>0.0988</td><td class='upgini-number'>99.5530</td><td class='upgini-text'>0.9883, 1.1574, 0.8658</td><td class='upgini-text'>Training dataset,<a href='https://upgini.com/' target='_blank' rel='noopener noreferrer'>Upgini</a></td><td class='upgini-text'>AutoFE: features from Training dataset,<a href='https://upgini.com/#data_sources' target='_blank' rel='noopener noreferrer'>Markets data</a></td><td class='upgini-text'>Daily</td></tr><tr><td class='upgini-text'>f_autofe_roll_3d_std_8d2902a0</td><td class='upgini-number'>0.0941</td><td class='upgini-number'>99.8554</td><td class='upgini-text'>0.0016, 0.0004, 0.0033</td><td class='upgini-text'>Training dataset,<a href='https://upgini.com/' target='_blank' rel='noopener noreferrer'>Upgini</a></td><td class='upgini-text'>AutoFE: features from Training dataset,<a href='https://upgini.com/#data_sources' target='_blank' rel='noopener noreferrer'>Markets data</a></td><td class='upgini-text'>Daily</td></tr><tr><td class='upgini-text'>f_autofe_roll_2d_norm_mean_f727ebb5</td><td class='upgini-number'>0.0893</td><td class='upgini-number'>82.9948</td><td class='upgini-text'>1.4286, -0.3999, 2.9473</td><td class='upgini-text'>Training dataset,<a href='https://upgini.com/' target='_blank' rel='noopener noreferrer'>Upgini</a></td><td class='upgini-text'>AutoFE: features from Training dataset,<a href='https://upgini.com/#data_sources' target='_blank' rel='noopener noreferrer'>Markets data</a></td><td class='upgini-text'>Daily</td></tr><tr><td class='upgini-text'>f_autofe_roll_2d_std_5994058b</td><td class='upgini-number'>0.0865</td><td class='upgini-number'>99.9343</td><td class='upgini-text'>0.297, 0.2616, 0.8415</td><td class='upgini-text'>Training dataset,<a href='https://upgini.com/' target='_blank' rel='noopener noreferrer'>Upgini</a></td><td class='upgini-text'>AutoFE: features from Training dataset,<a href='https://upgini.com/#data_sources' target='_blank' rel='noopener noreferrer'>Markets data</a></td><td class='upgini-text'>Daily</td></tr><tr><td class='upgini-text'>f_autofe_lag_1d_1e473dd0</td><td class='upgini-number'>0.0775</td><td class='upgini-number'>99.9343</td><td class='upgini-text'>1.21, 1.07, 0.59</td><td class='upgini-text'>Training dataset,<a href='https://upgini.com/' target='_blank' rel='noopener noreferrer'>Upgini</a></td><td class='upgini-text'>AutoFE: features from Training dataset,<a href='https://upgini.com/#data_sources' target='_blank' rel='noopener noreferrer'>Markets data</a></td><td class='upgini-text'>Daily</td></tr><tr><td class='upgini-text'>f_autofe_roll_3d_norm_mean_d3a34f3f</td><td class='upgini-number'>0.0757</td><td class='upgini-number'>99.8554</td><td class='upgini-text'>0.939, 1.0106, 0.9811</td><td class='upgini-text'>Training dataset,<a href='https://upgini.com/' target='_blank' rel='noopener noreferrer'>Upgini</a></td><td class='upgini-text'>AutoFE: features from Training dataset,<a href='https://upgini.com/#data_sources' target='_blank' rel='noopener noreferrer'>Calendar data</a></td><td class='upgini-text'>Daily</td></tr><tr><td class='upgini-text'>f_autofe_roll_3d_std_e0a7813d</td><td class='upgini-number'>0.0605</td><td class='upgini-number'>99.8554</td><td class='upgini-text'>0.1069, 0.1998, 0.4215</td><td class='upgini-text'>Training dataset,<a href='https://upgini.com/' target='_blank' rel='noopener noreferrer'>Upgini</a></td><td class='upgini-text'>AutoFE: features from Training dataset,<a href='https://upgini.com/#data_sources' target='_blank' rel='noopener noreferrer'>Markets data</a></td><td class='upgini-text'>Daily</td></tr><tr><td class='upgini-text'>f_autofe_roll_2d_norm_mean_85d150da</td><td class='upgini-number'>0.0593</td><td class='upgini-number'>82.4887</td><td class='upgini-text'>-0.1443, 1.7474, -270.0659</td><td class='upgini-text'>Training dataset,<a href='https://upgini.com/' target='_blank' rel='noopener noreferrer'>Upgini</a></td><td class='upgini-text'>AutoFE: features from Training dataset,<a href='https://upgini.com/#data_sources' target='_blank' rel='noopener noreferrer'>Markets data</a></td><td class='upgini-text'>Daily</td></tr><tr><td class='upgini-text'>f_autofe_roll_2d_norm_mean_fe42d9a4</td><td class='upgini-number'>0.0577</td><td class='upgini-number'>99.9343</td><td class='upgini-text'>0.9953, 1.0998, 1.0584</td><td class='upgini-text'>Training dataset,<a href='https://upgini.com/' target='_blank' rel='noopener noreferrer'>Upgini</a></td><td class='upgini-text'>AutoFE: features from Training dataset,<a href='https://upgini.com/#data_sources' target='_blank' rel='noopener noreferrer'>Calendar data</a></td><td class='upgini-text'>Daily</td></tr><tr><td class='upgini-text'>f_autofe_roll_2d_std_6466a8eb</td><td class='upgini-number'>0.0366</td><td class='upgini-number'>99.9343</td><td class='upgini-text'>0.0594, 0.0042, 0.1004</td><td class='upgini-text'>Training dataset,<a href='https://upgini.com/' target='_blank' rel='noopener noreferrer'>Upgini</a></td><td class='upgini-text'>AutoFE: features from Training dataset,<a href='https://upgini.com/#data_sources' target='_blank' rel='noopener noreferrer'>Markets data</a></td><td class='upgini-text'>Daily</td></tr><tr><td class='upgini-text'>f_autofe_lag_1d_8255eb29</td><td class='upgini-number'>0.0327</td><td class='upgini-number'>99.9343</td><td class='upgini-text'>-0.2, 0.25, -0.02</td><td class='upgini-text'>Training dataset,<a href='https://upgini.com/' target='_blank' rel='noopener noreferrer'>Upgini</a></td><td class='upgini-text'>AutoFE: features from Training dataset,<a href='https://upgini.com/#data_sources' target='_blank' rel='noopener noreferrer'>Markets data</a></td><td class='upgini-text'>Daily</td></tr><tr><td class='upgini-text'>f_autofe_roll_2d_std_b88ae2e3</td><td class='upgini-number'>0.0108</td><td class='upgini-number'>99.9343</td><td class='upgini-text'>0.2015, 0.1343, 0.2234</td><td class='upgini-text'>Training dataset,<a href='https://upgini.com/' target='_blank' rel='noopener noreferrer'>Upgini</a></td><td class='upgini-text'>AutoFE: features from Training dataset,<a href='https://upgini.com/#data_sources' target='_blank' rel='noopener noreferrer'>Markets data</a></td><td class='upgini-text'>Daily</td></tr><tr><td class='upgini-text'>f_autofe_roll_2d_min_aa7719e1</td><td class='upgini-number'>0.0058</td><td class='upgini-number'>99.9343</td><td class='upgini-text'>0.225, 0.113, -0.041</td><td class='upgini-text'>Training dataset,<a href='https://upgini.com/' target='_blank' rel='noopener noreferrer'>Upgini</a></td><td class='upgini-text'>AutoFE: features from Training dataset,<a href='https://upgini.com/#data_sources' target='_blank' rel='noopener noreferrer'>Markets data</a></td><td class='upgini-text'>Daily</td></tr><tr><td class='upgini-text'>f_autofe_lag_3d_3c41924a</td><td class='upgini-number'>0.0056</td><td class='upgini-number'>99.7831</td><td class='upgini-text'>-0.49, -0.333, 0.847</td><td class='upgini-text'>Training dataset,<a href='https://upgini.com/' target='_blank' rel='noopener noreferrer'>Upgini</a></td><td class='upgini-text'>AutoFE: features from Training dataset,<a href='https://upgini.com/#data_sources' target='_blank' rel='noopener noreferrer'>Markets data</a></td><td class='upgini-text'>Daily</td></tr></tbody></table>\n",
              "        </div>\n",
              "        "
            ]
          },
          "metadata": {}
        },
        {
          "output_type": "display_data",
          "data": {
            "text/plain": [
              "<IPython.core.display.HTML object>"
            ],
            "text/html": [
              "<style>\n",
              "            .upgini-df thead th {\n",
              "                font-weight:bold;\n",
              "                text-align: center;\n",
              "                padding: 0.5em;\n",
              "                border-bottom: 2px solid black;\n",
              "            }\n",
              "\n",
              "            .upgini-df tbody td {\n",
              "                padding: 0.5em;\n",
              "            }\n",
              "\n",
              "            .upgini-df tbody tr:nth-child(odd) {\n",
              "                background-color: #ffffff;\n",
              "            }\n",
              "\n",
              "            .upgini-df tbody tr:nth-child(even) {\n",
              "                background-color: #f2f2f2;\n",
              "            }\n",
              "\n",
              "            .upgini-text {\n",
              "                text-align: left;\n",
              "            }\n",
              "\n",
              "            .upgini-number {\n",
              "                text-align: center;\n",
              "            }\n",
              "        </style>\n",
              "        <h2>Relevant data sources</h2>\n",
              "        <div style=\"display:flex; flex-direction:column; align-items:flex-end; width: fit-content;\">\n",
              "            \n",
              "            <div style=\"text-align: right\">\n",
              "                <button onclick=navigator.clipboard.writeText(decodeURI('Provider%09Source%09All%20features%20SHAP%09Number%20of%20relevant%20features%0ATraining%20dataset%09AutoFE%3A%20features%20from%20Training%20dataset,%3Ca%20href%3D%27https%3A%2F%2Fupgini.com%2F%23data_sources%27%20target%3D%27_blank%27%20rel%3D%27noopener%20noreferrer%27%3ECalendar%20data%3C%2Fa%3E%095.8421%0911%0AUpgini%09Calendar%20data%095.3263%092%0ATraining%20dataset%09AutoFE%3A%20features%20from%20Training%20dataset,%3Ca%20href%3D%27https%3A%2F%2Fupgini.com%2F%23data_sources%27%20target%3D%27_blank%27%20rel%3D%27noopener%20noreferrer%27%3EMarkets%20data%3C%2Fa%3E%093.1310000000000002%0919%0AUpgini%09Markets%20data%091.0662%093%0A'))>📂 Copy</button>\n",
              "                <a href='mailto:<Share with...>?subject=Relevant external data sources from Upgini.com&body=Provider%09Source%09All%20features%20SHAP%09Number%20of%20relevant%20features%0ATraining%20dataset%09AutoFE%3A%20features%20from%20Training%20dataset,%3Ca%20href%3D%27https%3A%2F%2Fupgini.com%2F%23data_sources%27%20target%3D%27_blank%27%20rel%3D%27noopener%20noreferrer%27%3ECalendar%20data%3C%2Fa%3E%095.8421%0911%0AUpgini%09Calendar%20data%095.3263%092%0ATraining%20dataset%09AutoFE%3A%20features%20from%20Training%20dataset,%3Ca%20href%3D%27https%3A%2F%2Fupgini.com%2F%23data_sources%27%20target%3D%27_blank%27%20rel%3D%27noopener%20noreferrer%27%3EMarkets%20data%3C%2Fa%3E%093.1310000000000002%0919%0AUpgini%09Markets%20data%091.0662%093%0A'>\n",
              "                    <button>📨 Share</button>\n",
              "                </a>\n",
              "            </div>\n",
              "            <table class='upgini-df'><thead><th>Provider</th><th>Source</th><th>All features SHAP</th><th>Number of relevant features</th></thead><tbody><tr><td class='upgini-text'>Training dataset,<a href='https://upgini.com/' target='_blank' rel='noopener noreferrer'>Upgini</a></td><td class='upgini-text'>AutoFE: features from Training dataset,<a href='https://upgini.com/#data_sources' target='_blank' rel='noopener noreferrer'>Calendar data</a></td><td class='upgini-number'>5.8421</td><td class='upgini-number'>11</td></tr><tr><td class='upgini-text'><a href='https://upgini.com/' target='_blank' rel='noopener noreferrer'>Upgini</a></td><td class='upgini-text'><a href='https://upgini.com/#data_sources' target='_blank' rel='noopener noreferrer'>Calendar data</a></td><td class='upgini-number'>5.3263</td><td class='upgini-number'>2</td></tr><tr><td class='upgini-text'>Training dataset,<a href='https://upgini.com/' target='_blank' rel='noopener noreferrer'>Upgini</a></td><td class='upgini-text'>AutoFE: features from Training dataset,<a href='https://upgini.com/#data_sources' target='_blank' rel='noopener noreferrer'>Markets data</a></td><td class='upgini-number'>3.1310</td><td class='upgini-number'>19</td></tr><tr><td class='upgini-text'><a href='https://upgini.com/' target='_blank' rel='noopener noreferrer'>Upgini</a></td><td class='upgini-text'><a href='https://upgini.com/#data_sources' target='_blank' rel='noopener noreferrer'>Markets data</a></td><td class='upgini-number'>1.0662</td><td class='upgini-number'>3</td></tr></tbody></table>\n",
              "        </div>\n",
              "        "
            ]
          },
          "metadata": {}
        },
        {
          "output_type": "display_data",
          "data": {
            "text/plain": [
              "<IPython.core.display.HTML object>"
            ],
            "text/html": [
              "<style>\n",
              "            .upgini-df thead th {\n",
              "                font-weight:bold;\n",
              "                text-align: center;\n",
              "                padding: 0.5em;\n",
              "                border-bottom: 2px solid black;\n",
              "            }\n",
              "\n",
              "            .upgini-df tbody td {\n",
              "                padding: 0.5em;\n",
              "            }\n",
              "\n",
              "            .upgini-df tbody tr:nth-child(odd) {\n",
              "                background-color: #ffffff;\n",
              "            }\n",
              "\n",
              "            .upgini-df tbody tr:nth-child(even) {\n",
              "                background-color: #f2f2f2;\n",
              "            }\n",
              "\n",
              "            .upgini-text {\n",
              "                text-align: left;\n",
              "            }\n",
              "\n",
              "            .upgini-number {\n",
              "                text-align: center;\n",
              "            }\n",
              "        </style>\n",
              "        <h2>*Description of AutoFE feature names</h2>\n",
              "        <div style=\"display:flex; flex-direction:column; align-items:flex-end; width: fit-content;\">\n",
              "            \n",
              "            <div style=\"text-align: right\">\n",
              "                <button onclick=navigator.clipboard.writeText(decodeURI('Sources%09Feature%20name%09Feature%201%09Function%0ATraining%20dataset,%3Ca%20href%3D%27https%3A%2F%2Fupgini.com%2F%23data_sources%27%20target%3D%27_blank%27%20rel%3D%27noopener%20noreferrer%27%3ECalendar%20data%3C%2Fa%3E%09f_autofe_lag_7d_44ccb1e1%09f_events_date_year_cos1_9014a856%09lag_7d%0ATraining%20dataset,%3Ca%20href%3D%27https%3A%2F%2Fupgini.com%2F%23data_sources%27%20target%3D%27_blank%27%20rel%3D%27noopener%20noreferrer%27%3ECalendar%20data%3C%2Fa%3E%09f_autofe_lag_3d_d168eb3e%09f_events_date_week_sin1_847b5db1%09lag_3d%0ATraining%20dataset,%3Ca%20href%3D%27https%3A%2F%2Fupgini.com%2F%23data_sources%27%20target%3D%27_blank%27%20rel%3D%27noopener%20noreferrer%27%3EMarkets%20data%3C%2Fa%3E%09f_autofe_lag_3d_5dba02da%09f_financial_date_stoxx_043cbcd4%09lag_3d%0ATraining%20dataset,%3Ca%20href%3D%27https%3A%2F%2Fupgini.com%2F%23data_sources%27%20target%3D%27_blank%27%20rel%3D%27noopener%20noreferrer%27%3EMarkets%20data%3C%2Fa%3E%09f_autofe_lag_7d_6354b8dc%09f_financial_date_stoxx_043cbcd4%09lag_7d%0ATraining%20dataset,%3Ca%20href%3D%27https%3A%2F%2Fupgini.com%2F%23data_sources%27%20target%3D%27_blank%27%20rel%3D%27noopener%20noreferrer%27%3ECalendar%20data%3C%2Fa%3E%09f_autofe_lag_7d_24084e88%09f_events_date_week_sin1_847b5db1%09lag_7d%0ATraining%20dataset,%3Ca%20href%3D%27https%3A%2F%2Fupgini.com%2F%23data_sources%27%20target%3D%27_blank%27%20rel%3D%27noopener%20noreferrer%27%3ECalendar%20data%3C%2Fa%3E%09f_autofe_lag_2d_1947d061%09f_events_date_week_cos1_f6a8c1fc%09lag_2d%0ATraining%20dataset,%3Ca%20href%3D%27https%3A%2F%2Fupgini.com%2F%23data_sources%27%20target%3D%27_blank%27%20rel%3D%27noopener%20noreferrer%27%3ECalendar%20data%3C%2Fa%3E%09f_autofe_roll_7d_norm_mean_f4c75f3e%09f_events_date_year_cos1_9014a856%09roll_7d_norm_mean%0ATraining%20dataset,%3Ca%20href%3D%27https%3A%2F%2Fupgini.com%2F%23data_sources%27%20target%3D%27_blank%27%20rel%3D%27noopener%20noreferrer%27%3EMarkets%20data%3C%2Fa%3E%09f_autofe_lag_3d_7d332726%09f_financial_date_gold_bf71e733%09lag_3d%0ATraining%20dataset,%3Ca%20href%3D%27https%3A%2F%2Fupgini.com%2F%23data_sources%27%20target%3D%27_blank%27%20rel%3D%27noopener%20noreferrer%27%3ECalendar%20data%3C%2Fa%3E%09f_autofe_lag_1d_5138dd83%09f_events_date_week_sin2_e28440a5%09lag_1d%0ATraining%20dataset,%3Ca%20href%3D%27https%3A%2F%2Fupgini.com%2F%23data_sources%27%20target%3D%27_blank%27%20rel%3D%27noopener%20noreferrer%27%3ECalendar%20data%3C%2Fa%3E%09f_autofe_roll_7d_norm_mean_b8cbc4e4%09f_events_date_week_cos2_b0a07cfc%09roll_7d_norm_mean%0ATraining%20dataset,%3Ca%20href%3D%27https%3A%2F%2Fupgini.com%2F%23data_sources%27%20target%3D%27_blank%27%20rel%3D%27noopener%20noreferrer%27%3ECalendar%20data%3C%2Fa%3E%09f_autofe_roll_3d_median_67a4ca4c%09f_events_date_week_cos3_7525fe31%09roll_3d_median%0ATraining%20dataset,%3Ca%20href%3D%27https%3A%2F%2Fupgini.com%2F%23data_sources%27%20target%3D%27_blank%27%20rel%3D%27noopener%20noreferrer%27%3ECalendar%20data%3C%2Fa%3E%09f_autofe_roll_2d_min_bd3d6759%09f_events_date_week_cos1_f6a8c1fc%09roll_2d_min%0ATraining%20dataset,%3Ca%20href%3D%27https%3A%2F%2Fupgini.com%2F%23data_sources%27%20target%3D%27_blank%27%20rel%3D%27noopener%20noreferrer%27%3EMarkets%20data%3C%2Fa%3E%09f_autofe_lag_7d_298854c4%09f_financial_date_natural_gas_7d_to_1y_7a6f300d%09lag_7d%0ATraining%20dataset,%3Ca%20href%3D%27https%3A%2F%2Fupgini.com%2F%23data_sources%27%20target%3D%27_blank%27%20rel%3D%27noopener%20noreferrer%27%3EMarkets%20data%3C%2Fa%3E%09f_autofe_roll_3d_std_43db36b9%09f_financial_date_crude_oil_1f195998%09roll_3d_std%0ATraining%20dataset,%3Ca%20href%3D%27https%3A%2F%2Fupgini.com%2F%23data_sources%27%20target%3D%27_blank%27%20rel%3D%27noopener%20noreferrer%27%3EMarkets%20data%3C%2Fa%3E%09f_autofe_roll_3d_std_cf25c6ce%09f_financial_date_stoxx_043cbcd4%09roll_3d_std%0ATraining%20dataset,%3Ca%20href%3D%27https%3A%2F%2Fupgini.com%2F%23data_sources%27%20target%3D%27_blank%27%20rel%3D%27noopener%20noreferrer%27%3EMarkets%20data%3C%2Fa%3E%09f_autofe_lag_7d_80f1c53c%09f_financial_date_gold_bf71e733%09lag_7d%0ATraining%20dataset,%3Ca%20href%3D%27https%3A%2F%2Fupgini.com%2F%23data_sources%27%20target%3D%27_blank%27%20rel%3D%27noopener%20noreferrer%27%3EMarkets%20data%3C%2Fa%3E%09f_autofe_roll_7d_median_8e1a5fee%09f_financial_date_vix_7d_to_1y_634c77eb%09roll_7d_median%0ATraining%20dataset,%3Ca%20href%3D%27https%3A%2F%2Fupgini.com%2F%23data_sources%27%20target%3D%27_blank%27%20rel%3D%27noopener%20noreferrer%27%3EMarkets%20data%3C%2Fa%3E%09f_autofe_roll_3d_std_8d2902a0%09f_financial_date_usd_eur_5d1b9c8f%09roll_3d_std%0ATraining%20dataset,%3Ca%20href%3D%27https%3A%2F%2Fupgini.com%2F%23data_sources%27%20target%3D%27_blank%27%20rel%3D%27noopener%20noreferrer%27%3EMarkets%20data%3C%2Fa%3E%09f_autofe_roll_2d_norm_mean_f727ebb5%09f_financial_date_usd_daydiff_8bcdeec4%09roll_2d_norm_mean%0ATraining%20dataset,%3Ca%20href%3D%27https%3A%2F%2Fupgini.com%2F%23data_sources%27%20target%3D%27_blank%27%20rel%3D%27noopener%20noreferrer%27%3EMarkets%20data%3C%2Fa%3E%09f_autofe_roll_2d_std_5994058b%09f_financial_date_vix_gap_b64bd2b9%09roll_2d_std%0ATraining%20dataset,%3Ca%20href%3D%27https%3A%2F%2Fupgini.com%2F%23data_sources%27%20target%3D%27_blank%27%20rel%3D%27noopener%20noreferrer%27%3EMarkets%20data%3C%2Fa%3E%09f_autofe_lag_1d_1e473dd0%09f_financial_date_usd_daydiff_8bcdeec4%09lag_1d%0ATraining%20dataset,%3Ca%20href%3D%27https%3A%2F%2Fupgini.com%2F%23data_sources%27%20target%3D%27_blank%27%20rel%3D%27noopener%20noreferrer%27%3ECalendar%20data%3C%2Fa%3E%09f_autofe_roll_3d_norm_mean_d3a34f3f%09f_events_date_year_sin1_3c44bc64%09roll_3d_norm_mean%0ATraining%20dataset,%3Ca%20href%3D%27https%3A%2F%2Fupgini.com%2F%23data_sources%27%20target%3D%27_blank%27%20rel%3D%27noopener%20noreferrer%27%3EMarkets%20data%3C%2Fa%3E%09f_autofe_roll_3d_std_e0a7813d%09f_financial_date_usd_7419609a%09roll_3d_std%0ATraining%20dataset,%3Ca%20href%3D%27https%3A%2F%2Fupgini.com%2F%23data_sources%27%20target%3D%27_blank%27%20rel%3D%27noopener%20noreferrer%27%3EMarkets%20data%3C%2Fa%3E%09f_autofe_roll_2d_norm_mean_85d150da%09f_financial_date_gold_daydiff_6c8f15fb%09roll_2d_norm_mean%0ATraining%20dataset,%3Ca%20href%3D%27https%3A%2F%2Fupgini.com%2F%23data_sources%27%20target%3D%27_blank%27%20rel%3D%27noopener%20noreferrer%27%3ECalendar%20data%3C%2Fa%3E%09f_autofe_roll_2d_norm_mean_fe42d9a4%09f_events_date_year_sin1_3c44bc64%09roll_2d_norm_mean%0ATraining%20dataset,%3Ca%20href%3D%27https%3A%2F%2Fupgini.com%2F%23data_sources%27%20target%3D%27_blank%27%20rel%3D%27noopener%20noreferrer%27%3EMarkets%20data%3C%2Fa%3E%09f_autofe_roll_2d_std_6466a8eb%09f_financial_date_natural_gas_92dac942%09roll_2d_std%0ATraining%20dataset,%3Ca%20href%3D%27https%3A%2F%2Fupgini.com%2F%23data_sources%27%20target%3D%27_blank%27%20rel%3D%27noopener%20noreferrer%27%3EMarkets%20data%3C%2Fa%3E%09f_autofe_lag_1d_8255eb29%09f_financial_date_usd_gap_615a0ec0%09lag_1d%0ATraining%20dataset,%3Ca%20href%3D%27https%3A%2F%2Fupgini.com%2F%23data_sources%27%20target%3D%27_blank%27%20rel%3D%27noopener%20noreferrer%27%3EMarkets%20data%3C%2Fa%3E%09f_autofe_roll_2d_std_b88ae2e3%09f_financial_date_silver_gap_f5b63f5b%09roll_2d_std%0ATraining%20dataset,%3Ca%20href%3D%27https%3A%2F%2Fupgini.com%2F%23data_sources%27%20target%3D%27_blank%27%20rel%3D%27noopener%20noreferrer%27%3EMarkets%20data%3C%2Fa%3E%09f_autofe_roll_2d_min_aa7719e1%09f_financial_date_silver_daydiff_25cf4951%09roll_2d_min%0ATraining%20dataset,%3Ca%20href%3D%27https%3A%2F%2Fupgini.com%2F%23data_sources%27%20target%3D%27_blank%27%20rel%3D%27noopener%20noreferrer%27%3EMarkets%20data%3C%2Fa%3E%09f_autofe_lag_3d_3c41924a%09f_financial_date_silver_daydiff_25cf4951%09lag_3d%0A'))>📂 Copy</button>\n",
              "                <a href='mailto:<Share with...>?subject=Relevant external data sources from Upgini.com&body=Sources%09Feature%20name%09Feature%201%09Function%0ATraining%20dataset,%3Ca%20href%3D%27https%3A%2F%2Fupgini.com%2F%23data_sources%27%20target%3D%27_blank%27%20rel%3D%27noopener%20noreferrer%27%3ECalendar%20data%3C%2Fa%3E%09f_autofe_lag_7d_44ccb1e1%09f_events_date_year_cos1_9014a856%09lag_7d%0ATraining%20dataset,%3Ca%20href%3D%27https%3A%2F%2Fupgini.com%2F%23data_sources%27%20target%3D%27_blank%27%20rel%3D%27noopener%20noreferrer%27%3ECalendar%20data%3C%2Fa%3E%09f_autofe_lag_3d_d168eb3e%09f_events_date_week_sin1_847b5db1%09lag_3d%0ATraining%20dataset,%3Ca%20href%3D%27https%3A%2F%2Fupgini.com%2F%23data_sources%27%20target%3D%27_blank%27%20rel%3D%27noopener%20noreferrer%27%3EMarkets%20data%3C%2Fa%3E%09f_autofe_lag_3d_5dba02da%09f_financial_date_stoxx_043cbcd4%09lag_3d%0ATraining%20dataset,%3Ca%20href%3D%27https%3A%2F%2Fupgini.com%2F%23data_sources%27%20target%3D%27_blank%27%20rel%3D%27noopener%20noreferrer%27%3EMarkets%20data%3C%2Fa%3E%09f_autofe_lag_7d_6354b8dc%09f_financial_date_stoxx_043cbcd4%09lag_7d%0ATraining%20dataset,%3Ca%20href%3D%27https%3A%2F%2Fupgini.com%2F%23data_sources%27%20target%3D%27_blank%27%20rel%3D%27noopener%20noreferrer%27%3ECalendar%20data%3C%2Fa%3E%09f_autofe_lag_7d_24084e88%09f_events_date_week_sin1_847b5db1%09lag_7d%0ATraining%20dataset,%3Ca%20href%3D%27https%3A%2F%2Fupgini.com%2F%23data_sources%27%20target%3D%27_blank%27%20rel%3D%27noopener%20noreferrer%27%3ECalendar%20data%3C%2Fa%3E%09f_autofe_lag_2d_1947d061%09f_events_date_week_cos1_f6a8c1fc%09lag_2d%0ATraining%20dataset,%3Ca%20href%3D%27https%3A%2F%2Fupgini.com%2F%23data_sources%27%20target%3D%27_blank%27%20rel%3D%27noopener%20noreferrer%27%3ECalendar%20data%3C%2Fa%3E%09f_autofe_roll_7d_norm_mean_f4c75f3e%09f_events_date_year_cos1_9014a856%09roll_7d_norm_mean%0ATraining%20dataset,%3Ca%20href%3D%27https%3A%2F%2Fupgini.com%2F%23data_sources%27%20target%3D%27_blank%27%20rel%3D%27noopener%20noreferrer%27%3EMarkets%20data%3C%2Fa%3E%09f_autofe_lag_3d_7d332726%09f_financial_date_gold_bf71e733%09lag_3d%0ATraining%20dataset,%3Ca%20href%3D%27https%3A%2F%2Fupgini.com%2F%23data_sources%27%20target%3D%27_blank%27%20rel%3D%27noopener%20noreferrer%27%3ECalendar%20data%3C%2Fa%3E%09f_autofe_lag_1d_5138dd83%09f_events_date_week_sin2_e28440a5%09lag_1d%0ATraining%20dataset,%3Ca%20href%3D%27https%3A%2F%2Fupgini.com%2F%23data_sources%27%20target%3D%27_blank%27%20rel%3D%27noopener%20noreferrer%27%3ECalendar%20data%3C%2Fa%3E%09f_autofe_roll_7d_norm_mean_b8cbc4e4%09f_events_date_week_cos2_b0a07cfc%09roll_7d_norm_mean%0ATraining%20dataset,%3Ca%20href%3D%27https%3A%2F%2Fupgini.com%2F%23data_sources%27%20target%3D%27_blank%27%20rel%3D%27noopener%20noreferrer%27%3ECalendar%20data%3C%2Fa%3E%09f_autofe_roll_3d_median_67a4ca4c%09f_events_date_week_cos3_7525fe31%09roll_3d_median%0ATraining%20dataset,%3Ca%20href%3D%27https%3A%2F%2Fupgini.com%2F%23data_sources%27%20target%3D%27_blank%27%20rel%3D%27noopener%20noreferrer%27%3ECalendar%20data%3C%2Fa%3E%09f_autofe_roll_2d_min_bd3d6759%09f_events_date_week_cos1_f6a8c1fc%09roll_2d_min%0ATraining%20dataset,%3Ca%20href%3D%27https%3A%2F%2Fupgini.com%2F%23data_sources%27%20target%3D%27_blank%27%20rel%3D%27noopener%20noreferrer%27%3EMarkets%20data%3C%2Fa%3E%09f_autofe_lag_7d_298854c4%09f_financial_date_natural_gas_7d_to_1y_7a6f300d%09lag_7d%0ATraining%20dataset,%3Ca%20href%3D%27https%3A%2F%2Fupgini.com%2F%23data_sources%27%20target%3D%27_blank%27%20rel%3D%27noopener%20noreferrer%27%3EMarkets%20data%3C%2Fa%3E%09f_autofe_roll_3d_std_43db36b9%09f_financial_date_crude_oil_1f195998%09roll_3d_std%0ATraining%20dataset,%3Ca%20href%3D%27https%3A%2F%2Fupgini.com%2F%23data_sources%27%20target%3D%27_blank%27%20rel%3D%27noopener%20noreferrer%27%3EMarkets%20data%3C%2Fa%3E%09f_autofe_roll_3d_std_cf25c6ce%09f_financial_date_stoxx_043cbcd4%09roll_3d_std%0ATraining%20dataset,%3Ca%20href%3D%27https%3A%2F%2Fupgini.com%2F%23data_sources%27%20target%3D%27_blank%27%20rel%3D%27noopener%20noreferrer%27%3EMarkets%20data%3C%2Fa%3E%09f_autofe_lag_7d_80f1c53c%09f_financial_date_gold_bf71e733%09lag_7d%0ATraining%20dataset,%3Ca%20href%3D%27https%3A%2F%2Fupgini.com%2F%23data_sources%27%20target%3D%27_blank%27%20rel%3D%27noopener%20noreferrer%27%3EMarkets%20data%3C%2Fa%3E%09f_autofe_roll_7d_median_8e1a5fee%09f_financial_date_vix_7d_to_1y_634c77eb%09roll_7d_median%0ATraining%20dataset,%3Ca%20href%3D%27https%3A%2F%2Fupgini.com%2F%23data_sources%27%20target%3D%27_blank%27%20rel%3D%27noopener%20noreferrer%27%3EMarkets%20data%3C%2Fa%3E%09f_autofe_roll_3d_std_8d2902a0%09f_financial_date_usd_eur_5d1b9c8f%09roll_3d_std%0ATraining%20dataset,%3Ca%20href%3D%27https%3A%2F%2Fupgini.com%2F%23data_sources%27%20target%3D%27_blank%27%20rel%3D%27noopener%20noreferrer%27%3EMarkets%20data%3C%2Fa%3E%09f_autofe_roll_2d_norm_mean_f727ebb5%09f_financial_date_usd_daydiff_8bcdeec4%09roll_2d_norm_mean%0ATraining%20dataset,%3Ca%20href%3D%27https%3A%2F%2Fupgini.com%2F%23data_sources%27%20target%3D%27_blank%27%20rel%3D%27noopener%20noreferrer%27%3EMarkets%20data%3C%2Fa%3E%09f_autofe_roll_2d_std_5994058b%09f_financial_date_vix_gap_b64bd2b9%09roll_2d_std%0ATraining%20dataset,%3Ca%20href%3D%27https%3A%2F%2Fupgini.com%2F%23data_sources%27%20target%3D%27_blank%27%20rel%3D%27noopener%20noreferrer%27%3EMarkets%20data%3C%2Fa%3E%09f_autofe_lag_1d_1e473dd0%09f_financial_date_usd_daydiff_8bcdeec4%09lag_1d%0ATraining%20dataset,%3Ca%20href%3D%27https%3A%2F%2Fupgini.com%2F%23data_sources%27%20target%3D%27_blank%27%20rel%3D%27noopener%20noreferrer%27%3ECalendar%20data%3C%2Fa%3E%09f_autofe_roll_3d_norm_mean_d3a34f3f%09f_events_date_year_sin1_3c44bc64%09roll_3d_norm_mean%0ATraining%20dataset,%3Ca%20href%3D%27https%3A%2F%2Fupgini.com%2F%23data_sources%27%20target%3D%27_blank%27%20rel%3D%27noopener%20noreferrer%27%3EMarkets%20data%3C%2Fa%3E%09f_autofe_roll_3d_std_e0a7813d%09f_financial_date_usd_7419609a%09roll_3d_std%0ATraining%20dataset,%3Ca%20href%3D%27https%3A%2F%2Fupgini.com%2F%23data_sources%27%20target%3D%27_blank%27%20rel%3D%27noopener%20noreferrer%27%3EMarkets%20data%3C%2Fa%3E%09f_autofe_roll_2d_norm_mean_85d150da%09f_financial_date_gold_daydiff_6c8f15fb%09roll_2d_norm_mean%0ATraining%20dataset,%3Ca%20href%3D%27https%3A%2F%2Fupgini.com%2F%23data_sources%27%20target%3D%27_blank%27%20rel%3D%27noopener%20noreferrer%27%3ECalendar%20data%3C%2Fa%3E%09f_autofe_roll_2d_norm_mean_fe42d9a4%09f_events_date_year_sin1_3c44bc64%09roll_2d_norm_mean%0ATraining%20dataset,%3Ca%20href%3D%27https%3A%2F%2Fupgini.com%2F%23data_sources%27%20target%3D%27_blank%27%20rel%3D%27noopener%20noreferrer%27%3EMarkets%20data%3C%2Fa%3E%09f_autofe_roll_2d_std_6466a8eb%09f_financial_date_natural_gas_92dac942%09roll_2d_std%0ATraining%20dataset,%3Ca%20href%3D%27https%3A%2F%2Fupgini.com%2F%23data_sources%27%20target%3D%27_blank%27%20rel%3D%27noopener%20noreferrer%27%3EMarkets%20data%3C%2Fa%3E%09f_autofe_lag_1d_8255eb29%09f_financial_date_usd_gap_615a0ec0%09lag_1d%0ATraining%20dataset,%3Ca%20href%3D%27https%3A%2F%2Fupgini.com%2F%23data_sources%27%20target%3D%27_blank%27%20rel%3D%27noopener%20noreferrer%27%3EMarkets%20data%3C%2Fa%3E%09f_autofe_roll_2d_std_b88ae2e3%09f_financial_date_silver_gap_f5b63f5b%09roll_2d_std%0ATraining%20dataset,%3Ca%20href%3D%27https%3A%2F%2Fupgini.com%2F%23data_sources%27%20target%3D%27_blank%27%20rel%3D%27noopener%20noreferrer%27%3EMarkets%20data%3C%2Fa%3E%09f_autofe_roll_2d_min_aa7719e1%09f_financial_date_silver_daydiff_25cf4951%09roll_2d_min%0ATraining%20dataset,%3Ca%20href%3D%27https%3A%2F%2Fupgini.com%2F%23data_sources%27%20target%3D%27_blank%27%20rel%3D%27noopener%20noreferrer%27%3EMarkets%20data%3C%2Fa%3E%09f_autofe_lag_3d_3c41924a%09f_financial_date_silver_daydiff_25cf4951%09lag_3d%0A'>\n",
              "                    <button>📨 Share</button>\n",
              "                </a>\n",
              "            </div>\n",
              "            <table class='upgini-df'><thead><th>Sources</th><th>Feature name</th><th>Feature 1</th><th>Function</th></thead><tbody><tr><td class='upgini-text'>Training dataset,<a href='https://upgini.com/#data_sources' target='_blank' rel='noopener noreferrer'>Calendar data</a></td><td class='upgini-text'>f_autofe_lag_7d_44ccb1e1</td><td class='upgini-text'>f_events_date_year_cos1_9014a856</td><td class='upgini-text'>lag_7d</td></tr><tr><td class='upgini-text'>Training dataset,<a href='https://upgini.com/#data_sources' target='_blank' rel='noopener noreferrer'>Calendar data</a></td><td class='upgini-text'>f_autofe_lag_3d_d168eb3e</td><td class='upgini-text'>f_events_date_week_sin1_847b5db1</td><td class='upgini-text'>lag_3d</td></tr><tr><td class='upgini-text'>Training dataset,<a href='https://upgini.com/#data_sources' target='_blank' rel='noopener noreferrer'>Markets data</a></td><td class='upgini-text'>f_autofe_lag_3d_5dba02da</td><td class='upgini-text'>f_financial_date_stoxx_043cbcd4</td><td class='upgini-text'>lag_3d</td></tr><tr><td class='upgini-text'>Training dataset,<a href='https://upgini.com/#data_sources' target='_blank' rel='noopener noreferrer'>Markets data</a></td><td class='upgini-text'>f_autofe_lag_7d_6354b8dc</td><td class='upgini-text'>f_financial_date_stoxx_043cbcd4</td><td class='upgini-text'>lag_7d</td></tr><tr><td class='upgini-text'>Training dataset,<a href='https://upgini.com/#data_sources' target='_blank' rel='noopener noreferrer'>Calendar data</a></td><td class='upgini-text'>f_autofe_lag_7d_24084e88</td><td class='upgini-text'>f_events_date_week_sin1_847b5db1</td><td class='upgini-text'>lag_7d</td></tr><tr><td class='upgini-text'>Training dataset,<a href='https://upgini.com/#data_sources' target='_blank' rel='noopener noreferrer'>Calendar data</a></td><td class='upgini-text'>f_autofe_lag_2d_1947d061</td><td class='upgini-text'>f_events_date_week_cos1_f6a8c1fc</td><td class='upgini-text'>lag_2d</td></tr><tr><td class='upgini-text'>Training dataset,<a href='https://upgini.com/#data_sources' target='_blank' rel='noopener noreferrer'>Calendar data</a></td><td class='upgini-text'>f_autofe_roll_7d_norm_mean_f4c75f3e</td><td class='upgini-text'>f_events_date_year_cos1_9014a856</td><td class='upgini-text'>roll_7d_norm_mean</td></tr><tr><td class='upgini-text'>Training dataset,<a href='https://upgini.com/#data_sources' target='_blank' rel='noopener noreferrer'>Markets data</a></td><td class='upgini-text'>f_autofe_lag_3d_7d332726</td><td class='upgini-text'>f_financial_date_gold_bf71e733</td><td class='upgini-text'>lag_3d</td></tr><tr><td class='upgini-text'>Training dataset,<a href='https://upgini.com/#data_sources' target='_blank' rel='noopener noreferrer'>Calendar data</a></td><td class='upgini-text'>f_autofe_lag_1d_5138dd83</td><td class='upgini-text'>f_events_date_week_sin2_e28440a5</td><td class='upgini-text'>lag_1d</td></tr><tr><td class='upgini-text'>Training dataset,<a href='https://upgini.com/#data_sources' target='_blank' rel='noopener noreferrer'>Calendar data</a></td><td class='upgini-text'>f_autofe_roll_7d_norm_mean_b8cbc4e4</td><td class='upgini-text'>f_events_date_week_cos2_b0a07cfc</td><td class='upgini-text'>roll_7d_norm_mean</td></tr><tr><td class='upgini-text'>Training dataset,<a href='https://upgini.com/#data_sources' target='_blank' rel='noopener noreferrer'>Calendar data</a></td><td class='upgini-text'>f_autofe_roll_3d_median_67a4ca4c</td><td class='upgini-text'>f_events_date_week_cos3_7525fe31</td><td class='upgini-text'>roll_3d_median</td></tr><tr><td class='upgini-text'>Training dataset,<a href='https://upgini.com/#data_sources' target='_blank' rel='noopener noreferrer'>Calendar data</a></td><td class='upgini-text'>f_autofe_roll_2d_min_bd3d6759</td><td class='upgini-text'>f_events_date_week_cos1_f6a8c1fc</td><td class='upgini-text'>roll_2d_min</td></tr><tr><td class='upgini-text'>Training dataset,<a href='https://upgini.com/#data_sources' target='_blank' rel='noopener noreferrer'>Markets data</a></td><td class='upgini-text'>f_autofe_lag_7d_298854c4</td><td class='upgini-text'>f_financial_date_natural_gas_7d_to_1y_7a6f300d</td><td class='upgini-text'>lag_7d</td></tr><tr><td class='upgini-text'>Training dataset,<a href='https://upgini.com/#data_sources' target='_blank' rel='noopener noreferrer'>Markets data</a></td><td class='upgini-text'>f_autofe_roll_3d_std_43db36b9</td><td class='upgini-text'>f_financial_date_crude_oil_1f195998</td><td class='upgini-text'>roll_3d_std</td></tr><tr><td class='upgini-text'>Training dataset,<a href='https://upgini.com/#data_sources' target='_blank' rel='noopener noreferrer'>Markets data</a></td><td class='upgini-text'>f_autofe_roll_3d_std_cf25c6ce</td><td class='upgini-text'>f_financial_date_stoxx_043cbcd4</td><td class='upgini-text'>roll_3d_std</td></tr><tr><td class='upgini-text'>Training dataset,<a href='https://upgini.com/#data_sources' target='_blank' rel='noopener noreferrer'>Markets data</a></td><td class='upgini-text'>f_autofe_lag_7d_80f1c53c</td><td class='upgini-text'>f_financial_date_gold_bf71e733</td><td class='upgini-text'>lag_7d</td></tr><tr><td class='upgini-text'>Training dataset,<a href='https://upgini.com/#data_sources' target='_blank' rel='noopener noreferrer'>Markets data</a></td><td class='upgini-text'>f_autofe_roll_7d_median_8e1a5fee</td><td class='upgini-text'>f_financial_date_vix_7d_to_1y_634c77eb</td><td class='upgini-text'>roll_7d_median</td></tr><tr><td class='upgini-text'>Training dataset,<a href='https://upgini.com/#data_sources' target='_blank' rel='noopener noreferrer'>Markets data</a></td><td class='upgini-text'>f_autofe_roll_3d_std_8d2902a0</td><td class='upgini-text'>f_financial_date_usd_eur_5d1b9c8f</td><td class='upgini-text'>roll_3d_std</td></tr><tr><td class='upgini-text'>Training dataset,<a href='https://upgini.com/#data_sources' target='_blank' rel='noopener noreferrer'>Markets data</a></td><td class='upgini-text'>f_autofe_roll_2d_norm_mean_f727ebb5</td><td class='upgini-text'>f_financial_date_usd_daydiff_8bcdeec4</td><td class='upgini-text'>roll_2d_norm_mean</td></tr><tr><td class='upgini-text'>Training dataset,<a href='https://upgini.com/#data_sources' target='_blank' rel='noopener noreferrer'>Markets data</a></td><td class='upgini-text'>f_autofe_roll_2d_std_5994058b</td><td class='upgini-text'>f_financial_date_vix_gap_b64bd2b9</td><td class='upgini-text'>roll_2d_std</td></tr><tr><td class='upgini-text'>Training dataset,<a href='https://upgini.com/#data_sources' target='_blank' rel='noopener noreferrer'>Markets data</a></td><td class='upgini-text'>f_autofe_lag_1d_1e473dd0</td><td class='upgini-text'>f_financial_date_usd_daydiff_8bcdeec4</td><td class='upgini-text'>lag_1d</td></tr><tr><td class='upgini-text'>Training dataset,<a href='https://upgini.com/#data_sources' target='_blank' rel='noopener noreferrer'>Calendar data</a></td><td class='upgini-text'>f_autofe_roll_3d_norm_mean_d3a34f3f</td><td class='upgini-text'>f_events_date_year_sin1_3c44bc64</td><td class='upgini-text'>roll_3d_norm_mean</td></tr><tr><td class='upgini-text'>Training dataset,<a href='https://upgini.com/#data_sources' target='_blank' rel='noopener noreferrer'>Markets data</a></td><td class='upgini-text'>f_autofe_roll_3d_std_e0a7813d</td><td class='upgini-text'>f_financial_date_usd_7419609a</td><td class='upgini-text'>roll_3d_std</td></tr><tr><td class='upgini-text'>Training dataset,<a href='https://upgini.com/#data_sources' target='_blank' rel='noopener noreferrer'>Markets data</a></td><td class='upgini-text'>f_autofe_roll_2d_norm_mean_85d150da</td><td class='upgini-text'>f_financial_date_gold_daydiff_6c8f15fb</td><td class='upgini-text'>roll_2d_norm_mean</td></tr><tr><td class='upgini-text'>Training dataset,<a href='https://upgini.com/#data_sources' target='_blank' rel='noopener noreferrer'>Calendar data</a></td><td class='upgini-text'>f_autofe_roll_2d_norm_mean_fe42d9a4</td><td class='upgini-text'>f_events_date_year_sin1_3c44bc64</td><td class='upgini-text'>roll_2d_norm_mean</td></tr><tr><td class='upgini-text'>Training dataset,<a href='https://upgini.com/#data_sources' target='_blank' rel='noopener noreferrer'>Markets data</a></td><td class='upgini-text'>f_autofe_roll_2d_std_6466a8eb</td><td class='upgini-text'>f_financial_date_natural_gas_92dac942</td><td class='upgini-text'>roll_2d_std</td></tr><tr><td class='upgini-text'>Training dataset,<a href='https://upgini.com/#data_sources' target='_blank' rel='noopener noreferrer'>Markets data</a></td><td class='upgini-text'>f_autofe_lag_1d_8255eb29</td><td class='upgini-text'>f_financial_date_usd_gap_615a0ec0</td><td class='upgini-text'>lag_1d</td></tr><tr><td class='upgini-text'>Training dataset,<a href='https://upgini.com/#data_sources' target='_blank' rel='noopener noreferrer'>Markets data</a></td><td class='upgini-text'>f_autofe_roll_2d_std_b88ae2e3</td><td class='upgini-text'>f_financial_date_silver_gap_f5b63f5b</td><td class='upgini-text'>roll_2d_std</td></tr><tr><td class='upgini-text'>Training dataset,<a href='https://upgini.com/#data_sources' target='_blank' rel='noopener noreferrer'>Markets data</a></td><td class='upgini-text'>f_autofe_roll_2d_min_aa7719e1</td><td class='upgini-text'>f_financial_date_silver_daydiff_25cf4951</td><td class='upgini-text'>roll_2d_min</td></tr><tr><td class='upgini-text'>Training dataset,<a href='https://upgini.com/#data_sources' target='_blank' rel='noopener noreferrer'>Markets data</a></td><td class='upgini-text'>f_autofe_lag_3d_3c41924a</td><td class='upgini-text'>f_financial_date_silver_daydiff_25cf4951</td><td class='upgini-text'>lag_3d</td></tr></tbody></table>\n",
              "        </div>\n",
              "        "
            ]
          },
          "metadata": {}
        },
        {
          "output_type": "stream",
          "name": "stdout",
          "text": []
        },
        {
          "output_type": "display_data",
          "data": {
            "text/plain": [
              "<IPython.core.display.HTML object>"
            ],
            "text/html": [
              "<a download=\"upgini-report-21e7f0ae-be3c-41dc-8125-31026bc99f2c.pdf\" href=\"data:application/pdf;base64,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\" target=\"_blank\">\n",
              "        <button>📊 Download PDF report</button></a>"
            ]
          },
          "metadata": {}
        },
        {
          "output_type": "stream",
          "name": "stdout",
          "text": [
            "\\\r"
          ]
        },
        {
          "output_type": "execute_result",
          "data": {
            "text/plain": [
              "  Dataset type   Rows  Mean target Baseline mean_absolute_percentage_error  \\\n",
              "0        Train  15148      49.9541                           0.273 ± 0.030   \n",
              "1       Eval 1   3739      58.0011                           0.268 ± 0.010   \n",
              "\n",
              "  Enriched mean_absolute_percentage_error    Uplift  \n",
              "0                           0.236 ± 0.033  0.036968  \n",
              "1                           0.216 ± 0.019  0.052341  "
            ],
            "text/html": [
              "\n",
              "  <div id=\"df-df3996ab-e35f-4807-9992-67efb9f52b6a\" class=\"colab-df-container\">\n",
              "    <div>\n",
              "<style scoped>\n",
              "    .dataframe tbody tr th:only-of-type {\n",
              "        vertical-align: middle;\n",
              "    }\n",
              "\n",
              "    .dataframe tbody tr th {\n",
              "        vertical-align: top;\n",
              "    }\n",
              "\n",
              "    .dataframe thead th {\n",
              "        text-align: right;\n",
              "    }\n",
              "</style>\n",
              "<table border=\"1\" class=\"dataframe\">\n",
              "  <thead>\n",
              "    <tr style=\"text-align: right;\">\n",
              "      <th></th>\n",
              "      <th>Dataset type</th>\n",
              "      <th>Rows</th>\n",
              "      <th>Mean target</th>\n",
              "      <th>Baseline mean_absolute_percentage_error</th>\n",
              "      <th>Enriched mean_absolute_percentage_error</th>\n",
              "      <th>Uplift</th>\n",
              "    </tr>\n",
              "  </thead>\n",
              "  <tbody>\n",
              "    <tr>\n",
              "      <th>0</th>\n",
              "      <td>Train</td>\n",
              "      <td>15148</td>\n",
              "      <td>49.9541</td>\n",
              "      <td>0.273 ± 0.030</td>\n",
              "      <td>0.236 ± 0.033</td>\n",
              "      <td>0.036968</td>\n",
              "    </tr>\n",
              "    <tr>\n",
              "      <th>1</th>\n",
              "      <td>Eval 1</td>\n",
              "      <td>3739</td>\n",
              "      <td>58.0011</td>\n",
              "      <td>0.268 ± 0.010</td>\n",
              "      <td>0.216 ± 0.019</td>\n",
              "      <td>0.052341</td>\n",
              "    </tr>\n",
              "  </tbody>\n",
              "</table>\n",
              "</div>\n",
              "    <div class=\"colab-df-buttons\">\n",
              "\n",
              "  <div class=\"colab-df-container\">\n",
              "    <button class=\"colab-df-convert\" onclick=\"convertToInteractive('df-df3996ab-e35f-4807-9992-67efb9f52b6a')\"\n",
              "            title=\"Convert this dataframe to an interactive table.\"\n",
              "            style=\"display:none;\">\n",
              "\n",
              "  <svg xmlns=\"http://www.w3.org/2000/svg\" height=\"24px\" viewBox=\"0 -960 960 960\">\n",
              "    <path d=\"M120-120v-720h720v720H120Zm60-500h600v-160H180v160Zm220 220h160v-160H400v160Zm0 220h160v-160H400v160ZM180-400h160v-160H180v160Zm440 0h160v-160H620v160ZM180-180h160v-160H180v160Zm440 0h160v-160H620v160Z\"/>\n",
              "  </svg>\n",
              "    </button>\n",
              "\n",
              "  <style>\n",
              "    .colab-df-container {\n",
              "      display:flex;\n",
              "      gap: 12px;\n",
              "    }\n",
              "\n",
              "    .colab-df-convert {\n",
              "      background-color: #E8F0FE;\n",
              "      border: none;\n",
              "      border-radius: 50%;\n",
              "      cursor: pointer;\n",
              "      display: none;\n",
              "      fill: #1967D2;\n",
              "      height: 32px;\n",
              "      padding: 0 0 0 0;\n",
              "      width: 32px;\n",
              "    }\n",
              "\n",
              "    .colab-df-convert:hover {\n",
              "      background-color: #E2EBFA;\n",
              "      box-shadow: 0px 1px 2px rgba(60, 64, 67, 0.3), 0px 1px 3px 1px rgba(60, 64, 67, 0.15);\n",
              "      fill: #174EA6;\n",
              "    }\n",
              "\n",
              "    .colab-df-buttons div {\n",
              "      margin-bottom: 4px;\n",
              "    }\n",
              "\n",
              "    [theme=dark] .colab-df-convert {\n",
              "      background-color: #3B4455;\n",
              "      fill: #D2E3FC;\n",
              "    }\n",
              "\n",
              "    [theme=dark] .colab-df-convert:hover {\n",
              "      background-color: #434B5C;\n",
              "      box-shadow: 0px 1px 3px 1px rgba(0, 0, 0, 0.15);\n",
              "      filter: drop-shadow(0px 1px 2px rgba(0, 0, 0, 0.3));\n",
              "      fill: #FFFFFF;\n",
              "    }\n",
              "  </style>\n",
              "\n",
              "    <script>\n",
              "      const buttonEl =\n",
              "        document.querySelector('#df-df3996ab-e35f-4807-9992-67efb9f52b6a button.colab-df-convert');\n",
              "      buttonEl.style.display =\n",
              "        google.colab.kernel.accessAllowed ? 'block' : 'none';\n",
              "\n",
              "      async function convertToInteractive(key) {\n",
              "        const element = document.querySelector('#df-df3996ab-e35f-4807-9992-67efb9f52b6a');\n",
              "        const dataTable =\n",
              "          await google.colab.kernel.invokeFunction('convertToInteractive',\n",
              "                                                    [key], {});\n",
              "        if (!dataTable) return;\n",
              "\n",
              "        const docLinkHtml = 'Like what you see? Visit the ' +\n",
              "          '<a target=\"_blank\" href=https://colab.research.google.com/notebooks/data_table.ipynb>data table notebook</a>'\n",
              "          + ' to learn more about interactive tables.';\n",
              "        element.innerHTML = '';\n",
              "        dataTable['output_type'] = 'display_data';\n",
              "        await google.colab.output.renderOutput(dataTable, element);\n",
              "        const docLink = document.createElement('div');\n",
              "        docLink.innerHTML = docLinkHtml;\n",
              "        element.appendChild(docLink);\n",
              "      }\n",
              "    </script>\n",
              "  </div>\n",
              "\n",
              "\n",
              "<div id=\"df-d5673a5e-fc66-4927-8398-d052ebd103ec\">\n",
              "  <button class=\"colab-df-quickchart\" onclick=\"quickchart('df-d5673a5e-fc66-4927-8398-d052ebd103ec')\"\n",
              "            title=\"Suggest charts\"\n",
              "            style=\"display:none;\">\n",
              "\n",
              "<svg xmlns=\"http://www.w3.org/2000/svg\" height=\"24px\"viewBox=\"0 0 24 24\"\n",
              "     width=\"24px\">\n",
              "    <g>\n",
              "        <path d=\"M19 3H5c-1.1 0-2 .9-2 2v14c0 1.1.9 2 2 2h14c1.1 0 2-.9 2-2V5c0-1.1-.9-2-2-2zM9 17H7v-7h2v7zm4 0h-2V7h2v10zm4 0h-2v-4h2v4z\"/>\n",
              "    </g>\n",
              "</svg>\n",
              "  </button>\n",
              "\n",
              "<style>\n",
              "  .colab-df-quickchart {\n",
              "      --bg-color: #E8F0FE;\n",
              "      --fill-color: #1967D2;\n",
              "      --hover-bg-color: #E2EBFA;\n",
              "      --hover-fill-color: #174EA6;\n",
              "      --disabled-fill-color: #AAA;\n",
              "      --disabled-bg-color: #DDD;\n",
              "  }\n",
              "\n",
              "  [theme=dark] .colab-df-quickchart {\n",
              "      --bg-color: #3B4455;\n",
              "      --fill-color: #D2E3FC;\n",
              "      --hover-bg-color: #434B5C;\n",
              "      --hover-fill-color: #FFFFFF;\n",
              "      --disabled-bg-color: #3B4455;\n",
              "      --disabled-fill-color: #666;\n",
              "  }\n",
              "\n",
              "  .colab-df-quickchart {\n",
              "    background-color: var(--bg-color);\n",
              "    border: none;\n",
              "    border-radius: 50%;\n",
              "    cursor: pointer;\n",
              "    display: none;\n",
              "    fill: var(--fill-color);\n",
              "    height: 32px;\n",
              "    padding: 0;\n",
              "    width: 32px;\n",
              "  }\n",
              "\n",
              "  .colab-df-quickchart:hover {\n",
              "    background-color: var(--hover-bg-color);\n",
              "    box-shadow: 0 1px 2px rgba(60, 64, 67, 0.3), 0 1px 3px 1px rgba(60, 64, 67, 0.15);\n",
              "    fill: var(--button-hover-fill-color);\n",
              "  }\n",
              "\n",
              "  .colab-df-quickchart-complete:disabled,\n",
              "  .colab-df-quickchart-complete:disabled:hover {\n",
              "    background-color: var(--disabled-bg-color);\n",
              "    fill: var(--disabled-fill-color);\n",
              "    box-shadow: none;\n",
              "  }\n",
              "\n",
              "  .colab-df-spinner {\n",
              "    border: 2px solid var(--fill-color);\n",
              "    border-color: transparent;\n",
              "    border-bottom-color: var(--fill-color);\n",
              "    animation:\n",
              "      spin 1s steps(1) infinite;\n",
              "  }\n",
              "\n",
              "  @keyframes spin {\n",
              "    0% {\n",
              "      border-color: transparent;\n",
              "      border-bottom-color: var(--fill-color);\n",
              "      border-left-color: var(--fill-color);\n",
              "    }\n",
              "    20% {\n",
              "      border-color: transparent;\n",
              "      border-left-color: var(--fill-color);\n",
              "      border-top-color: var(--fill-color);\n",
              "    }\n",
              "    30% {\n",
              "      border-color: transparent;\n",
              "      border-left-color: var(--fill-color);\n",
              "      border-top-color: var(--fill-color);\n",
              "      border-right-color: var(--fill-color);\n",
              "    }\n",
              "    40% {\n",
              "      border-color: transparent;\n",
              "      border-right-color: var(--fill-color);\n",
              "      border-top-color: var(--fill-color);\n",
              "    }\n",
              "    60% {\n",
              "      border-color: transparent;\n",
              "      border-right-color: var(--fill-color);\n",
              "    }\n",
              "    80% {\n",
              "      border-color: transparent;\n",
              "      border-right-color: var(--fill-color);\n",
              "      border-bottom-color: var(--fill-color);\n",
              "    }\n",
              "    90% {\n",
              "      border-color: transparent;\n",
              "      border-bottom-color: var(--fill-color);\n",
              "    }\n",
              "  }\n",
              "</style>\n",
              "\n",
              "  <script>\n",
              "    async function quickchart(key) {\n",
              "      const quickchartButtonEl =\n",
              "        document.querySelector('#' + key + ' button');\n",
              "      quickchartButtonEl.disabled = true;  // To prevent multiple clicks.\n",
              "      quickchartButtonEl.classList.add('colab-df-spinner');\n",
              "      try {\n",
              "        const charts = await google.colab.kernel.invokeFunction(\n",
              "            'suggestCharts', [key], {});\n",
              "      } catch (error) {\n",
              "        console.error('Error during call to suggestCharts:', error);\n",
              "      }\n",
              "      quickchartButtonEl.classList.remove('colab-df-spinner');\n",
              "      quickchartButtonEl.classList.add('colab-df-quickchart-complete');\n",
              "    }\n",
              "    (() => {\n",
              "      let quickchartButtonEl =\n",
              "        document.querySelector('#df-d5673a5e-fc66-4927-8398-d052ebd103ec button');\n",
              "      quickchartButtonEl.style.display =\n",
              "        google.colab.kernel.accessAllowed ? 'block' : 'none';\n",
              "    })();\n",
              "  </script>\n",
              "</div>\n",
              "\n",
              "    </div>\n",
              "  </div>\n"
            ],
            "application/vnd.google.colaboratory.intrinsic+json": {
              "type": "dataframe",
              "summary": "{\n  \"name\": \")\",\n  \"rows\": 2,\n  \"fields\": [\n    {\n      \"column\": \"Dataset type\",\n      \"properties\": {\n        \"dtype\": \"string\",\n        \"num_unique_values\": 2,\n        \"samples\": [\n          \"Eval 1\",\n          \"Train\"\n        ],\n        \"semantic_type\": \"\",\n        \"description\": \"\"\n      }\n    },\n    {\n      \"column\": \"Rows\",\n      \"properties\": {\n        \"dtype\": \"number\",\n        \"std\": 8067,\n        \"min\": 3739,\n        \"max\": 15148,\n        \"num_unique_values\": 2,\n        \"samples\": [\n          3739,\n          15148\n        ],\n        \"semantic_type\": \"\",\n        \"description\": \"\"\n      }\n    },\n    {\n      \"column\": \"Mean target\",\n      \"properties\": {\n        \"dtype\": \"number\",\n        \"std\": 5.69008826820815,\n        \"min\": 49.9541,\n        \"max\": 58.0011,\n        \"num_unique_values\": 2,\n        \"samples\": [\n          58.0011,\n          49.9541\n        ],\n        \"semantic_type\": \"\",\n        \"description\": \"\"\n      }\n    },\n    {\n      \"column\": \"Baseline mean_absolute_percentage_error\",\n      \"properties\": {\n        \"dtype\": \"string\",\n        \"num_unique_values\": 2,\n        \"samples\": [\n          \"0.268 \\u00b1 0.010\",\n          \"0.273 \\u00b1 0.030\"\n        ],\n        \"semantic_type\": \"\",\n        \"description\": \"\"\n      }\n    },\n    {\n      \"column\": \"Enriched mean_absolute_percentage_error\",\n      \"properties\": {\n        \"dtype\": \"string\",\n        \"num_unique_values\": 2,\n        \"samples\": [\n          \"0.216 \\u00b1 0.019\",\n          \"0.236 \\u00b1 0.033\"\n        ],\n        \"semantic_type\": \"\",\n        \"description\": \"\"\n      }\n    },\n    {\n      \"column\": \"Uplift\",\n      \"properties\": {\n        \"dtype\": \"number\",\n        \"std\": 0.010869977085692184,\n        \"min\": 0.03696849595818766,\n        \"max\": 0.052340964975458315,\n        \"num_unique_values\": 2,\n        \"samples\": [\n          0.052340964975458315,\n          0.03696849595818766\n        ],\n        \"semantic_type\": \"\",\n        \"description\": \"\"\n      }\n    }\n  ]\n}"
            }
          },
          "metadata": {},
          "execution_count": 14
        }
      ]
    },
    {
      "cell_type": "code",
      "source": [
        "#8\n",
        "sample_data = train_features.sample(1000)\n",
        "enriched_sample = enricher.transform(sample_data, keep_input=True)\n",
        "print(enriched_sample.head())"
      ],
      "metadata": {
        "id": "_qUfX0XiMebf",
        "colab": {
          "base_uri": "https://localhost:8080/",
          "height": 1437
        },
        "outputId": "390d770c-45b5-45ec-f21b-591a9e768976"
      },
      "execution_count": 28,
      "outputs": [
        {
          "output_type": "display_data",
          "data": {
            "text/plain": [
              "[============================================================] 100% Finished"
            ],
            "text/html": [
              "<progress style='width:60ex' max='100' value='100'></progress>  100% Finished</br>"
            ]
          },
          "metadata": {}
        },
        {
          "output_type": "stream",
          "name": "stdout",
          "text": [
            "You use Trial access to Upgini data enrichment. Limit for Trial: 1000 rows. You have already enriched: 0 rows.\n",
            "WARNING #1: Search started with DATE search key only\n",
            "Try to add other keys like the COUNTRY, POSTAL_CODE, PHONE NUMBER, EMAIL/HEM, IP to your training dataset\n",
            "for search through all the available data sources.\n",
            "See docs https://github.com/upgini/upgini#-total-239-countries-and-up-to-41-years-of-history\n",
            "\n"
          ]
        },
        {
          "output_type": "display_data",
          "data": {
            "text/plain": [
              "<IPython.core.display.HTML object>"
            ],
            "text/html": [
              "<table><tr><th style='font-weight:bold'>Column name</th><th style='font-weight:bold'>Status</th><th style='font-weight:bold'>Errors</th></tr><tr><td>date</td><td style='background-color:#DAF7A6;color:black'>All valid</td><td>-</td></tr></table>"
            ]
          },
          "metadata": {}
        },
        {
          "output_type": "stream",
          "name": "stdout",
          "text": [
            "\n",
            "\n",
            "Running search request, search_id=c6a8ebe1-a434-47bd-bbe0-8c5862734279\n",
            "We'll send email notification once it's completed, just use your personal api_key from profile.upgini.com\n",
            "\n",
            "Retrieving selected features from data sources...\n",
            "            date store item  f_events_date_year_cos1_9014a856  \\\n",
            "2641  2013-09-07     2   39                         -0.251190   \n",
            "9863  2015-08-01     3   11                         -0.777597   \n",
            "13866 2016-08-28     8   46                         -0.408304   \n",
            "8681  2015-04-09     9   45                         -0.284359   \n",
            "7292  2014-11-25     2   25                          0.893919   \n",
            "\n",
            "       f_autofe_lag_7d_44ccb1e1  f_autofe_lag_3d_d168eb3e  \\\n",
            "2641                        NaN                       NaN   \n",
            "9863                        NaN                       NaN   \n",
            "13866                       NaN                       NaN   \n",
            "8681                        NaN                       NaN   \n",
            "7292                        NaN                       NaN   \n",
            "\n",
            "       f_events_date_week_sin1_847b5db1  f_autofe_lag_3d_5dba02da  \\\n",
            "2641                          -0.974928                       NaN   \n",
            "9863                          -0.974928                       NaN   \n",
            "13866                         -0.781831                       NaN   \n",
            "8681                           0.433884                       NaN   \n",
            "7292                           0.781831                       NaN   \n",
            "\n",
            "       f_financial_date_gold_bf71e733  f_autofe_lag_7d_6354b8dc  ...  \\\n",
            "2641                      1386.699951                       NaN  ...   \n",
            "9863                      1094.900024                       NaN  ...   \n",
            "13866                     1321.500000                       NaN  ...   \n",
            "8681                      1203.099976                       NaN  ...   \n",
            "7292                      1195.500000                       NaN  ...   \n",
            "\n",
            "       f_autofe_lag_1d_1e473dd0  f_autofe_roll_3d_norm_mean_d3a34f3f  \\\n",
            "2641                        NaN                                  NaN   \n",
            "9863                   0.419998                             1.022007   \n",
            "13866                  0.860001                             1.007986   \n",
            "8681                   0.770004                                  NaN   \n",
            "7292                        NaN                                  NaN   \n",
            "\n",
            "       f_autofe_roll_3d_std_e0a7813d  f_autofe_roll_2d_norm_mean_85d150da  \\\n",
            "2641                             NaN                                  NaN   \n",
            "9863                        0.295689                           -28.807326   \n",
            "13866                       0.461882                            -0.000000   \n",
            "8681                             NaN                             1.159996   \n",
            "7292                             NaN                                  NaN   \n",
            "\n",
            "       f_autofe_roll_2d_norm_mean_fe42d9a4  f_autofe_roll_2d_std_6466a8eb  \\\n",
            "2641                                   NaN                            NaN   \n",
            "9863                              1.010834                       0.036769   \n",
            "13866                             1.003928                       0.000000   \n",
            "8681                              0.997527                       0.043134   \n",
            "7292                                   NaN                            NaN   \n",
            "\n",
            "       f_autofe_lag_1d_8255eb29  f_autofe_roll_2d_std_b88ae2e3  \\\n",
            "2641                        NaN                            NaN   \n",
            "9863                   0.159996                       0.104652   \n",
            "13866                 -0.059998                       0.153442   \n",
            "8681                  -0.050003                       0.081318   \n",
            "7292                        NaN                            NaN   \n",
            "\n",
            "       f_autofe_roll_2d_min_aa7719e1  f_autofe_lag_3d_3c41924a  \n",
            "2641                             NaN                       NaN  \n",
            "9863                       -0.108999                       NaN  \n",
            "13866                      -0.049999                       NaN  \n",
            "8681                        0.000000                       NaN  \n",
            "7292                             NaN                       NaN  \n",
            "\n",
            "[5 rows x 38 columns]\n"
          ]
        }
      ]
    },
    {
      "cell_type": "code",
      "source": [
        "#8\n",
        "sample_data1 = test_features.sample(1000)\n",
        "enriched_sample_test = enricher.transform(sample_data1, keep_input=True)\n",
        "print(enriched_sample_test.head())"
      ],
      "metadata": {
        "colab": {
          "base_uri": "https://localhost:8080/",
          "height": 1437
        },
        "id": "gt9Jx6vu3jqN",
        "outputId": "8589b987-faa8-4a7c-c044-83c4f7954cbf"
      },
      "execution_count": 29,
      "outputs": [
        {
          "output_type": "display_data",
          "data": {
            "text/plain": [
              "[============================================================] 100% Finished"
            ],
            "text/html": [
              "<progress style='width:60ex' max='100' value='100'></progress>  100% Finished</br>"
            ]
          },
          "metadata": {}
        },
        {
          "output_type": "stream",
          "name": "stdout",
          "text": [
            "You use Trial access to Upgini data enrichment. Limit for Trial: 1000 rows. You have already enriched: 0 rows.\n",
            "WARNING #1: Search started with DATE search key only\n",
            "Try to add other keys like the COUNTRY, POSTAL_CODE, PHONE NUMBER, EMAIL/HEM, IP to your training dataset\n",
            "for search through all the available data sources.\n",
            "See docs https://github.com/upgini/upgini#-total-239-countries-and-up-to-41-years-of-history\n",
            "\n"
          ]
        },
        {
          "output_type": "display_data",
          "data": {
            "text/plain": [
              "<IPython.core.display.HTML object>"
            ],
            "text/html": [
              "<table><tr><th style='font-weight:bold'>Column name</th><th style='font-weight:bold'>Status</th><th style='font-weight:bold'>Errors</th></tr><tr><td>date</td><td style='background-color:#DAF7A6;color:black'>All valid</td><td>-</td></tr></table>"
            ]
          },
          "metadata": {}
        },
        {
          "output_type": "stream",
          "name": "stdout",
          "text": [
            "\n",
            "\n",
            "Running search request, search_id=49074e86-9dab-4fcc-818c-20f256e7bdac\n",
            "We'll send email notification once it's completed, just use your personal api_key from profile.upgini.com\n",
            "\n",
            "Retrieving selected features from data sources...\n",
            "            date store item  f_events_date_year_cos1_9014a856  \\\n",
            "17564 2017-08-18     6   29                         -0.563151   \n",
            "16249 2017-04-14     2   10                         -0.365723   \n",
            "17072 2017-06-29     5   48                         -0.993747   \n",
            "18718 2017-12-06     4   23                          0.962309   \n",
            "17825 2017-09-13     1    6                         -0.150055   \n",
            "\n",
            "       f_autofe_lag_7d_44ccb1e1  f_autofe_lag_3d_d168eb3e  \\\n",
            "17564                 -0.658402                  0.781831   \n",
            "16249                 -0.251190                  0.781831   \n",
            "17072                 -0.999963                  0.000000   \n",
            "18718                  0.922640                 -0.781831   \n",
            "17825                       NaN                       NaN   \n",
            "\n",
            "       f_events_date_week_sin1_847b5db1  f_autofe_lag_3d_5dba02da  \\\n",
            "17564                         -0.433884                376.160004   \n",
            "16249                         -0.433884                381.250000   \n",
            "17072                          0.433884                387.619995   \n",
            "18718                          0.974928                383.970001   \n",
            "17825                          0.974928                       NaN   \n",
            "\n",
            "       f_financial_date_gold_bf71e733  f_autofe_lag_7d_6354b8dc  ...  \\\n",
            "17564                     1286.400024                376.049988  ...   \n",
            "16249                     1285.900024                380.769989  ...   \n",
            "17072                     1248.000000                388.500000  ...   \n",
            "18718                     1261.599976                387.019989  ...   \n",
            "17825                     1328.000000                       NaN  ...   \n",
            "\n",
            "       f_autofe_lag_1d_1e473dd0  f_autofe_roll_3d_norm_mean_d3a34f3f  \\\n",
            "17564                 -0.349998                             1.012122   \n",
            "16249                  0.040001                             0.993526   \n",
            "17072                 -0.959999                             1.181234   \n",
            "18718                 -0.029999                             0.942813   \n",
            "17825                  0.000000                             1.002867   \n",
            "\n",
            "       f_autofe_roll_3d_std_e0a7813d  f_autofe_roll_2d_norm_mean_85d150da  \\\n",
            "17564                       0.182300                             0.634144   \n",
            "16249                       0.112399                             1.333243   \n",
            "17072                       0.707388                             0.175440   \n",
            "18718                       0.241728                             2.300008   \n",
            "17825                       0.321403                             2.000000   \n",
            "\n",
            "       f_autofe_roll_2d_norm_mean_fe42d9a4  f_autofe_roll_2d_std_6466a8eb  \\\n",
            "17564                             1.005975                       0.027577   \n",
            "16249                             0.996703                       0.028284   \n",
            "17072                             1.083039                       0.021213   \n",
            "18718                             0.970516                       0.050204   \n",
            "17825                             1.001382                       0.036062   \n",
            "\n",
            "       f_autofe_lag_1d_8255eb29  f_autofe_roll_2d_std_b88ae2e3  \\\n",
            "17564                 -0.010002                       0.147078   \n",
            "16249                  0.029999                       0.077075   \n",
            "17072                  0.000000                       0.108187   \n",
            "18718                  0.320000                       0.033233   \n",
            "17825                  0.529999                       0.077784   \n",
            "\n",
            "       f_autofe_roll_2d_min_aa7719e1  f_autofe_lag_3d_3c41924a  \n",
            "17564                      -0.099998                  0.038000  \n",
            "16249                      -0.041000                  0.073999  \n",
            "17072                      -0.030001                  0.000000  \n",
            "18718                      -0.277000                  0.000000  \n",
            "17825                      -0.083000                       NaN  \n",
            "\n",
            "[5 rows x 38 columns]\n"
          ]
        }
      ]
    },
    {
      "cell_type": "code",
      "source": [
        "#9\n",
        "model.fit(train_features,train_target)\n",
        "preds = model.predict(test_features)\n",
        "eval_metric(test_target.values,preds,\"SMAPE\")"
      ],
      "metadata": {
        "colab": {
          "base_uri": "https://localhost:8080/",
          "height": 0
        },
        "id": "dMB_SQkk5gdy",
        "outputId": "0b8c87b3-c971-4466-974f-77f2a940a3b7"
      },
      "execution_count": 26,
      "outputs": [
        {
          "output_type": "execute_result",
          "data": {
            "text/plain": [
              "[37.65141857448004]"
            ]
          },
          "metadata": {},
          "execution_count": 26
        }
      ]
    },
    {
      "cell_type": "code",
      "source": [
        "sample_data = train_features.sample(1000, random_state=42)\n",
        "train_target_sample = train_target.loc[sample_data.index]\n",
        "\n",
        "enriched_sample = enricher.transform(sample_data, keep_input=True)\n",
        "\n",
        "model.fit(enriched_sample, train_target_sample)\n",
        "\n",
        "test_sample = test_features.sample(1000, random_state=42)\n",
        "\n",
        "enriched_sample_test = enricher.transform(test_sample, keep_input=True)\n",
        "\n",
        "enriched_preds = model.predict(enriched_sample_test)\n",
        "\n",
        "test_target_sample = test_target.loc[test_sample.index]\n",
        "eval_metric(test_target_sample.values, enriched_preds, \"SMAPE\")"
      ],
      "metadata": {
        "colab": {
          "base_uri": "https://localhost:8080/",
          "height": 588
        },
        "id": "veeOHguQ8fQs",
        "outputId": "6c1d34be-8d5d-4d5f-9303-1eb21418cdae"
      },
      "execution_count": 36,
      "outputs": [
        {
          "output_type": "display_data",
          "data": {
            "text/plain": [
              "[============================================================] 100% Finished"
            ],
            "text/html": [
              "<progress style='width:60ex' max='100' value='100'></progress>  100% Finished</br>"
            ]
          },
          "metadata": {}
        },
        {
          "output_type": "stream",
          "name": "stdout",
          "text": [
            "You use Trial access to Upgini data enrichment. Limit for Trial: 1000 rows. You have already enriched: 0 rows.\n",
            "WARNING #1: Search started with DATE search key only\n",
            "Try to add other keys like the COUNTRY, POSTAL_CODE, PHONE NUMBER, EMAIL/HEM, IP to your training dataset\n",
            "for search through all the available data sources.\n",
            "See docs https://github.com/upgini/upgini#-total-239-countries-and-up-to-41-years-of-history\n",
            "\n"
          ]
        },
        {
          "output_type": "display_data",
          "data": {
            "text/plain": [
              "<IPython.core.display.HTML object>"
            ],
            "text/html": [
              "<table><tr><th style='font-weight:bold'>Column name</th><th style='font-weight:bold'>Status</th><th style='font-weight:bold'>Errors</th></tr><tr><td>date</td><td style='background-color:#DAF7A6;color:black'>All valid</td><td>-</td></tr></table>"
            ]
          },
          "metadata": {}
        },
        {
          "output_type": "stream",
          "name": "stdout",
          "text": [
            "\n",
            "\n",
            "Running search request, search_id=b9a00bde-16f4-46fd-974c-4833944d56e9\n",
            "We'll send email notification once it's completed, just use your personal api_key from profile.upgini.com\n",
            "\n",
            "Retrieving selected features from data sources...\n"
          ]
        },
        {
          "output_type": "display_data",
          "data": {
            "text/plain": [
              "[============================================================] 100% Finished"
            ],
            "text/html": [
              "<progress style='width:60ex' max='100' value='100'></progress>  100% Finished</br>"
            ]
          },
          "metadata": {}
        },
        {
          "output_type": "stream",
          "name": "stdout",
          "text": [
            "You use Trial access to Upgini data enrichment. Limit for Trial: 1000 rows. You have already enriched: 0 rows.\n",
            "WARNING #1: Search started with DATE search key only\n",
            "Try to add other keys like the COUNTRY, POSTAL_CODE, PHONE NUMBER, EMAIL/HEM, IP to your training dataset\n",
            "for search through all the available data sources.\n",
            "See docs https://github.com/upgini/upgini#-total-239-countries-and-up-to-41-years-of-history\n",
            "\n"
          ]
        },
        {
          "output_type": "display_data",
          "data": {
            "text/plain": [
              "<IPython.core.display.HTML object>"
            ],
            "text/html": [
              "<table><tr><th style='font-weight:bold'>Column name</th><th style='font-weight:bold'>Status</th><th style='font-weight:bold'>Errors</th></tr><tr><td>date</td><td style='background-color:#DAF7A6;color:black'>All valid</td><td>-</td></tr></table>"
            ]
          },
          "metadata": {}
        },
        {
          "output_type": "stream",
          "name": "stdout",
          "text": [
            "\n",
            "\n",
            "Running search request, search_id=c777330f-dc66-491c-9e31-10806fefd517\n",
            "We'll send email notification once it's completed, just use your personal api_key from profile.upgini.com\n",
            "\n",
            "Retrieving selected features from data sources...\n"
          ]
        },
        {
          "output_type": "execute_result",
          "data": {
            "text/plain": [
              "[27.506429632136]"
            ]
          },
          "metadata": {},
          "execution_count": 36
        }
      ]
    }
  ]
}
